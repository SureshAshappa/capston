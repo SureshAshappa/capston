{
 "cells": [
  {
   "cell_type": "code",
   "execution_count": 1,
   "id": "70a9ea94",
   "metadata": {},
   "outputs": [],
   "source": [
    "import numpy as np\n",
    "import pandas as pd\n",
    "import matplotlib.pyplot as plt\n",
    "import seaborn as sns\n",
    "import statsmodels.api as sm\n",
    "import scipy\n",
    "from statsmodels.formula.api import ols\n",
    "from scipy.stats import chi2_contingency\n",
    "from warnings import filterwarnings\n",
    "from statsmodels.stats.multicomp import pairwise_tukeyhsd\n",
    "from scipy import stats\n",
    "filterwarnings('ignore')\n",
    "plt.rcParams['figure.figsize'] = (15,8)"
   ]
  },
  {
   "cell_type": "code",
   "execution_count": 2,
   "id": "e70f67da",
   "metadata": {},
   "outputs": [],
   "source": [
    "data = pd.read_csv(\"audit_risk.csv\")"
   ]
  },
  {
   "cell_type": "code",
   "execution_count": 3,
   "id": "00f4829a",
   "metadata": {},
   "outputs": [
    {
     "data": {
      "text/html": [
       "<div>\n",
       "<style scoped>\n",
       "    .dataframe tbody tr th:only-of-type {\n",
       "        vertical-align: middle;\n",
       "    }\n",
       "\n",
       "    .dataframe tbody tr th {\n",
       "        vertical-align: top;\n",
       "    }\n",
       "\n",
       "    .dataframe thead th {\n",
       "        text-align: right;\n",
       "    }\n",
       "</style>\n",
       "<table border=\"1\" class=\"dataframe\">\n",
       "  <thead>\n",
       "    <tr style=\"text-align: right;\">\n",
       "      <th></th>\n",
       "      <th>Sector_score</th>\n",
       "      <th>LOCATION_ID</th>\n",
       "      <th>PARA_A</th>\n",
       "      <th>Score_A</th>\n",
       "      <th>Risk_A</th>\n",
       "      <th>PARA_B</th>\n",
       "      <th>Score_B</th>\n",
       "      <th>Risk_B</th>\n",
       "      <th>TOTAL</th>\n",
       "      <th>numbers</th>\n",
       "      <th>...</th>\n",
       "      <th>RiSk_E</th>\n",
       "      <th>History</th>\n",
       "      <th>Prob</th>\n",
       "      <th>Risk_F</th>\n",
       "      <th>Score</th>\n",
       "      <th>Inherent_Risk</th>\n",
       "      <th>CONTROL_RISK</th>\n",
       "      <th>Detection_Risk</th>\n",
       "      <th>Audit_Risk</th>\n",
       "      <th>Risk</th>\n",
       "    </tr>\n",
       "  </thead>\n",
       "  <tbody>\n",
       "    <tr>\n",
       "      <th>42</th>\n",
       "      <td>3.89</td>\n",
       "      <td>19</td>\n",
       "      <td>0.00</td>\n",
       "      <td>0.2</td>\n",
       "      <td>0.000</td>\n",
       "      <td>2.27</td>\n",
       "      <td>0.2</td>\n",
       "      <td>0.454</td>\n",
       "      <td>2.27</td>\n",
       "      <td>5.0</td>\n",
       "      <td>...</td>\n",
       "      <td>0.4</td>\n",
       "      <td>0</td>\n",
       "      <td>0.2</td>\n",
       "      <td>0.0</td>\n",
       "      <td>2.0</td>\n",
       "      <td>2.378</td>\n",
       "      <td>0.4</td>\n",
       "      <td>0.5</td>\n",
       "      <td>0.4756</td>\n",
       "      <td>0</td>\n",
       "    </tr>\n",
       "    <tr>\n",
       "      <th>751</th>\n",
       "      <td>55.57</td>\n",
       "      <td>13</td>\n",
       "      <td>1.29</td>\n",
       "      <td>0.4</td>\n",
       "      <td>0.516</td>\n",
       "      <td>0.00</td>\n",
       "      <td>0.2</td>\n",
       "      <td>0.000</td>\n",
       "      <td>1.29</td>\n",
       "      <td>5.0</td>\n",
       "      <td>...</td>\n",
       "      <td>0.4</td>\n",
       "      <td>0</td>\n",
       "      <td>0.2</td>\n",
       "      <td>0.0</td>\n",
       "      <td>2.2</td>\n",
       "      <td>1.916</td>\n",
       "      <td>0.4</td>\n",
       "      <td>0.5</td>\n",
       "      <td>0.3832</td>\n",
       "      <td>0</td>\n",
       "    </tr>\n",
       "    <tr>\n",
       "      <th>582</th>\n",
       "      <td>55.57</td>\n",
       "      <td>2</td>\n",
       "      <td>0.00</td>\n",
       "      <td>0.2</td>\n",
       "      <td>0.000</td>\n",
       "      <td>0.00</td>\n",
       "      <td>0.2</td>\n",
       "      <td>0.000</td>\n",
       "      <td>0.00</td>\n",
       "      <td>5.5</td>\n",
       "      <td>...</td>\n",
       "      <td>1.2</td>\n",
       "      <td>0</td>\n",
       "      <td>0.2</td>\n",
       "      <td>0.0</td>\n",
       "      <td>3.2</td>\n",
       "      <td>54.430</td>\n",
       "      <td>1.2</td>\n",
       "      <td>0.5</td>\n",
       "      <td>32.6580</td>\n",
       "      <td>1</td>\n",
       "    </tr>\n",
       "    <tr>\n",
       "      <th>294</th>\n",
       "      <td>2.37</td>\n",
       "      <td>12</td>\n",
       "      <td>1.65</td>\n",
       "      <td>0.4</td>\n",
       "      <td>0.660</td>\n",
       "      <td>0.02</td>\n",
       "      <td>0.2</td>\n",
       "      <td>0.004</td>\n",
       "      <td>1.67</td>\n",
       "      <td>5.0</td>\n",
       "      <td>...</td>\n",
       "      <td>0.4</td>\n",
       "      <td>0</td>\n",
       "      <td>0.2</td>\n",
       "      <td>0.0</td>\n",
       "      <td>2.6</td>\n",
       "      <td>18.858</td>\n",
       "      <td>0.4</td>\n",
       "      <td>0.5</td>\n",
       "      <td>3.7716</td>\n",
       "      <td>1</td>\n",
       "    </tr>\n",
       "    <tr>\n",
       "      <th>407</th>\n",
       "      <td>1.85</td>\n",
       "      <td>14</td>\n",
       "      <td>9.94</td>\n",
       "      <td>0.6</td>\n",
       "      <td>5.964</td>\n",
       "      <td>0.44</td>\n",
       "      <td>0.2</td>\n",
       "      <td>0.088</td>\n",
       "      <td>10.38</td>\n",
       "      <td>5.0</td>\n",
       "      <td>...</td>\n",
       "      <td>0.4</td>\n",
       "      <td>0</td>\n",
       "      <td>0.2</td>\n",
       "      <td>0.0</td>\n",
       "      <td>2.4</td>\n",
       "      <td>7.482</td>\n",
       "      <td>0.4</td>\n",
       "      <td>0.5</td>\n",
       "      <td>1.4964</td>\n",
       "      <td>1</td>\n",
       "    </tr>\n",
       "    <tr>\n",
       "      <th>707</th>\n",
       "      <td>55.57</td>\n",
       "      <td>27</td>\n",
       "      <td>0.00</td>\n",
       "      <td>0.2</td>\n",
       "      <td>0.000</td>\n",
       "      <td>2.99</td>\n",
       "      <td>0.6</td>\n",
       "      <td>1.794</td>\n",
       "      <td>2.99</td>\n",
       "      <td>5.0</td>\n",
       "      <td>...</td>\n",
       "      <td>0.4</td>\n",
       "      <td>0</td>\n",
       "      <td>0.2</td>\n",
       "      <td>0.0</td>\n",
       "      <td>3.2</td>\n",
       "      <td>3.206</td>\n",
       "      <td>0.4</td>\n",
       "      <td>0.5</td>\n",
       "      <td>0.6412</td>\n",
       "      <td>0</td>\n",
       "    </tr>\n",
       "  </tbody>\n",
       "</table>\n",
       "<p>6 rows × 27 columns</p>\n",
       "</div>"
      ],
      "text/plain": [
       "     Sector_score LOCATION_ID  PARA_A  Score_A  Risk_A  PARA_B  Score_B  \\\n",
       "42           3.89          19    0.00      0.2   0.000    2.27      0.2   \n",
       "751         55.57          13    1.29      0.4   0.516    0.00      0.2   \n",
       "582         55.57           2    0.00      0.2   0.000    0.00      0.2   \n",
       "294          2.37          12    1.65      0.4   0.660    0.02      0.2   \n",
       "407          1.85          14    9.94      0.6   5.964    0.44      0.2   \n",
       "707         55.57          27    0.00      0.2   0.000    2.99      0.6   \n",
       "\n",
       "     Risk_B  TOTAL  numbers  ...  RiSk_E  History  Prob  Risk_F  Score  \\\n",
       "42    0.454   2.27      5.0  ...     0.4        0   0.2     0.0    2.0   \n",
       "751   0.000   1.29      5.0  ...     0.4        0   0.2     0.0    2.2   \n",
       "582   0.000   0.00      5.5  ...     1.2        0   0.2     0.0    3.2   \n",
       "294   0.004   1.67      5.0  ...     0.4        0   0.2     0.0    2.6   \n",
       "407   0.088  10.38      5.0  ...     0.4        0   0.2     0.0    2.4   \n",
       "707   1.794   2.99      5.0  ...     0.4        0   0.2     0.0    3.2   \n",
       "\n",
       "     Inherent_Risk  CONTROL_RISK  Detection_Risk  Audit_Risk  Risk  \n",
       "42           2.378           0.4             0.5      0.4756     0  \n",
       "751          1.916           0.4             0.5      0.3832     0  \n",
       "582         54.430           1.2             0.5     32.6580     1  \n",
       "294         18.858           0.4             0.5      3.7716     1  \n",
       "407          7.482           0.4             0.5      1.4964     1  \n",
       "707          3.206           0.4             0.5      0.6412     0  \n",
       "\n",
       "[6 rows x 27 columns]"
      ]
     },
     "execution_count": 3,
     "metadata": {},
     "output_type": "execute_result"
    }
   ],
   "source": [
    "data.sample(6)"
   ]
  },
  {
   "cell_type": "code",
   "execution_count": 4,
   "id": "923e6826",
   "metadata": {},
   "outputs": [
    {
     "data": {
      "text/plain": [
       "(776, 27)"
      ]
     },
     "execution_count": 4,
     "metadata": {},
     "output_type": "execute_result"
    }
   ],
   "source": [
    "data.shape"
   ]
  },
  {
   "cell_type": "code",
   "execution_count": 5,
   "id": "08f31159",
   "metadata": {},
   "outputs": [
    {
     "name": "stdout",
     "output_type": "stream",
     "text": [
      "<class 'pandas.core.frame.DataFrame'>\n",
      "RangeIndex: 776 entries, 0 to 775\n",
      "Data columns (total 27 columns):\n",
      " #   Column          Non-Null Count  Dtype  \n",
      "---  ------          --------------  -----  \n",
      " 0   Sector_score    776 non-null    float64\n",
      " 1   LOCATION_ID     776 non-null    object \n",
      " 2   PARA_A          776 non-null    float64\n",
      " 3   Score_A         776 non-null    float64\n",
      " 4   Risk_A          776 non-null    float64\n",
      " 5   PARA_B          776 non-null    float64\n",
      " 6   Score_B         776 non-null    float64\n",
      " 7   Risk_B          776 non-null    float64\n",
      " 8   TOTAL           776 non-null    float64\n",
      " 9   numbers         776 non-null    float64\n",
      " 10  Score_B.1       776 non-null    float64\n",
      " 11  Risk_C          776 non-null    float64\n",
      " 12  Money_Value     775 non-null    float64\n",
      " 13  Score_MV        776 non-null    float64\n",
      " 14  Risk_D          776 non-null    float64\n",
      " 15  District_Loss   776 non-null    int64  \n",
      " 16  PROB            776 non-null    float64\n",
      " 17  RiSk_E          776 non-null    float64\n",
      " 18  History         776 non-null    int64  \n",
      " 19  Prob            776 non-null    float64\n",
      " 20  Risk_F          776 non-null    float64\n",
      " 21  Score           776 non-null    float64\n",
      " 22  Inherent_Risk   776 non-null    float64\n",
      " 23  CONTROL_RISK    776 non-null    float64\n",
      " 24  Detection_Risk  776 non-null    float64\n",
      " 25  Audit_Risk      776 non-null    float64\n",
      " 26  Risk            776 non-null    int64  \n",
      "dtypes: float64(23), int64(3), object(1)\n",
      "memory usage: 163.8+ KB\n"
     ]
    }
   ],
   "source": [
    "data.info()"
   ]
  },
  {
   "cell_type": "code",
   "execution_count": 6,
   "id": "2684c681",
   "metadata": {},
   "outputs": [
    {
     "data": {
      "text/plain": [
       "Sector_score      0\n",
       "LOCATION_ID       0\n",
       "PARA_A            0\n",
       "Score_A           0\n",
       "Risk_A            0\n",
       "PARA_B            0\n",
       "Score_B           0\n",
       "Risk_B            0\n",
       "TOTAL             0\n",
       "numbers           0\n",
       "Score_B.1         0\n",
       "Risk_C            0\n",
       "Money_Value       1\n",
       "Score_MV          0\n",
       "Risk_D            0\n",
       "District_Loss     0\n",
       "PROB              0\n",
       "RiSk_E            0\n",
       "History           0\n",
       "Prob              0\n",
       "Risk_F            0\n",
       "Score             0\n",
       "Inherent_Risk     0\n",
       "CONTROL_RISK      0\n",
       "Detection_Risk    0\n",
       "Audit_Risk        0\n",
       "Risk              0\n",
       "dtype: int64"
      ]
     },
     "execution_count": 6,
     "metadata": {},
     "output_type": "execute_result"
    }
   ],
   "source": [
    "data.isnull().sum()"
   ]
  },
  {
   "cell_type": "code",
   "execution_count": 7,
   "id": "088aff2d",
   "metadata": {},
   "outputs": [
    {
     "data": {
      "text/html": [
       "<div>\n",
       "<style scoped>\n",
       "    .dataframe tbody tr th:only-of-type {\n",
       "        vertical-align: middle;\n",
       "    }\n",
       "\n",
       "    .dataframe tbody tr th {\n",
       "        vertical-align: top;\n",
       "    }\n",
       "\n",
       "    .dataframe thead th {\n",
       "        text-align: right;\n",
       "    }\n",
       "</style>\n",
       "<table border=\"1\" class=\"dataframe\">\n",
       "  <thead>\n",
       "    <tr style=\"text-align: right;\">\n",
       "      <th></th>\n",
       "      <th>Sector_score</th>\n",
       "      <th>PARA_A</th>\n",
       "      <th>Score_A</th>\n",
       "      <th>Risk_A</th>\n",
       "      <th>PARA_B</th>\n",
       "      <th>Score_B</th>\n",
       "      <th>Risk_B</th>\n",
       "      <th>TOTAL</th>\n",
       "      <th>numbers</th>\n",
       "      <th>Score_B.1</th>\n",
       "      <th>...</th>\n",
       "      <th>RiSk_E</th>\n",
       "      <th>History</th>\n",
       "      <th>Prob</th>\n",
       "      <th>Risk_F</th>\n",
       "      <th>Score</th>\n",
       "      <th>Inherent_Risk</th>\n",
       "      <th>CONTROL_RISK</th>\n",
       "      <th>Detection_Risk</th>\n",
       "      <th>Audit_Risk</th>\n",
       "      <th>Risk</th>\n",
       "    </tr>\n",
       "  </thead>\n",
       "  <tbody>\n",
       "    <tr>\n",
       "      <th>count</th>\n",
       "      <td>776.000000</td>\n",
       "      <td>776.000000</td>\n",
       "      <td>776.000000</td>\n",
       "      <td>776.000000</td>\n",
       "      <td>776.000000</td>\n",
       "      <td>776.000000</td>\n",
       "      <td>776.000000</td>\n",
       "      <td>776.000000</td>\n",
       "      <td>776.000000</td>\n",
       "      <td>776.000000</td>\n",
       "      <td>...</td>\n",
       "      <td>776.000000</td>\n",
       "      <td>776.000000</td>\n",
       "      <td>776.000000</td>\n",
       "      <td>776.000000</td>\n",
       "      <td>776.000000</td>\n",
       "      <td>776.000000</td>\n",
       "      <td>776.000000</td>\n",
       "      <td>776.0</td>\n",
       "      <td>776.000000</td>\n",
       "      <td>776.000000</td>\n",
       "    </tr>\n",
       "    <tr>\n",
       "      <th>mean</th>\n",
       "      <td>20.184536</td>\n",
       "      <td>2.450194</td>\n",
       "      <td>0.351289</td>\n",
       "      <td>1.351029</td>\n",
       "      <td>10.799988</td>\n",
       "      <td>0.313144</td>\n",
       "      <td>6.334008</td>\n",
       "      <td>13.218481</td>\n",
       "      <td>5.067655</td>\n",
       "      <td>0.223711</td>\n",
       "      <td>...</td>\n",
       "      <td>0.519072</td>\n",
       "      <td>0.104381</td>\n",
       "      <td>0.216753</td>\n",
       "      <td>0.053608</td>\n",
       "      <td>2.702577</td>\n",
       "      <td>17.680612</td>\n",
       "      <td>0.572680</td>\n",
       "      <td>0.5</td>\n",
       "      <td>7.168158</td>\n",
       "      <td>0.393041</td>\n",
       "    </tr>\n",
       "    <tr>\n",
       "      <th>std</th>\n",
       "      <td>24.319017</td>\n",
       "      <td>5.678870</td>\n",
       "      <td>0.174055</td>\n",
       "      <td>3.440447</td>\n",
       "      <td>50.083624</td>\n",
       "      <td>0.169804</td>\n",
       "      <td>30.072845</td>\n",
       "      <td>51.312829</td>\n",
       "      <td>0.264449</td>\n",
       "      <td>0.080352</td>\n",
       "      <td>...</td>\n",
       "      <td>0.290312</td>\n",
       "      <td>0.531031</td>\n",
       "      <td>0.067987</td>\n",
       "      <td>0.305835</td>\n",
       "      <td>0.858923</td>\n",
       "      <td>54.740244</td>\n",
       "      <td>0.444581</td>\n",
       "      <td>0.0</td>\n",
       "      <td>38.667494</td>\n",
       "      <td>0.488741</td>\n",
       "    </tr>\n",
       "    <tr>\n",
       "      <th>min</th>\n",
       "      <td>1.850000</td>\n",
       "      <td>0.000000</td>\n",
       "      <td>0.200000</td>\n",
       "      <td>0.000000</td>\n",
       "      <td>0.000000</td>\n",
       "      <td>0.200000</td>\n",
       "      <td>0.000000</td>\n",
       "      <td>0.000000</td>\n",
       "      <td>5.000000</td>\n",
       "      <td>0.200000</td>\n",
       "      <td>...</td>\n",
       "      <td>0.400000</td>\n",
       "      <td>0.000000</td>\n",
       "      <td>0.200000</td>\n",
       "      <td>0.000000</td>\n",
       "      <td>2.000000</td>\n",
       "      <td>1.400000</td>\n",
       "      <td>0.400000</td>\n",
       "      <td>0.5</td>\n",
       "      <td>0.280000</td>\n",
       "      <td>0.000000</td>\n",
       "    </tr>\n",
       "    <tr>\n",
       "      <th>25%</th>\n",
       "      <td>2.370000</td>\n",
       "      <td>0.210000</td>\n",
       "      <td>0.200000</td>\n",
       "      <td>0.042000</td>\n",
       "      <td>0.000000</td>\n",
       "      <td>0.200000</td>\n",
       "      <td>0.000000</td>\n",
       "      <td>0.537500</td>\n",
       "      <td>5.000000</td>\n",
       "      <td>0.200000</td>\n",
       "      <td>...</td>\n",
       "      <td>0.400000</td>\n",
       "      <td>0.000000</td>\n",
       "      <td>0.200000</td>\n",
       "      <td>0.000000</td>\n",
       "      <td>2.000000</td>\n",
       "      <td>1.583500</td>\n",
       "      <td>0.400000</td>\n",
       "      <td>0.5</td>\n",
       "      <td>0.316700</td>\n",
       "      <td>0.000000</td>\n",
       "    </tr>\n",
       "    <tr>\n",
       "      <th>50%</th>\n",
       "      <td>3.890000</td>\n",
       "      <td>0.875000</td>\n",
       "      <td>0.200000</td>\n",
       "      <td>0.175000</td>\n",
       "      <td>0.405000</td>\n",
       "      <td>0.200000</td>\n",
       "      <td>0.081000</td>\n",
       "      <td>1.370000</td>\n",
       "      <td>5.000000</td>\n",
       "      <td>0.200000</td>\n",
       "      <td>...</td>\n",
       "      <td>0.400000</td>\n",
       "      <td>0.000000</td>\n",
       "      <td>0.200000</td>\n",
       "      <td>0.000000</td>\n",
       "      <td>2.400000</td>\n",
       "      <td>2.214000</td>\n",
       "      <td>0.400000</td>\n",
       "      <td>0.5</td>\n",
       "      <td>0.555600</td>\n",
       "      <td>0.000000</td>\n",
       "    </tr>\n",
       "    <tr>\n",
       "      <th>75%</th>\n",
       "      <td>55.570000</td>\n",
       "      <td>2.480000</td>\n",
       "      <td>0.600000</td>\n",
       "      <td>1.488000</td>\n",
       "      <td>4.160000</td>\n",
       "      <td>0.400000</td>\n",
       "      <td>1.840500</td>\n",
       "      <td>7.707500</td>\n",
       "      <td>5.000000</td>\n",
       "      <td>0.200000</td>\n",
       "      <td>...</td>\n",
       "      <td>0.400000</td>\n",
       "      <td>0.000000</td>\n",
       "      <td>0.200000</td>\n",
       "      <td>0.000000</td>\n",
       "      <td>3.250000</td>\n",
       "      <td>10.663500</td>\n",
       "      <td>0.400000</td>\n",
       "      <td>0.5</td>\n",
       "      <td>3.249900</td>\n",
       "      <td>1.000000</td>\n",
       "    </tr>\n",
       "    <tr>\n",
       "      <th>max</th>\n",
       "      <td>59.850000</td>\n",
       "      <td>85.000000</td>\n",
       "      <td>0.600000</td>\n",
       "      <td>51.000000</td>\n",
       "      <td>1264.630000</td>\n",
       "      <td>0.600000</td>\n",
       "      <td>758.778000</td>\n",
       "      <td>1268.910000</td>\n",
       "      <td>9.000000</td>\n",
       "      <td>0.600000</td>\n",
       "      <td>...</td>\n",
       "      <td>2.400000</td>\n",
       "      <td>9.000000</td>\n",
       "      <td>0.600000</td>\n",
       "      <td>5.400000</td>\n",
       "      <td>5.200000</td>\n",
       "      <td>801.262000</td>\n",
       "      <td>5.800000</td>\n",
       "      <td>0.5</td>\n",
       "      <td>961.514400</td>\n",
       "      <td>1.000000</td>\n",
       "    </tr>\n",
       "  </tbody>\n",
       "</table>\n",
       "<p>8 rows × 26 columns</p>\n",
       "</div>"
      ],
      "text/plain": [
       "       Sector_score      PARA_A     Score_A      Risk_A       PARA_B  \\\n",
       "count    776.000000  776.000000  776.000000  776.000000   776.000000   \n",
       "mean      20.184536    2.450194    0.351289    1.351029    10.799988   \n",
       "std       24.319017    5.678870    0.174055    3.440447    50.083624   \n",
       "min        1.850000    0.000000    0.200000    0.000000     0.000000   \n",
       "25%        2.370000    0.210000    0.200000    0.042000     0.000000   \n",
       "50%        3.890000    0.875000    0.200000    0.175000     0.405000   \n",
       "75%       55.570000    2.480000    0.600000    1.488000     4.160000   \n",
       "max       59.850000   85.000000    0.600000   51.000000  1264.630000   \n",
       "\n",
       "          Score_B      Risk_B        TOTAL     numbers   Score_B.1  ...  \\\n",
       "count  776.000000  776.000000   776.000000  776.000000  776.000000  ...   \n",
       "mean     0.313144    6.334008    13.218481    5.067655    0.223711  ...   \n",
       "std      0.169804   30.072845    51.312829    0.264449    0.080352  ...   \n",
       "min      0.200000    0.000000     0.000000    5.000000    0.200000  ...   \n",
       "25%      0.200000    0.000000     0.537500    5.000000    0.200000  ...   \n",
       "50%      0.200000    0.081000     1.370000    5.000000    0.200000  ...   \n",
       "75%      0.400000    1.840500     7.707500    5.000000    0.200000  ...   \n",
       "max      0.600000  758.778000  1268.910000    9.000000    0.600000  ...   \n",
       "\n",
       "           RiSk_E     History        Prob      Risk_F       Score  \\\n",
       "count  776.000000  776.000000  776.000000  776.000000  776.000000   \n",
       "mean     0.519072    0.104381    0.216753    0.053608    2.702577   \n",
       "std      0.290312    0.531031    0.067987    0.305835    0.858923   \n",
       "min      0.400000    0.000000    0.200000    0.000000    2.000000   \n",
       "25%      0.400000    0.000000    0.200000    0.000000    2.000000   \n",
       "50%      0.400000    0.000000    0.200000    0.000000    2.400000   \n",
       "75%      0.400000    0.000000    0.200000    0.000000    3.250000   \n",
       "max      2.400000    9.000000    0.600000    5.400000    5.200000   \n",
       "\n",
       "       Inherent_Risk  CONTROL_RISK  Detection_Risk  Audit_Risk        Risk  \n",
       "count     776.000000    776.000000           776.0  776.000000  776.000000  \n",
       "mean       17.680612      0.572680             0.5    7.168158    0.393041  \n",
       "std        54.740244      0.444581             0.0   38.667494    0.488741  \n",
       "min         1.400000      0.400000             0.5    0.280000    0.000000  \n",
       "25%         1.583500      0.400000             0.5    0.316700    0.000000  \n",
       "50%         2.214000      0.400000             0.5    0.555600    0.000000  \n",
       "75%        10.663500      0.400000             0.5    3.249900    1.000000  \n",
       "max       801.262000      5.800000             0.5  961.514400    1.000000  \n",
       "\n",
       "[8 rows x 26 columns]"
      ]
     },
     "execution_count": 7,
     "metadata": {},
     "output_type": "execute_result"
    }
   ],
   "source": [
    "data.describe()"
   ]
  },
  {
   "cell_type": "markdown",
   "id": "9fc70441",
   "metadata": {},
   "source": [
    "# Risk "
   ]
  },
  {
   "cell_type": "code",
   "execution_count": 8,
   "id": "aa7c9de2",
   "metadata": {},
   "outputs": [
    {
     "data": {
      "text/plain": [
       "0    471\n",
       "1    305\n",
       "Name: Risk, dtype: int64"
      ]
     },
     "execution_count": 8,
     "metadata": {},
     "output_type": "execute_result"
    }
   ],
   "source": [
    "data.Risk.value_counts()"
   ]
  },
  {
   "cell_type": "code",
   "execution_count": 9,
   "id": "5cae45b9",
   "metadata": {},
   "outputs": [
    {
     "data": {
      "text/plain": [
       "count    776.000000\n",
       "mean       0.393041\n",
       "std        0.488741\n",
       "min        0.000000\n",
       "25%        0.000000\n",
       "50%        0.000000\n",
       "75%        1.000000\n",
       "max        1.000000\n",
       "Name: Risk, dtype: float64"
      ]
     },
     "execution_count": 9,
     "metadata": {},
     "output_type": "execute_result"
    }
   ],
   "source": [
    "data.Risk.describe()"
   ]
  },
  {
   "cell_type": "code",
   "execution_count": 10,
   "id": "676b2252",
   "metadata": {},
   "outputs": [
    {
     "data": {
      "image/png": "[encoded data removed]",
      "text/plain": [
       "<Figure size 1080x576 with 1 Axes>"
      ]
     },
     "metadata": {
      "needs_background": "light"
     },
     "output_type": "display_data"
    }
   ],
   "source": [
    "sns.countplot(data.Risk)\n",
    "plt.title(\"count plot of risk\")\n",
    "plt.show()"
   ]
  },
  {
   "cell_type": "markdown",
   "id": "ce74bb7d",
   "metadata": {},
   "source": [
    "From above countplot we can see that \"0\" values are more than \"1\""
   ]
  },
  {
   "cell_type": "markdown",
   "id": "f4234c95",
   "metadata": {},
   "source": [
    "# sector_score"
   ]
  },
  {
   "cell_type": "code",
   "execution_count": 11,
   "id": "ce783e15",
   "metadata": {},
   "outputs": [
    {
     "data": {
      "text/plain": [
       "55.57    200\n",
       "3.89     114\n",
       "1.85      95\n",
       "2.72      82\n",
       "3.41      76\n",
       "2.37      74\n",
       "1.99      47\n",
       "21.61     41\n",
       "59.85     37\n",
       "2.34       5\n",
       "15.56      3\n",
       "2.36       1\n",
       "17.68      1\n",
       "Name: Sector_score, dtype: int64"
      ]
     },
     "execution_count": 11,
     "metadata": {},
     "output_type": "execute_result"
    }
   ],
   "source": [
    "data.Sector_score.value_counts()"
   ]
  },
  {
   "cell_type": "code",
   "execution_count": 12,
   "id": "f4961895",
   "metadata": {},
   "outputs": [
    {
     "data": {
      "text/plain": [
       "count    776.000000\n",
       "mean      20.184536\n",
       "std       24.319017\n",
       "min        1.850000\n",
       "25%        2.370000\n",
       "50%        3.890000\n",
       "75%       55.570000\n",
       "max       59.850000\n",
       "Name: Sector_score, dtype: float64"
      ]
     },
     "execution_count": 12,
     "metadata": {},
     "output_type": "execute_result"
    }
   ],
   "source": [
    "data.Sector_score.describe()"
   ]
  },
  {
   "cell_type": "code",
   "execution_count": 13,
   "id": "1a691f11",
   "metadata": {},
   "outputs": [
    {
     "data": {
      "image/png": "[encoded data removed]",
      "text/plain": [
       "<Figure size 1080x576 with 1 Axes>"
      ]
     },
     "metadata": {
      "needs_background": "light"
     },
     "output_type": "display_data"
    }
   ],
   "source": [
    "plt.hist(data.Sector_score)\n",
    "plt.title(\" Distribution of sector_score\")\n",
    "plt.show()"
   ]
  },
  {
   "cell_type": "markdown",
   "id": "17e9c168",
   "metadata": {},
   "source": [
    "we can see that the values are concentared between (0,10),(20,30),(50,60)"
   ]
  },
  {
   "cell_type": "code",
   "execution_count": 14,
   "id": "99c43540",
   "metadata": {},
   "outputs": [
    {
     "data": {
      "image/png": "[encoded data removed]",
      "text/plain": [
       "<Figure size 1080x576 with 1 Axes>"
      ]
     },
     "metadata": {
      "needs_background": "light"
     },
     "output_type": "display_data"
    }
   ],
   "source": [
    "plt.boxplot(data.Sector_score,vert = False,patch_artist = True)\n",
    "plt.title(\" box plot of sector_score\")\n",
    "plt.show()\n"
   ]
  },
  {
   "cell_type": "markdown",
   "id": "d7ef6a9f",
   "metadata": {},
   "source": [
    "There are no outliers in the Sector_score "
   ]
  },
  {
   "cell_type": "code",
   "execution_count": 15,
   "id": "b882da21",
   "metadata": {},
   "outputs": [
    {
     "data": {
      "text/plain": [
       "53.2"
      ]
     },
     "execution_count": 15,
     "metadata": {},
     "output_type": "execute_result"
    }
   ],
   "source": [
    "IQR = data.Sector_score.quantile(0.75)-data.Sector_score.quantile(0.25)\n",
    "IQR"
   ]
  },
  {
   "cell_type": "code",
   "execution_count": 16,
   "id": "a35bbc54",
   "metadata": {},
   "outputs": [
    {
     "data": {
      "text/plain": [
       "135.37"
      ]
     },
     "execution_count": 16,
     "metadata": {},
     "output_type": "execute_result"
    }
   ],
   "source": [
    "upper_limit= data.Sector_score.quantile(0.75)+ (1.5*IQR)\n",
    "upper_limit"
   ]
  },
  {
   "cell_type": "code",
   "execution_count": 17,
   "id": "a27d5f09",
   "metadata": {},
   "outputs": [
    {
     "data": {
      "text/plain": [
       "-77.43"
      ]
     },
     "execution_count": 17,
     "metadata": {},
     "output_type": "execute_result"
    }
   ],
   "source": [
    "lower_limit= data.Sector_score.quantile(0.25)-(1.5*IQR)\n",
    "lower_limit"
   ]
  },
  {
   "cell_type": "code",
   "execution_count": 18,
   "id": "092613d8",
   "metadata": {},
   "outputs": [
    {
     "data": {
      "text/plain": [
       "0"
      ]
     },
     "execution_count": 18,
     "metadata": {},
     "output_type": "execute_result"
    }
   ],
   "source": [
    "len(data[data.Sector_score>upper_limit])"
   ]
  },
  {
   "cell_type": "markdown",
   "id": "d06373e2",
   "metadata": {},
   "source": [
    "comparing between Sector_score and response variable"
   ]
  },
  {
   "cell_type": "code",
   "execution_count": 19,
   "id": "0af56939",
   "metadata": {},
   "outputs": [
    {
     "data": {
      "image/png": "[encoded data removed]",
      "text/plain": [
       "<Figure size 1080x576 with 1 Axes>"
      ]
     },
     "metadata": {
      "needs_background": "light"
     },
     "output_type": "display_data"
    }
   ],
   "source": [
    "sns.countplot(data.Sector_score,hue = data.Risk,data=data)\n",
    "plt.title(\"comparision between sector and Risk\")\n",
    "plt.show()"
   ]
  },
  {
   "cell_type": "markdown",
   "id": "083b3252",
   "metadata": {},
   "source": [
    "From the above fig  we can see that 55.57  no risk  has High when compare to the others"
   ]
  },
  {
   "cell_type": "code",
   "execution_count": 20,
   "id": "1f0c97c6",
   "metadata": {
    "scrolled": true
   },
   "outputs": [
    {
     "data": {
      "text/html": [
       "<div>\n",
       "<style scoped>\n",
       "    .dataframe tbody tr th:only-of-type {\n",
       "        vertical-align: middle;\n",
       "    }\n",
       "\n",
       "    .dataframe tbody tr th {\n",
       "        vertical-align: top;\n",
       "    }\n",
       "\n",
       "    .dataframe thead th {\n",
       "        text-align: right;\n",
       "    }\n",
       "</style>\n",
       "<table border=\"1\" class=\"dataframe\">\n",
       "  <thead>\n",
       "    <tr style=\"text-align: right;\">\n",
       "      <th></th>\n",
       "      <th>count</th>\n",
       "      <th>mean</th>\n",
       "      <th>std</th>\n",
       "      <th>min</th>\n",
       "      <th>25%</th>\n",
       "      <th>50%</th>\n",
       "      <th>75%</th>\n",
       "      <th>max</th>\n",
       "    </tr>\n",
       "    <tr>\n",
       "      <th>Risk</th>\n",
       "      <th></th>\n",
       "      <th></th>\n",
       "      <th></th>\n",
       "      <th></th>\n",
       "      <th></th>\n",
       "      <th></th>\n",
       "      <th></th>\n",
       "      <th></th>\n",
       "    </tr>\n",
       "  </thead>\n",
       "  <tbody>\n",
       "    <tr>\n",
       "      <th>0</th>\n",
       "      <td>471.0</td>\n",
       "      <td>27.892611</td>\n",
       "      <td>25.788593</td>\n",
       "      <td>1.85</td>\n",
       "      <td>2.37</td>\n",
       "      <td>21.61</td>\n",
       "      <td>55.57</td>\n",
       "      <td>59.85</td>\n",
       "    </tr>\n",
       "    <tr>\n",
       "      <th>1</th>\n",
       "      <td>305.0</td>\n",
       "      <td>8.281246</td>\n",
       "      <td>15.662242</td>\n",
       "      <td>1.85</td>\n",
       "      <td>2.37</td>\n",
       "      <td>3.41</td>\n",
       "      <td>3.89</td>\n",
       "      <td>59.85</td>\n",
       "    </tr>\n",
       "  </tbody>\n",
       "</table>\n",
       "</div>"
      ],
      "text/plain": [
       "      count       mean        std   min   25%    50%    75%    max\n",
       "Risk                                                              \n",
       "0     471.0  27.892611  25.788593  1.85  2.37  21.61  55.57  59.85\n",
       "1     305.0   8.281246  15.662242  1.85  2.37   3.41   3.89  59.85"
      ]
     },
     "execution_count": 20,
     "metadata": {},
     "output_type": "execute_result"
    }
   ],
   "source": [
    "data.groupby(\"Risk\")[\"Sector_score\"].describe()"
   ]
  },
  {
   "cell_type": "code",
   "execution_count": 22,
   "id": "ce87a805",
   "metadata": {},
   "outputs": [
    {
     "data": {
      "text/plain": [
       "Ttest_indResult(statistic=11.930805852627904, pvalue=3.054007788613557e-30)"
      ]
     },
     "execution_count": 22,
     "metadata": {},
     "output_type": "execute_result"
    }
   ],
   "source": [
    "df1=data[data.Risk==0]\n",
    "df1.shape\n",
    "df2=data[data.Risk==1]\n",
    "df2.shape\n",
    "scipy.stats.ttest_ind(df1.Sector_score,df2.Sector_score)"
   ]
  },
  {
   "cell_type": "markdown",
   "id": "5aecde9f",
   "metadata": {},
   "source": [
    "from the aabove statistical test we can see that It is a Good predictior"
   ]
  },
  {
   "cell_type": "markdown",
   "id": "99c70ebf",
   "metadata": {},
   "source": [
    "# LOCATION_ID"
   ]
  },
  {
   "cell_type": "code",
   "execution_count": 23,
   "id": "7562a997",
   "metadata": {},
   "outputs": [
    {
     "data": {
      "text/plain": [
       "8          76\n",
       "19         68\n",
       "9          53\n",
       "16         52\n",
       "12         47\n",
       "5          44\n",
       "2          41\n",
       "4          37\n",
       "13         35\n",
       "15         35\n",
       "6          33\n",
       "32         29\n",
       "11         26\n",
       "22         24\n",
       "29         21\n",
       "14         20\n",
       "18         16\n",
       "31         12\n",
       "1          11\n",
       "37         10\n",
       "39          9\n",
       "28          8\n",
       "21          8\n",
       "27          8\n",
       "43          7\n",
       "25          6\n",
       "20          5\n",
       "30          4\n",
       "36          4\n",
       "38          4\n",
       "7           4\n",
       "40          3\n",
       "3           3\n",
       "35          2\n",
       "23          1\n",
       "24          1\n",
       "NUH         1\n",
       "17          1\n",
       "33          1\n",
       "41          1\n",
       "SAFIDON     1\n",
       "44          1\n",
       "LOHARU      1\n",
       "42          1\n",
       "34          1\n",
       "Name: LOCATION_ID, dtype: int64"
      ]
     },
     "execution_count": 23,
     "metadata": {},
     "output_type": "execute_result"
    }
   ],
   "source": [
    "data.LOCATION_ID.value_counts()"
   ]
  },
  {
   "cell_type": "code",
   "execution_count": 24,
   "id": "970f451f",
   "metadata": {},
   "outputs": [
    {
     "data": {
      "text/plain": [
       "count     776\n",
       "unique     45\n",
       "top         8\n",
       "freq       76\n",
       "Name: LOCATION_ID, dtype: object"
      ]
     },
     "execution_count": 24,
     "metadata": {},
     "output_type": "execute_result"
    }
   ],
   "source": [
    "data.LOCATION_ID.describe()"
   ]
  },
  {
   "cell_type": "code",
   "execution_count": 25,
   "id": "963c6af4",
   "metadata": {},
   "outputs": [
    {
     "data": {
      "text/plain": [
       "0    8\n",
       "dtype: object"
      ]
     },
     "execution_count": 25,
     "metadata": {},
     "output_type": "execute_result"
    }
   ],
   "source": [
    "data.LOCATION_ID.mode()"
   ]
  },
  {
   "cell_type": "code",
   "execution_count": 26,
   "id": "86a798c6",
   "metadata": {},
   "outputs": [],
   "source": [
    "data[\"LOCATION_ID\"].replace(\"LOHARU\",\"8\",inplace = True)"
   ]
  },
  {
   "cell_type": "code",
   "execution_count": 27,
   "id": "af2fb456",
   "metadata": {},
   "outputs": [],
   "source": [
    "data[\"LOCATION_ID\"].replace(\"SAFIDON\",\"8\",inplace = True)"
   ]
  },
  {
   "cell_type": "code",
   "execution_count": 28,
   "id": "1be55f21",
   "metadata": {},
   "outputs": [],
   "source": [
    "data[\"LOCATION_ID\"].replace(\"NUH\",\"8\",inplace = True)"
   ]
  },
  {
   "cell_type": "code",
   "execution_count": 29,
   "id": "eb5a7c1a",
   "metadata": {},
   "outputs": [],
   "source": [
    "data[\"LOCATION_ID\"]=data[\"LOCATION_ID\"].astype(\"int\")"
   ]
  },
  {
   "cell_type": "code",
   "execution_count": 30,
   "id": "05912003",
   "metadata": {},
   "outputs": [
    {
     "data": {
      "text/plain": [
       "dtype('int32')"
      ]
     },
     "execution_count": 30,
     "metadata": {},
     "output_type": "execute_result"
    }
   ],
   "source": [
    "data.LOCATION_ID.dtypes"
   ]
  },
  {
   "cell_type": "code",
   "execution_count": 31,
   "id": "546b7da9",
   "metadata": {},
   "outputs": [
    {
     "data": {
      "image/png": "[encoded data removed]",
      "text/plain": [
       "<Figure size 1080x576 with 1 Axes>"
      ]
     },
     "metadata": {
      "needs_background": "light"
     },
     "output_type": "display_data"
    }
   ],
   "source": [
    "sns.countplot(data.LOCATION_ID,hue = data.Risk,data=data)\n",
    "plt.title(\"comparision between location and risk\")\n",
    "plt.show()"
   ]
  },
  {
   "cell_type": "code",
   "execution_count": 32,
   "id": "79767d5f",
   "metadata": {},
   "outputs": [
    {
     "data": {
      "text/html": [
       "<div>\n",
       "<style scoped>\n",
       "    .dataframe tbody tr th:only-of-type {\n",
       "        vertical-align: middle;\n",
       "    }\n",
       "\n",
       "    .dataframe tbody tr th {\n",
       "        vertical-align: top;\n",
       "    }\n",
       "\n",
       "    .dataframe thead th {\n",
       "        text-align: right;\n",
       "    }\n",
       "</style>\n",
       "<table border=\"1\" class=\"dataframe\">\n",
       "  <thead>\n",
       "    <tr style=\"text-align: right;\">\n",
       "      <th></th>\n",
       "      <th>count</th>\n",
       "      <th>mean</th>\n",
       "      <th>std</th>\n",
       "      <th>min</th>\n",
       "      <th>25%</th>\n",
       "      <th>50%</th>\n",
       "      <th>75%</th>\n",
       "      <th>max</th>\n",
       "    </tr>\n",
       "    <tr>\n",
       "      <th>Risk</th>\n",
       "      <th></th>\n",
       "      <th></th>\n",
       "      <th></th>\n",
       "      <th></th>\n",
       "      <th></th>\n",
       "      <th></th>\n",
       "      <th></th>\n",
       "      <th></th>\n",
       "    </tr>\n",
       "  </thead>\n",
       "  <tbody>\n",
       "    <tr>\n",
       "      <th>0</th>\n",
       "      <td>471.0</td>\n",
       "      <td>14.307856</td>\n",
       "      <td>9.294744</td>\n",
       "      <td>1.0</td>\n",
       "      <td>8.0</td>\n",
       "      <td>12.0</td>\n",
       "      <td>19.0</td>\n",
       "      <td>43.0</td>\n",
       "    </tr>\n",
       "    <tr>\n",
       "      <th>1</th>\n",
       "      <td>305.0</td>\n",
       "      <td>15.636066</td>\n",
       "      <td>10.690103</td>\n",
       "      <td>1.0</td>\n",
       "      <td>8.0</td>\n",
       "      <td>14.0</td>\n",
       "      <td>20.0</td>\n",
       "      <td>44.0</td>\n",
       "    </tr>\n",
       "  </tbody>\n",
       "</table>\n",
       "</div>"
      ],
      "text/plain": [
       "      count       mean        std  min  25%   50%   75%   max\n",
       "Risk                                                         \n",
       "0     471.0  14.307856   9.294744  1.0  8.0  12.0  19.0  43.0\n",
       "1     305.0  15.636066  10.690103  1.0  8.0  14.0  20.0  44.0"
      ]
     },
     "execution_count": 32,
     "metadata": {},
     "output_type": "execute_result"
    }
   ],
   "source": [
    "data.groupby(\"Risk\")[\"LOCATION_ID\"].describe()"
   ]
  },
  {
   "cell_type": "markdown",
   "id": "e1d23206",
   "metadata": {},
   "source": [
    "# PARAA_A"
   ]
  },
  {
   "cell_type": "code",
   "execution_count": 33,
   "id": "c863baad",
   "metadata": {},
   "outputs": [
    {
     "data": {
      "text/plain": [
       "0.00    151\n",
       "0.51      8\n",
       "0.49      8\n",
       "0.84      7\n",
       "0.56      7\n",
       "       ... \n",
       "2.23      1\n",
       "1.24      1\n",
       "1.94      1\n",
       "1.82      1\n",
       "1.15      1\n",
       "Name: PARA_A, Length: 363, dtype: int64"
      ]
     },
     "execution_count": 33,
     "metadata": {},
     "output_type": "execute_result"
    }
   ],
   "source": [
    "data.PARA_A.value_counts()"
   ]
  },
  {
   "cell_type": "code",
   "execution_count": 34,
   "id": "b47964cc",
   "metadata": {},
   "outputs": [
    {
     "data": {
      "text/plain": [
       "count    776.000000\n",
       "mean       2.450194\n",
       "std        5.678870\n",
       "min        0.000000\n",
       "25%        0.210000\n",
       "50%        0.875000\n",
       "75%        2.480000\n",
       "max       85.000000\n",
       "Name: PARA_A, dtype: float64"
      ]
     },
     "execution_count": 34,
     "metadata": {},
     "output_type": "execute_result"
    }
   ],
   "source": [
    "data.PARA_A.describe()"
   ]
  },
  {
   "cell_type": "code",
   "execution_count": 35,
   "id": "7bad2900",
   "metadata": {},
   "outputs": [
    {
     "data": {
      "image/png": "[encoded data removed]",
      "text/plain": [
       "<Figure size 1080x576 with 1 Axes>"
      ]
     },
     "metadata": {
      "needs_background": "light"
     },
     "output_type": "display_data"
    }
   ],
   "source": [
    "plt.hist(data.PARA_A)\n",
    "plt.title(\"PARA_A\")\n",
    "plt.show()"
   ]
  },
  {
   "cell_type": "raw",
   "id": "0f37edc8",
   "metadata": {},
   "source": [
    "from the above fig we can see that more distribution is lies between 0 to 20 and it has a right skewness"
   ]
  },
  {
   "cell_type": "code",
   "execution_count": 36,
   "id": "c0887b3b",
   "metadata": {},
   "outputs": [
    {
     "data": {
      "image/png": "[encoded data removed]",
      "text/plain": [
       "<Figure size 1080x576 with 1 Axes>"
      ]
     },
     "metadata": {
      "needs_background": "light"
     },
     "output_type": "display_data"
    }
   ],
   "source": [
    "plt.boxplot(data.PARA_A,vert = False,patch_artist = True)\n",
    "plt.title(\"boxplot of PARA_A\")\n",
    "plt.show()"
   ]
  },
  {
   "cell_type": "markdown",
   "id": "ae513877",
   "metadata": {},
   "source": [
    "we can see that they are 82 outliers are present above the upper limit"
   ]
  },
  {
   "cell_type": "code",
   "execution_count": 37,
   "id": "25853312",
   "metadata": {},
   "outputs": [
    {
     "data": {
      "text/plain": [
       "2.27"
      ]
     },
     "execution_count": 37,
     "metadata": {},
     "output_type": "execute_result"
    }
   ],
   "source": [
    "IQR = data.PARA_A.quantile(0.75)-data.PARA_A.quantile(0.25)\n",
    "IQR"
   ]
  },
  {
   "cell_type": "code",
   "execution_count": 38,
   "id": "d183cf86",
   "metadata": {},
   "outputs": [
    {
     "data": {
      "text/plain": [
       "5.885"
      ]
     },
     "execution_count": 38,
     "metadata": {},
     "output_type": "execute_result"
    }
   ],
   "source": [
    "upper_limit= data.PARA_A.quantile(0.75)+ (1.5*IQR)\n",
    "upper_limit"
   ]
  },
  {
   "cell_type": "code",
   "execution_count": 39,
   "id": "b7d21b95",
   "metadata": {},
   "outputs": [
    {
     "data": {
      "text/plain": [
       "-3.1950000000000003"
      ]
     },
     "execution_count": 39,
     "metadata": {},
     "output_type": "execute_result"
    }
   ],
   "source": [
    "lower_limit= data.PARA_A.quantile(0.25)- (1.5*IQR)\n",
    "lower_limit"
   ]
  },
  {
   "cell_type": "code",
   "execution_count": 40,
   "id": "3f0900ba",
   "metadata": {},
   "outputs": [
    {
     "data": {
      "text/plain": [
       "82"
      ]
     },
     "execution_count": 40,
     "metadata": {},
     "output_type": "execute_result"
    }
   ],
   "source": [
    "len(data.PARA_A[data.PARA_A>upper_limit])"
   ]
  },
  {
   "cell_type": "code",
   "execution_count": 41,
   "id": "91366d72",
   "metadata": {},
   "outputs": [],
   "source": [
    "data=data[data['PARA_A']<=25]"
   ]
  },
  {
   "cell_type": "code",
   "execution_count": 42,
   "id": "d9f71192",
   "metadata": {},
   "outputs": [
    {
     "data": {
      "text/plain": [
       "(771, 27)"
      ]
     },
     "execution_count": 42,
     "metadata": {},
     "output_type": "execute_result"
    }
   ],
   "source": [
    "data.shape"
   ]
  },
  {
   "cell_type": "code",
   "execution_count": 43,
   "id": "1ad8f21f",
   "metadata": {},
   "outputs": [
    {
     "data": {
      "image/png": "[encoded data removed]",
      "text/plain": [
       "<Figure size 1080x576 with 1 Axes>"
      ]
     },
     "metadata": {
      "needs_background": "light"
     },
     "output_type": "display_data"
    }
   ],
   "source": [
    "sns.barplot(y =data.PARA_A,x = data.Risk)\n",
    "plt.show()"
   ]
  },
  {
   "cell_type": "code",
   "execution_count": 44,
   "id": "64461abb",
   "metadata": {},
   "outputs": [
    {
     "data": {
      "text/html": [
       "<div>\n",
       "<style scoped>\n",
       "    .dataframe tbody tr th:only-of-type {\n",
       "        vertical-align: middle;\n",
       "    }\n",
       "\n",
       "    .dataframe tbody tr th {\n",
       "        vertical-align: top;\n",
       "    }\n",
       "\n",
       "    .dataframe thead th {\n",
       "        text-align: right;\n",
       "    }\n",
       "</style>\n",
       "<table border=\"1\" class=\"dataframe\">\n",
       "  <thead>\n",
       "    <tr style=\"text-align: right;\">\n",
       "      <th></th>\n",
       "      <th>count</th>\n",
       "      <th>mean</th>\n",
       "      <th>std</th>\n",
       "      <th>min</th>\n",
       "      <th>25%</th>\n",
       "      <th>50%</th>\n",
       "      <th>75%</th>\n",
       "      <th>max</th>\n",
       "    </tr>\n",
       "    <tr>\n",
       "      <th>Risk</th>\n",
       "      <th></th>\n",
       "      <th></th>\n",
       "      <th></th>\n",
       "      <th></th>\n",
       "      <th></th>\n",
       "      <th></th>\n",
       "      <th></th>\n",
       "      <th></th>\n",
       "    </tr>\n",
       "  </thead>\n",
       "  <tbody>\n",
       "    <tr>\n",
       "      <th>0</th>\n",
       "      <td>471.0</td>\n",
       "      <td>0.720446</td>\n",
       "      <td>0.894807</td>\n",
       "      <td>0.0</td>\n",
       "      <td>0.00</td>\n",
       "      <td>0.490</td>\n",
       "      <td>1.00</td>\n",
       "      <td>5.20</td>\n",
       "    </tr>\n",
       "    <tr>\n",
       "      <th>1</th>\n",
       "      <td>300.0</td>\n",
       "      <td>4.259602</td>\n",
       "      <td>4.214293</td>\n",
       "      <td>0.0</td>\n",
       "      <td>1.19</td>\n",
       "      <td>2.985</td>\n",
       "      <td>6.08</td>\n",
       "      <td>20.65</td>\n",
       "    </tr>\n",
       "  </tbody>\n",
       "</table>\n",
       "</div>"
      ],
      "text/plain": [
       "      count      mean       std  min   25%    50%   75%    max\n",
       "Risk                                                          \n",
       "0     471.0  0.720446  0.894807  0.0  0.00  0.490  1.00   5.20\n",
       "1     300.0  4.259602  4.214293  0.0  1.19  2.985  6.08  20.65"
      ]
     },
     "execution_count": 44,
     "metadata": {},
     "output_type": "execute_result"
    }
   ],
   "source": [
    "data.groupby(\"Risk\")[\"PARA_A\"].describe()"
   ]
  },
  {
   "cell_type": "code",
   "execution_count": 45,
   "id": "8f62a983",
   "metadata": {},
   "outputs": [
    {
     "data": {
      "text/plain": [
       "Ttest_indResult(statistic=-17.618908471304856, pvalue=1.2708550685727127e-58)"
      ]
     },
     "execution_count": 45,
     "metadata": {},
     "output_type": "execute_result"
    }
   ],
   "source": [
    "df1=data[data.Risk==0]\n",
    "df1.shape\n",
    "df2=data[data.Risk==1]\n",
    "df2.shape\n",
    "scipy.stats.ttest_ind(df1.PARA_A,df2.PARA_A)"
   ]
  },
  {
   "cell_type": "markdown",
   "id": "ff52b64e",
   "metadata": {},
   "source": [
    "It is a good predictior"
   ]
  },
  {
   "cell_type": "markdown",
   "id": "7b604b4e",
   "metadata": {},
   "source": [
    "# SCORE_A"
   ]
  },
  {
   "cell_type": "code",
   "execution_count": 46,
   "id": "4c94fad5",
   "metadata": {},
   "outputs": [
    {
     "data": {
      "text/plain": [
       "0.2    411\n",
       "0.6    217\n",
       "0.4    143\n",
       "Name: Score_A, dtype: int64"
      ]
     },
     "execution_count": 46,
     "metadata": {},
     "output_type": "execute_result"
    }
   ],
   "source": [
    "data.Score_A.value_counts()"
   ]
  },
  {
   "cell_type": "code",
   "execution_count": 47,
   "id": "3b97e70f",
   "metadata": {},
   "outputs": [
    {
     "data": {
      "text/plain": [
       "count    771.000000\n",
       "mean       0.349676\n",
       "std        0.173458\n",
       "min        0.200000\n",
       "25%        0.200000\n",
       "50%        0.200000\n",
       "75%        0.600000\n",
       "max        0.600000\n",
       "Name: Score_A, dtype: float64"
      ]
     },
     "execution_count": 47,
     "metadata": {},
     "output_type": "execute_result"
    }
   ],
   "source": [
    "data.Score_A.describe()"
   ]
  },
  {
   "cell_type": "code",
   "execution_count": 48,
   "id": "f55dee10",
   "metadata": {},
   "outputs": [
    {
     "data": {
      "image/png": "[encoded data removed]",
      "text/plain": [
       "<Figure size 1080x576 with 1 Axes>"
      ]
     },
     "metadata": {
      "needs_background": "light"
     },
     "output_type": "display_data"
    }
   ],
   "source": [
    "sns.countplot(data.Score_A)\n",
    "plt.title(\"countplot of Score_A\")\n",
    "plt.show()"
   ]
  },
  {
   "cell_type": "markdown",
   "id": "9cc0ed12",
   "metadata": {},
   "source": [
    "we can see that from above fig 0.2 has more count and 0.4 has least"
   ]
  },
  {
   "cell_type": "code",
   "execution_count": 49,
   "id": "5770d4a2",
   "metadata": {},
   "outputs": [
    {
     "data": {
      "image/png": "[encoded data removed]",
      "text/plain": [
       "<Figure size 1080x576 with 1 Axes>"
      ]
     },
     "metadata": {
      "needs_background": "light"
     },
     "output_type": "display_data"
    }
   ],
   "source": [
    "sns.countplot(data.Score_A,hue = data.Risk,data=data)\n",
    "plt.title(\"relation between SCORE_A AND Response\")\n",
    "plt.show()"
   ]
  },
  {
   "cell_type": "code",
   "execution_count": 50,
   "id": "6be3090d",
   "metadata": {},
   "outputs": [
    {
     "data": {
      "text/html": [
       "<div>\n",
       "<style scoped>\n",
       "    .dataframe tbody tr th:only-of-type {\n",
       "        vertical-align: middle;\n",
       "    }\n",
       "\n",
       "    .dataframe tbody tr th {\n",
       "        vertical-align: top;\n",
       "    }\n",
       "\n",
       "    .dataframe thead th {\n",
       "        text-align: right;\n",
       "    }\n",
       "</style>\n",
       "<table border=\"1\" class=\"dataframe\">\n",
       "  <thead>\n",
       "    <tr style=\"text-align: right;\">\n",
       "      <th></th>\n",
       "      <th>count</th>\n",
       "      <th>mean</th>\n",
       "      <th>std</th>\n",
       "      <th>min</th>\n",
       "      <th>25%</th>\n",
       "      <th>50%</th>\n",
       "      <th>75%</th>\n",
       "      <th>max</th>\n",
       "    </tr>\n",
       "    <tr>\n",
       "      <th>Risk</th>\n",
       "      <th></th>\n",
       "      <th></th>\n",
       "      <th></th>\n",
       "      <th></th>\n",
       "      <th></th>\n",
       "      <th></th>\n",
       "      <th></th>\n",
       "      <th></th>\n",
       "    </tr>\n",
       "  </thead>\n",
       "  <tbody>\n",
       "    <tr>\n",
       "      <th>0</th>\n",
       "      <td>471.0</td>\n",
       "      <td>0.264544</td>\n",
       "      <td>0.119910</td>\n",
       "      <td>0.2</td>\n",
       "      <td>0.2</td>\n",
       "      <td>0.2</td>\n",
       "      <td>0.4</td>\n",
       "      <td>0.6</td>\n",
       "    </tr>\n",
       "    <tr>\n",
       "      <th>1</th>\n",
       "      <td>300.0</td>\n",
       "      <td>0.483333</td>\n",
       "      <td>0.159815</td>\n",
       "      <td>0.2</td>\n",
       "      <td>0.4</td>\n",
       "      <td>0.6</td>\n",
       "      <td>0.6</td>\n",
       "      <td>0.6</td>\n",
       "    </tr>\n",
       "  </tbody>\n",
       "</table>\n",
       "</div>"
      ],
      "text/plain": [
       "      count      mean       std  min  25%  50%  75%  max\n",
       "Risk                                                    \n",
       "0     471.0  0.264544  0.119910  0.2  0.2  0.2  0.4  0.6\n",
       "1     300.0  0.483333  0.159815  0.2  0.4  0.6  0.6  0.6"
      ]
     },
     "execution_count": 50,
     "metadata": {},
     "output_type": "execute_result"
    }
   ],
   "source": [
    "data.groupby(\"Risk\")[\"Score_A\"].describe()"
   ]
  },
  {
   "cell_type": "code",
   "execution_count": 51,
   "id": "2ff736e8",
   "metadata": {},
   "outputs": [
    {
     "data": {
      "text/html": [
       "<div>\n",
       "<style scoped>\n",
       "    .dataframe tbody tr th:only-of-type {\n",
       "        vertical-align: middle;\n",
       "    }\n",
       "\n",
       "    .dataframe tbody tr th {\n",
       "        vertical-align: top;\n",
       "    }\n",
       "\n",
       "    .dataframe thead th {\n",
       "        text-align: right;\n",
       "    }\n",
       "</style>\n",
       "<table border=\"1\" class=\"dataframe\">\n",
       "  <thead>\n",
       "    <tr style=\"text-align: right;\">\n",
       "      <th>Risk</th>\n",
       "      <th>0</th>\n",
       "      <th>1</th>\n",
       "      <th>All</th>\n",
       "    </tr>\n",
       "    <tr>\n",
       "      <th>Score_A</th>\n",
       "      <th></th>\n",
       "      <th></th>\n",
       "      <th></th>\n",
       "    </tr>\n",
       "  </thead>\n",
       "  <tbody>\n",
       "    <tr>\n",
       "      <th>0.2</th>\n",
       "      <td>352</td>\n",
       "      <td>59</td>\n",
       "      <td>411</td>\n",
       "    </tr>\n",
       "    <tr>\n",
       "      <th>0.4</th>\n",
       "      <td>86</td>\n",
       "      <td>57</td>\n",
       "      <td>143</td>\n",
       "    </tr>\n",
       "    <tr>\n",
       "      <th>0.6</th>\n",
       "      <td>33</td>\n",
       "      <td>184</td>\n",
       "      <td>217</td>\n",
       "    </tr>\n",
       "    <tr>\n",
       "      <th>All</th>\n",
       "      <td>471</td>\n",
       "      <td>300</td>\n",
       "      <td>771</td>\n",
       "    </tr>\n",
       "  </tbody>\n",
       "</table>\n",
       "</div>"
      ],
      "text/plain": [
       "Risk       0    1  All\n",
       "Score_A               \n",
       "0.2      352   59  411\n",
       "0.4       86   57  143\n",
       "0.6       33  184  217\n",
       "All      471  300  771"
      ]
     },
     "execution_count": 51,
     "metadata": {},
     "output_type": "execute_result"
    }
   ],
   "source": [
    "pd.crosstab(data.Score_A,data.Risk,margins = True)"
   ]
  },
  {
   "cell_type": "code",
   "execution_count": 52,
   "id": "ea8462a6",
   "metadata": {},
   "outputs": [],
   "source": [
    "import scipy"
   ]
  },
  {
   "cell_type": "code",
   "execution_count": 53,
   "id": "0b08cc30",
   "metadata": {},
   "outputs": [],
   "source": [
    "risk_score=np.array([[352,22],[86,34],[33,117]])"
   ]
  },
  {
   "cell_type": "code",
   "execution_count": 54,
   "id": "1a28bde7",
   "metadata": {},
   "outputs": [
    {
     "data": {
      "text/plain": [
       "(283.57496250511053,\n",
       " 2.645326539494094e-62,\n",
       " 2,\n",
       " array([[273.5310559 , 100.4689441 ],\n",
       "        [ 87.76397516,  32.23602484],\n",
       "        [109.70496894,  40.29503106]]))"
      ]
     },
     "execution_count": 54,
     "metadata": {},
     "output_type": "execute_result"
    }
   ],
   "source": [
    "scipy.stats.chi2_contingency(risk_score)"
   ]
  },
  {
   "cell_type": "markdown",
   "id": "c04b4b25",
   "metadata": {},
   "source": [
    "It is a good predictior"
   ]
  },
  {
   "cell_type": "markdown",
   "id": "55662284",
   "metadata": {},
   "source": [
    "# Risk_A"
   ]
  },
  {
   "cell_type": "code",
   "execution_count": 55,
   "id": "fd7c868b",
   "metadata": {},
   "outputs": [
    {
     "data": {
      "text/plain": [
       "0.000    151\n",
       "0.098      8\n",
       "0.102      8\n",
       "0.168      7\n",
       "0.112      7\n",
       "        ... \n",
       "8.352      1\n",
       "7.608      1\n",
       "4.458      1\n",
       "0.636      1\n",
       "3.120      1\n",
       "Name: Risk_A, Length: 358, dtype: int64"
      ]
     },
     "execution_count": 55,
     "metadata": {},
     "output_type": "execute_result"
    }
   ],
   "source": [
    "data.Risk_A.value_counts()"
   ]
  },
  {
   "cell_type": "code",
   "execution_count": 56,
   "id": "9be65675",
   "metadata": {},
   "outputs": [
    {
     "data": {
      "text/plain": [
       "count    771.000000\n",
       "mean       1.138669\n",
       "std        1.977209\n",
       "min        0.000000\n",
       "25%        0.041000\n",
       "50%        0.170000\n",
       "75%        1.464000\n",
       "max       12.390000\n",
       "Name: Risk_A, dtype: float64"
      ]
     },
     "execution_count": 56,
     "metadata": {},
     "output_type": "execute_result"
    }
   ],
   "source": [
    "data.Risk_A.describe()"
   ]
  },
  {
   "cell_type": "code",
   "execution_count": 57,
   "id": "f1a34bd2",
   "metadata": {},
   "outputs": [
    {
     "data": {
      "image/png": "[encoded data removed]",
      "text/plain": [
       "<Figure size 1080x576 with 1 Axes>"
      ]
     },
     "metadata": {
      "needs_background": "light"
     },
     "output_type": "display_data"
    }
   ],
   "source": [
    "plt.hist(data.Risk_A)\n",
    "plt.title(\"distribution of Risk_A\")\n",
    "plt.show()"
   ]
  },
  {
   "cell_type": "markdown",
   "id": "2e483c21",
   "metadata": {},
   "source": [
    "In this fig we we can see that more disrtribution is lies between 0 to 2 and it is a right skewness"
   ]
  },
  {
   "cell_type": "code",
   "execution_count": 58,
   "id": "cd7f53f7",
   "metadata": {},
   "outputs": [
    {
     "data": {
      "image/png": "[encoded data removed]",
      "text/plain": [
       "<Figure size 1080x576 with 1 Axes>"
      ]
     },
     "metadata": {
      "needs_background": "light"
     },
     "output_type": "display_data"
    }
   ],
   "source": [
    "plt.boxplot(data.Risk_A,vert = False,patch_artist = True)\n",
    "plt.title(\"boxplot of Risk_A\")\n",
    "plt.show()"
   ]
  },
  {
   "cell_type": "markdown",
   "id": "deeb899d",
   "metadata": {},
   "source": [
    "They are 72 outliers are present in above the upper limit"
   ]
  },
  {
   "cell_type": "code",
   "execution_count": 59,
   "id": "f259a6c9",
   "metadata": {},
   "outputs": [
    {
     "data": {
      "text/plain": [
       "1.423"
      ]
     },
     "execution_count": 59,
     "metadata": {},
     "output_type": "execute_result"
    }
   ],
   "source": [
    "IQR = data.Risk_A.quantile(0.75)-data.Risk_A.quantile(0.25)\n",
    "IQR"
   ]
  },
  {
   "cell_type": "code",
   "execution_count": 60,
   "id": "595f2603",
   "metadata": {},
   "outputs": [
    {
     "data": {
      "text/plain": [
       "3.5985"
      ]
     },
     "execution_count": 60,
     "metadata": {},
     "output_type": "execute_result"
    }
   ],
   "source": [
    "upper_limit= data.Risk_A.quantile(0.75)+ (1.5*IQR)\n",
    "upper_limit"
   ]
  },
  {
   "cell_type": "code",
   "execution_count": 61,
   "id": "944ae5bd",
   "metadata": {},
   "outputs": [
    {
     "data": {
      "text/plain": [
       "-2.0935"
      ]
     },
     "execution_count": 61,
     "metadata": {},
     "output_type": "execute_result"
    }
   ],
   "source": [
    "lower_limit= data.Risk_A.quantile(0.25)- (1.5*IQR)\n",
    "lower_limit"
   ]
  },
  {
   "cell_type": "code",
   "execution_count": 62,
   "id": "74c1e887",
   "metadata": {},
   "outputs": [
    {
     "data": {
      "text/plain": [
       "76"
      ]
     },
     "execution_count": 62,
     "metadata": {},
     "output_type": "execute_result"
    }
   ],
   "source": [
    "len(data.Risk_A[data.Risk_A>upper_limit])"
   ]
  },
  {
   "cell_type": "code",
   "execution_count": 63,
   "id": "32856a9c",
   "metadata": {},
   "outputs": [],
   "source": [
    "data=data[data['Risk_A']<=9]"
   ]
  },
  {
   "cell_type": "code",
   "execution_count": 64,
   "id": "6707d8c7",
   "metadata": {},
   "outputs": [
    {
     "data": {
      "text/plain": [
       "(761, 27)"
      ]
     },
     "execution_count": 64,
     "metadata": {},
     "output_type": "execute_result"
    }
   ],
   "source": [
    "data.shape"
   ]
  },
  {
   "cell_type": "code",
   "execution_count": 65,
   "id": "bb6cca77",
   "metadata": {},
   "outputs": [
    {
     "data": {
      "text/plain": [
       "Ttest_indResult(statistic=-18.527634466450987, pvalue=1.6471241569286337e-63)"
      ]
     },
     "execution_count": 65,
     "metadata": {},
     "output_type": "execute_result"
    }
   ],
   "source": [
    "df1=data[data.Risk==0]\n",
    "df1.shape\n",
    "df2=data[data.Risk==1]\n",
    "df2.shape\n",
    "scipy.stats.ttest_ind(df1.Risk_A,df2.Risk_A)"
   ]
  },
  {
   "cell_type": "markdown",
   "id": "0e2be75c",
   "metadata": {},
   "source": [
    "It is a Good predictior"
   ]
  },
  {
   "cell_type": "markdown",
   "id": "f72d1e8a",
   "metadata": {},
   "source": [
    "# PARA_B"
   ]
  },
  {
   "cell_type": "code",
   "execution_count": 66,
   "id": "b73bfac7",
   "metadata": {},
   "outputs": [
    {
     "data": {
      "text/plain": [
       "0.00     277\n",
       "0.28       7\n",
       "0.11       7\n",
       "0.05       6\n",
       "0.08       5\n",
       "        ... \n",
       "22.31      1\n",
       "16.09      1\n",
       "3.30       1\n",
       "54.99      1\n",
       "16.74      1\n",
       "Name: PARA_B, Length: 345, dtype: int64"
      ]
     },
     "execution_count": 66,
     "metadata": {},
     "output_type": "execute_result"
    }
   ],
   "source": [
    "data.PARA_B.value_counts()"
   ]
  },
  {
   "cell_type": "code",
   "execution_count": 67,
   "id": "8f337c9b",
   "metadata": {},
   "outputs": [
    {
     "data": {
      "text/plain": [
       "count     761.000000\n",
       "mean       10.183392\n",
       "std        50.144539\n",
       "min         0.000000\n",
       "25%         0.000000\n",
       "50%         0.390000\n",
       "75%         3.300000\n",
       "max      1264.630000\n",
       "Name: PARA_B, dtype: float64"
      ]
     },
     "execution_count": 67,
     "metadata": {},
     "output_type": "execute_result"
    }
   ],
   "source": [
    "data.PARA_B.describe()"
   ]
  },
  {
   "cell_type": "code",
   "execution_count": 68,
   "id": "af78b3d3",
   "metadata": {},
   "outputs": [
    {
     "data": {
      "image/png": "[encoded data removed]",
      "text/plain": [
       "<Figure size 1080x576 with 1 Axes>"
      ]
     },
     "metadata": {
      "needs_background": "light"
     },
     "output_type": "display_data"
    }
   ],
   "source": [
    "plt.hist(data.PARA_B)\n",
    "plt.title(\"distribution of PARP_B\")\n",
    "plt.show()"
   ]
  },
  {
   "cell_type": "markdown",
   "id": "a83e2665",
   "metadata": {},
   "source": [
    "we can see that more distribution was lies in 0 to 10"
   ]
  },
  {
   "cell_type": "code",
   "execution_count": 69,
   "id": "84d17996",
   "metadata": {},
   "outputs": [
    {
     "data": {
      "image/png": "[encoded data removed]",
      "text/plain": [
       "<Figure size 1080x576 with 1 Axes>"
      ]
     },
     "metadata": {
      "needs_background": "light"
     },
     "output_type": "display_data"
    }
   ],
   "source": [
    "plt.boxplot(data.PARA_B,vert = False,patch_artist = True)\n",
    "plt.title(\"boxplot of PARA_B\")\n",
    "plt.show()"
   ]
  },
  {
   "cell_type": "markdown",
   "id": "794f51a5",
   "metadata": {},
   "source": [
    "And they are 138 outliers are present in above the upper limit"
   ]
  },
  {
   "cell_type": "code",
   "execution_count": 70,
   "id": "940be96b",
   "metadata": {},
   "outputs": [
    {
     "data": {
      "text/plain": [
       "3.3"
      ]
     },
     "execution_count": 70,
     "metadata": {},
     "output_type": "execute_result"
    }
   ],
   "source": [
    "IQR = data.PARA_B.quantile(0.75)-data.PARA_B.quantile(0.25)\n",
    "IQR"
   ]
  },
  {
   "cell_type": "code",
   "execution_count": 71,
   "id": "2c69e91a",
   "metadata": {},
   "outputs": [
    {
     "data": {
      "text/plain": [
       "8.25"
      ]
     },
     "execution_count": 71,
     "metadata": {},
     "output_type": "execute_result"
    }
   ],
   "source": [
    "upper_limit= data.PARA_B.quantile(0.75)+ (1.5*IQR)\n",
    "upper_limit"
   ]
  },
  {
   "cell_type": "code",
   "execution_count": 72,
   "id": "25709ea7",
   "metadata": {},
   "outputs": [
    {
     "data": {
      "text/plain": [
       "-4.949999999999999"
      ]
     },
     "execution_count": 72,
     "metadata": {},
     "output_type": "execute_result"
    }
   ],
   "source": [
    "lower_limit= data.PARA_B.quantile(0.25)- (1.5*IQR)\n",
    "lower_limit"
   ]
  },
  {
   "cell_type": "code",
   "execution_count": 73,
   "id": "5a7d404a",
   "metadata": {},
   "outputs": [
    {
     "data": {
      "text/plain": [
       "138"
      ]
     },
     "execution_count": 73,
     "metadata": {},
     "output_type": "execute_result"
    }
   ],
   "source": [
    "len(data.PARA_B[data.PARA_B>upper_limit])"
   ]
  },
  {
   "cell_type": "code",
   "execution_count": 74,
   "id": "8e573012",
   "metadata": {},
   "outputs": [],
   "source": [
    "data=data[data['PARA_B']<=80]"
   ]
  },
  {
   "cell_type": "code",
   "execution_count": 75,
   "id": "5f6e0d96",
   "metadata": {},
   "outputs": [
    {
     "data": {
      "text/plain": [
       "Ttest_indResult(statistic=-16.21109079005409, pvalue=8.372616778095734e-51)"
      ]
     },
     "execution_count": 75,
     "metadata": {},
     "output_type": "execute_result"
    }
   ],
   "source": [
    "df1=data[data.Risk==0]\n",
    "df1.shape\n",
    "df2=data[data.Risk==1]\n",
    "df2.shape\n",
    "scipy.stats.ttest_ind(df1.PARA_B,df2.PARA_B)"
   ]
  },
  {
   "cell_type": "markdown",
   "id": "fd8b01cd",
   "metadata": {},
   "source": [
    "It is a Good Predictior"
   ]
  },
  {
   "cell_type": "markdown",
   "id": "06f84696",
   "metadata": {},
   "source": [
    "# Score_B"
   ]
  },
  {
   "cell_type": "code",
   "execution_count": 76,
   "id": "4d2c3e06",
   "metadata": {},
   "outputs": [
    {
     "data": {
      "text/plain": [
       "0.2    519\n",
       "0.6    153\n",
       "0.4     70\n",
       "Name: Score_B, dtype: int64"
      ]
     },
     "execution_count": 76,
     "metadata": {},
     "output_type": "execute_result"
    }
   ],
   "source": [
    "data.Score_B.value_counts()"
   ]
  },
  {
   "cell_type": "code",
   "execution_count": 77,
   "id": "3fcd18ee",
   "metadata": {},
   "outputs": [
    {
     "data": {
      "text/plain": [
       "count    742.000000\n",
       "mean       0.301348\n",
       "std        0.162880\n",
       "min        0.200000\n",
       "25%        0.200000\n",
       "50%        0.200000\n",
       "75%        0.400000\n",
       "max        0.600000\n",
       "Name: Score_B, dtype: float64"
      ]
     },
     "execution_count": 77,
     "metadata": {},
     "output_type": "execute_result"
    }
   ],
   "source": [
    "data.Score_B.describe()"
   ]
  },
  {
   "cell_type": "code",
   "execution_count": 78,
   "id": "2961464f",
   "metadata": {},
   "outputs": [
    {
     "data": {
      "image/png": "[encoded data removed]",
      "text/plain": [
       "<Figure size 1080x576 with 1 Axes>"
      ]
     },
     "metadata": {
      "needs_background": "light"
     },
     "output_type": "display_data"
    }
   ],
   "source": [
    "sns.countplot(data.Score_B)\n",
    "plt.title(\"countplot of Score_B\")\n",
    "plt.show()"
   ]
  },
  {
   "cell_type": "markdown",
   "id": "b7f70372",
   "metadata": {},
   "source": [
    "From above fig we can see that 0.2 has more counts"
   ]
  },
  {
   "cell_type": "code",
   "execution_count": 79,
   "id": "cae71685",
   "metadata": {},
   "outputs": [
    {
     "data": {
      "image/png": "[encoded data removed]",
      "text/plain": [
       "<Figure size 1080x576 with 1 Axes>"
      ]
     },
     "metadata": {
      "needs_background": "light"
     },
     "output_type": "display_data"
    }
   ],
   "source": [
    "sns.countplot(data.Score_B,hue = data.Risk,data=data)\n",
    "plt.title(\"relation between Score_b and Response var\")\n",
    "plt.show()"
   ]
  },
  {
   "cell_type": "code",
   "execution_count": 80,
   "id": "11d5b22f",
   "metadata": {},
   "outputs": [
    {
     "data": {
      "text/html": [
       "<div>\n",
       "<style scoped>\n",
       "    .dataframe tbody tr th:only-of-type {\n",
       "        vertical-align: middle;\n",
       "    }\n",
       "\n",
       "    .dataframe tbody tr th {\n",
       "        vertical-align: top;\n",
       "    }\n",
       "\n",
       "    .dataframe thead th {\n",
       "        text-align: right;\n",
       "    }\n",
       "</style>\n",
       "<table border=\"1\" class=\"dataframe\">\n",
       "  <thead>\n",
       "    <tr style=\"text-align: right;\">\n",
       "      <th></th>\n",
       "      <th>count</th>\n",
       "      <th>mean</th>\n",
       "      <th>std</th>\n",
       "      <th>min</th>\n",
       "      <th>25%</th>\n",
       "      <th>50%</th>\n",
       "      <th>75%</th>\n",
       "      <th>max</th>\n",
       "    </tr>\n",
       "    <tr>\n",
       "      <th>Risk</th>\n",
       "      <th></th>\n",
       "      <th></th>\n",
       "      <th></th>\n",
       "      <th></th>\n",
       "      <th></th>\n",
       "      <th></th>\n",
       "      <th></th>\n",
       "      <th></th>\n",
       "    </tr>\n",
       "  </thead>\n",
       "  <tbody>\n",
       "    <tr>\n",
       "      <th>0</th>\n",
       "      <td>471.0</td>\n",
       "      <td>0.226327</td>\n",
       "      <td>0.084470</td>\n",
       "      <td>0.2</td>\n",
       "      <td>0.2</td>\n",
       "      <td>0.2</td>\n",
       "      <td>0.2</td>\n",
       "      <td>0.6</td>\n",
       "    </tr>\n",
       "    <tr>\n",
       "      <th>1</th>\n",
       "      <td>271.0</td>\n",
       "      <td>0.431734</td>\n",
       "      <td>0.183051</td>\n",
       "      <td>0.2</td>\n",
       "      <td>0.2</td>\n",
       "      <td>0.6</td>\n",
       "      <td>0.6</td>\n",
       "      <td>0.6</td>\n",
       "    </tr>\n",
       "  </tbody>\n",
       "</table>\n",
       "</div>"
      ],
      "text/plain": [
       "      count      mean       std  min  25%  50%  75%  max\n",
       "Risk                                                    \n",
       "0     471.0  0.226327  0.084470  0.2  0.2  0.2  0.2  0.6\n",
       "1     271.0  0.431734  0.183051  0.2  0.2  0.6  0.6  0.6"
      ]
     },
     "execution_count": 80,
     "metadata": {},
     "output_type": "execute_result"
    }
   ],
   "source": [
    "data.groupby(\"Risk\")[\"Score_B\"].describe()"
   ]
  },
  {
   "cell_type": "code",
   "execution_count": 81,
   "id": "19b6380a",
   "metadata": {},
   "outputs": [
    {
     "data": {
      "text/html": [
       "<div>\n",
       "<style scoped>\n",
       "    .dataframe tbody tr th:only-of-type {\n",
       "        vertical-align: middle;\n",
       "    }\n",
       "\n",
       "    .dataframe tbody tr th {\n",
       "        vertical-align: top;\n",
       "    }\n",
       "\n",
       "    .dataframe thead th {\n",
       "        text-align: right;\n",
       "    }\n",
       "</style>\n",
       "<table border=\"1\" class=\"dataframe\">\n",
       "  <thead>\n",
       "    <tr style=\"text-align: right;\">\n",
       "      <th>Risk</th>\n",
       "      <th>0</th>\n",
       "      <th>1</th>\n",
       "      <th>All</th>\n",
       "    </tr>\n",
       "    <tr>\n",
       "      <th>Score_B</th>\n",
       "      <th></th>\n",
       "      <th></th>\n",
       "      <th></th>\n",
       "    </tr>\n",
       "  </thead>\n",
       "  <tbody>\n",
       "    <tr>\n",
       "      <th>0.2</th>\n",
       "      <td>424</td>\n",
       "      <td>95</td>\n",
       "      <td>519</td>\n",
       "    </tr>\n",
       "    <tr>\n",
       "      <th>0.4</th>\n",
       "      <td>32</td>\n",
       "      <td>38</td>\n",
       "      <td>70</td>\n",
       "    </tr>\n",
       "    <tr>\n",
       "      <th>0.6</th>\n",
       "      <td>15</td>\n",
       "      <td>138</td>\n",
       "      <td>153</td>\n",
       "    </tr>\n",
       "    <tr>\n",
       "      <th>All</th>\n",
       "      <td>471</td>\n",
       "      <td>271</td>\n",
       "      <td>742</td>\n",
       "    </tr>\n",
       "  </tbody>\n",
       "</table>\n",
       "</div>"
      ],
      "text/plain": [
       "Risk       0    1  All\n",
       "Score_B               \n",
       "0.2      424   95  519\n",
       "0.4       32   38   70\n",
       "0.6       15  138  153\n",
       "All      471  271  742"
      ]
     },
     "execution_count": 81,
     "metadata": {},
     "output_type": "execute_result"
    }
   ],
   "source": [
    "pd.crosstab(data.Score_B,data.Risk,margins = True)"
   ]
  },
  {
   "cell_type": "code",
   "execution_count": 82,
   "id": "8b5de546",
   "metadata": {},
   "outputs": [],
   "source": [
    "Risk_Score = np.array([[424,37],[32,30],[15,106]])"
   ]
  },
  {
   "cell_type": "code",
   "execution_count": 83,
   "id": "7ff51911",
   "metadata": {},
   "outputs": [
    {
     "data": {
      "text/plain": [
       "(325.09698435974286,\n",
       " 2.5473393510313432e-71,\n",
       " 2,\n",
       " array([[337.15993789, 123.84006211],\n",
       "        [ 45.3447205 ,  16.6552795 ],\n",
       "        [ 88.49534161,  32.50465839]]))"
      ]
     },
     "execution_count": 83,
     "metadata": {},
     "output_type": "execute_result"
    }
   ],
   "source": [
    "scipy.stats.chi2_contingency(Risk_Score)"
   ]
  },
  {
   "cell_type": "markdown",
   "id": "e8a987e9",
   "metadata": {},
   "source": [
    "It is a GOOD PREDICTIOR"
   ]
  },
  {
   "cell_type": "markdown",
   "id": "56c64011",
   "metadata": {},
   "source": [
    "#  Risk_B"
   ]
  },
  {
   "cell_type": "code",
   "execution_count": 84,
   "id": "42eb499d",
   "metadata": {},
   "outputs": [
    {
     "data": {
      "text/plain": [
       "0.000     277\n",
       "0.022       7\n",
       "0.056       7\n",
       "0.010       6\n",
       "0.126       5\n",
       "         ... \n",
       "0.898       1\n",
       "1.404       1\n",
       "0.696       1\n",
       "28.740      1\n",
       "22.398      1\n",
       "Name: Risk_B, Length: 328, dtype: int64"
      ]
     },
     "execution_count": 84,
     "metadata": {},
     "output_type": "execute_result"
    }
   ],
   "source": [
    "data.Risk_B.value_counts()"
   ]
  },
  {
   "cell_type": "code",
   "execution_count": 85,
   "id": "06babc06",
   "metadata": {},
   "outputs": [
    {
     "data": {
      "text/plain": [
       "count    742.000000\n",
       "mean       3.590520\n",
       "std        8.985936\n",
       "min        0.000000\n",
       "25%        0.000000\n",
       "50%        0.067000\n",
       "75%        0.736500\n",
       "max       47.700000\n",
       "Name: Risk_B, dtype: float64"
      ]
     },
     "execution_count": 85,
     "metadata": {},
     "output_type": "execute_result"
    }
   ],
   "source": [
    "data.Risk_B.describe()"
   ]
  },
  {
   "cell_type": "code",
   "execution_count": 86,
   "id": "9829c5aa",
   "metadata": {},
   "outputs": [
    {
     "data": {
      "image/png": "[encoded data removed]",
      "text/plain": [
       "<Figure size 1080x576 with 1 Axes>"
      ]
     },
     "metadata": {
      "needs_background": "light"
     },
     "output_type": "display_data"
    }
   ],
   "source": [
    "plt.hist(data.Risk_B)\n",
    "plt.title(\"distributon of Risk_b\")\n",
    "plt.show()"
   ]
  },
  {
   "cell_type": "code",
   "execution_count": 87,
   "id": "041e415c",
   "metadata": {},
   "outputs": [
    {
     "data": {
      "image/png": "[encoded data removed]",
      "text/plain": [
       "<Figure size 1080x576 with 1 Axes>"
      ]
     },
     "metadata": {
      "needs_background": "light"
     },
     "output_type": "display_data"
    }
   ],
   "source": [
    "plt.boxplot(data.Risk_B,vert = False,patch_artist = True)\n",
    "plt.title(\"boxplot of Risk_B\")\n",
    "plt.show()"
   ]
  },
  {
   "cell_type": "markdown",
   "id": "3338683c",
   "metadata": {},
   "source": [
    "from this boxplot we can see that 164 outliers are above the upper limit"
   ]
  },
  {
   "cell_type": "code",
   "execution_count": 88,
   "id": "4e80452d",
   "metadata": {},
   "outputs": [
    {
     "data": {
      "text/plain": [
       "0.7364999999999999"
      ]
     },
     "execution_count": 88,
     "metadata": {},
     "output_type": "execute_result"
    }
   ],
   "source": [
    "IQR = data.Risk_B.quantile(0.75)-data.Risk_B.quantile(0.25)\n",
    "IQR"
   ]
  },
  {
   "cell_type": "code",
   "execution_count": 89,
   "id": "759acff8",
   "metadata": {},
   "outputs": [
    {
     "data": {
      "text/plain": [
       "1.8412499999999998"
      ]
     },
     "execution_count": 89,
     "metadata": {},
     "output_type": "execute_result"
    }
   ],
   "source": [
    "upper_limit= data.Risk_B.quantile(0.75)+ (1.5*IQR)\n",
    "upper_limit"
   ]
  },
  {
   "cell_type": "code",
   "execution_count": 90,
   "id": "d2823a76",
   "metadata": {},
   "outputs": [
    {
     "data": {
      "text/plain": [
       "-1.10475"
      ]
     },
     "execution_count": 90,
     "metadata": {},
     "output_type": "execute_result"
    }
   ],
   "source": [
    "lower_limit= data.Risk_B.quantile(0.25)- (1.5*IQR)\n",
    "lower_limit"
   ]
  },
  {
   "cell_type": "code",
   "execution_count": 91,
   "id": "b5be5514",
   "metadata": {},
   "outputs": [
    {
     "data": {
      "text/plain": [
       "164"
      ]
     },
     "execution_count": 91,
     "metadata": {},
     "output_type": "execute_result"
    }
   ],
   "source": [
    "len(data.Risk_B[data.Risk_B>upper_limit])"
   ]
  },
  {
   "cell_type": "code",
   "execution_count": 92,
   "id": "69972f7d",
   "metadata": {},
   "outputs": [],
   "source": [
    "data=data[data['Risk_B']<=45]"
   ]
  },
  {
   "cell_type": "code",
   "execution_count": 93,
   "id": "5fc553cf",
   "metadata": {},
   "outputs": [
    {
     "data": {
      "text/plain": [
       "(741, 27)"
      ]
     },
     "execution_count": 93,
     "metadata": {},
     "output_type": "execute_result"
    }
   ],
   "source": [
    "data.shape"
   ]
  },
  {
   "cell_type": "code",
   "execution_count": 94,
   "id": "01dacf81",
   "metadata": {},
   "outputs": [
    {
     "data": {
      "text/plain": [
       "Ttest_indResult(statistic=-15.85183957045788, pvalue=6.236874717570573e-49)"
      ]
     },
     "execution_count": 94,
     "metadata": {},
     "output_type": "execute_result"
    }
   ],
   "source": [
    "df1=data[data.Risk==0]\n",
    "df1.shape\n",
    "df2=data[data.Risk==1]\n",
    "df2.shape\n",
    "scipy.stats.ttest_ind(df1.Risk_B,df2.Risk_B)"
   ]
  },
  {
   "cell_type": "markdown",
   "id": "05d479e8",
   "metadata": {},
   "source": [
    "It is a Good Predictior"
   ]
  },
  {
   "cell_type": "markdown",
   "id": "ac583bab",
   "metadata": {},
   "source": [
    "# TOTAL"
   ]
  },
  {
   "cell_type": "code",
   "execution_count": 95,
   "id": "04164e6c",
   "metadata": {},
   "outputs": [
    {
     "data": {
      "text/plain": [
       "0.00     90\n",
       "1.10      7\n",
       "0.84      6\n",
       "0.89      5\n",
       "0.68      5\n",
       "         ..\n",
       "4.11      1\n",
       "8.11      1\n",
       "3.51      1\n",
       "84.26     1\n",
       "3.83      1\n",
       "Name: TOTAL, Length: 437, dtype: int64"
      ]
     },
     "execution_count": 95,
     "metadata": {},
     "output_type": "execute_result"
    }
   ],
   "source": [
    "data.TOTAL.value_counts()"
   ]
  },
  {
   "cell_type": "code",
   "execution_count": 96,
   "id": "9e44f593",
   "metadata": {},
   "outputs": [
    {
     "data": {
      "image/png": "[encoded data removed]",
      "text/plain": [
       "<Figure size 1080x576 with 1 Axes>"
      ]
     },
     "metadata": {
      "needs_background": "light"
     },
     "output_type": "display_data"
    }
   ],
   "source": [
    "plt.hist(data.TOTAL)\n",
    "plt.title(\"Total\")\n",
    "plt.show()"
   ]
  },
  {
   "cell_type": "code",
   "execution_count": 97,
   "id": "a765b1cf",
   "metadata": {},
   "outputs": [
    {
     "data": {
      "image/png": "[encoded data removed]",
      "text/plain": [
       "<Figure size 1080x576 with 1 Axes>"
      ]
     },
     "metadata": {
      "needs_background": "light"
     },
     "output_type": "display_data"
    }
   ],
   "source": [
    "plt.boxplot(data.TOTAL,vert = False,patch_artist = True)\n",
    "plt.title(\"boxplot of TOTAL\")\n",
    "plt.show()"
   ]
  },
  {
   "cell_type": "markdown",
   "id": "a3ca98e2",
   "metadata": {},
   "source": [
    "From the above fig see that they are 109 outliers are above the upper limit"
   ]
  },
  {
   "cell_type": "code",
   "execution_count": 98,
   "id": "7ebd2d56",
   "metadata": {},
   "outputs": [
    {
     "data": {
      "text/plain": [
       "5.46"
      ]
     },
     "execution_count": 98,
     "metadata": {},
     "output_type": "execute_result"
    }
   ],
   "source": [
    "IQR = data.TOTAL.quantile(0.75)-data.TOTAL.quantile(0.25)\n",
    "IQR"
   ]
  },
  {
   "cell_type": "code",
   "execution_count": 99,
   "id": "82607b9f",
   "metadata": {},
   "outputs": [
    {
     "data": {
      "text/plain": [
       "14.14"
      ]
     },
     "execution_count": 99,
     "metadata": {},
     "output_type": "execute_result"
    }
   ],
   "source": [
    "upper_limit= data.TOTAL.quantile(0.75)+ (1.5*IQR)\n",
    "upper_limit"
   ]
  },
  {
   "cell_type": "code",
   "execution_count": 100,
   "id": "6694953f",
   "metadata": {},
   "outputs": [
    {
     "data": {
      "text/plain": [
       "-7.699999999999999"
      ]
     },
     "execution_count": 100,
     "metadata": {},
     "output_type": "execute_result"
    }
   ],
   "source": [
    "lower_limit= data.TOTAL.quantile(0.25)- (1.5*IQR)\n",
    "lower_limit"
   ]
  },
  {
   "cell_type": "code",
   "execution_count": 101,
   "id": "3cdc05a1",
   "metadata": {},
   "outputs": [
    {
     "data": {
      "text/plain": [
       "109"
      ]
     },
     "execution_count": 101,
     "metadata": {},
     "output_type": "execute_result"
    }
   ],
   "source": [
    "len(data.TOTAL[data.TOTAL>upper_limit])"
   ]
  },
  {
   "cell_type": "code",
   "execution_count": 102,
   "id": "81db4fa5",
   "metadata": {},
   "outputs": [],
   "source": [
    "data=data[data['TOTAL']<=80]"
   ]
  },
  {
   "cell_type": "code",
   "execution_count": 103,
   "id": "36382483",
   "metadata": {},
   "outputs": [
    {
     "data": {
      "text/plain": [
       "Ttest_indResult(statistic=-18.318845122957153, pvalue=4.799067213558392e-62)"
      ]
     },
     "execution_count": 103,
     "metadata": {},
     "output_type": "execute_result"
    }
   ],
   "source": [
    "df1=data[data.Risk==0]\n",
    "df1.shape\n",
    "df2=data[data.Risk==1]\n",
    "df2.shape\n",
    "scipy.stats.ttest_ind(df1.TOTAL,df2.TOTAL)"
   ]
  },
  {
   "cell_type": "markdown",
   "id": "5159feaa",
   "metadata": {},
   "source": [
    "It is a Good PREDICTIOR"
   ]
  },
  {
   "cell_type": "markdown",
   "id": "fe9b9bfe",
   "metadata": {},
   "source": [
    "# numbers"
   ]
  },
  {
   "cell_type": "code",
   "execution_count": 104,
   "id": "d3d6ac74",
   "metadata": {},
   "outputs": [
    {
     "data": {
      "text/plain": [
       "5.0    682\n",
       "5.5     41\n",
       "6.0     10\n",
       "6.5      5\n",
       "Name: numbers, dtype: int64"
      ]
     },
     "execution_count": 104,
     "metadata": {},
     "output_type": "execute_result"
    }
   ],
   "source": [
    "data.numbers.value_counts()"
   ]
  },
  {
   "cell_type": "code",
   "execution_count": 105,
   "id": "76028d44",
   "metadata": {},
   "outputs": [
    {
     "data": {
      "text/plain": [
       "count    738.000000\n",
       "mean       5.051491\n",
       "std        0.200215\n",
       "min        5.000000\n",
       "25%        5.000000\n",
       "50%        5.000000\n",
       "75%        5.000000\n",
       "max        6.500000\n",
       "Name: numbers, dtype: float64"
      ]
     },
     "execution_count": 105,
     "metadata": {},
     "output_type": "execute_result"
    }
   ],
   "source": [
    "data.numbers.describe()"
   ]
  },
  {
   "cell_type": "code",
   "execution_count": 106,
   "id": "8d08463b",
   "metadata": {},
   "outputs": [
    {
     "data": {
      "image/png": "[encoded data removed]",
      "text/plain": [
       "<Figure size 1080x576 with 1 Axes>"
      ]
     },
     "metadata": {
      "needs_background": "light"
     },
     "output_type": "display_data"
    }
   ],
   "source": [
    "sns.countplot(data.numbers)\n",
    "plt.title(\"COUNTPLOT OF numbers\")\n",
    "plt.show()"
   ]
  },
  {
   "cell_type": "code",
   "execution_count": 107,
   "id": "9f9cd4a8",
   "metadata": {},
   "outputs": [
    {
     "data": {
      "image/png": "[encoded data removed]",
      "text/plain": [
       "<Figure size 1080x576 with 1 Axes>"
      ]
     },
     "metadata": {
      "needs_background": "light"
     },
     "output_type": "display_data"
    }
   ],
   "source": [
    "sns.countplot(data.numbers,hue = data.Risk,data=data)\n",
    "plt.show()"
   ]
  },
  {
   "cell_type": "code",
   "execution_count": 108,
   "id": "278bf3a3",
   "metadata": {},
   "outputs": [
    {
     "data": {
      "text/html": [
       "<div>\n",
       "<style scoped>\n",
       "    .dataframe tbody tr th:only-of-type {\n",
       "        vertical-align: middle;\n",
       "    }\n",
       "\n",
       "    .dataframe tbody tr th {\n",
       "        vertical-align: top;\n",
       "    }\n",
       "\n",
       "    .dataframe thead th {\n",
       "        text-align: right;\n",
       "    }\n",
       "</style>\n",
       "<table border=\"1\" class=\"dataframe\">\n",
       "  <thead>\n",
       "    <tr style=\"text-align: right;\">\n",
       "      <th></th>\n",
       "      <th>count</th>\n",
       "      <th>mean</th>\n",
       "      <th>std</th>\n",
       "      <th>min</th>\n",
       "      <th>25%</th>\n",
       "      <th>50%</th>\n",
       "      <th>75%</th>\n",
       "      <th>max</th>\n",
       "    </tr>\n",
       "    <tr>\n",
       "      <th>Risk</th>\n",
       "      <th></th>\n",
       "      <th></th>\n",
       "      <th></th>\n",
       "      <th></th>\n",
       "      <th></th>\n",
       "      <th></th>\n",
       "      <th></th>\n",
       "      <th></th>\n",
       "    </tr>\n",
       "  </thead>\n",
       "  <tbody>\n",
       "    <tr>\n",
       "      <th>0</th>\n",
       "      <td>471.0</td>\n",
       "      <td>5.002123</td>\n",
       "      <td>0.032547</td>\n",
       "      <td>5.0</td>\n",
       "      <td>5.0</td>\n",
       "      <td>5.0</td>\n",
       "      <td>5.0</td>\n",
       "      <td>5.5</td>\n",
       "    </tr>\n",
       "    <tr>\n",
       "      <th>1</th>\n",
       "      <td>267.0</td>\n",
       "      <td>5.138577</td>\n",
       "      <td>0.311874</td>\n",
       "      <td>5.0</td>\n",
       "      <td>5.0</td>\n",
       "      <td>5.0</td>\n",
       "      <td>5.0</td>\n",
       "      <td>6.5</td>\n",
       "    </tr>\n",
       "  </tbody>\n",
       "</table>\n",
       "</div>"
      ],
      "text/plain": [
       "      count      mean       std  min  25%  50%  75%  max\n",
       "Risk                                                    \n",
       "0     471.0  5.002123  0.032547  5.0  5.0  5.0  5.0  5.5\n",
       "1     267.0  5.138577  0.311874  5.0  5.0  5.0  5.0  6.5"
      ]
     },
     "execution_count": 108,
     "metadata": {},
     "output_type": "execute_result"
    }
   ],
   "source": [
    "data.groupby(\"Risk\")[\"numbers\"].describe()"
   ]
  },
  {
   "cell_type": "code",
   "execution_count": 109,
   "id": "7a15ecde",
   "metadata": {},
   "outputs": [
    {
     "data": {
      "text/html": [
       "<div>\n",
       "<style scoped>\n",
       "    .dataframe tbody tr th:only-of-type {\n",
       "        vertical-align: middle;\n",
       "    }\n",
       "\n",
       "    .dataframe tbody tr th {\n",
       "        vertical-align: top;\n",
       "    }\n",
       "\n",
       "    .dataframe thead th {\n",
       "        text-align: right;\n",
       "    }\n",
       "</style>\n",
       "<table border=\"1\" class=\"dataframe\">\n",
       "  <thead>\n",
       "    <tr style=\"text-align: right;\">\n",
       "      <th>Risk</th>\n",
       "      <th>0</th>\n",
       "      <th>1</th>\n",
       "      <th>All</th>\n",
       "    </tr>\n",
       "    <tr>\n",
       "      <th>numbers</th>\n",
       "      <th></th>\n",
       "      <th></th>\n",
       "      <th></th>\n",
       "    </tr>\n",
       "  </thead>\n",
       "  <tbody>\n",
       "    <tr>\n",
       "      <th>5.0</th>\n",
       "      <td>469</td>\n",
       "      <td>213</td>\n",
       "      <td>682</td>\n",
       "    </tr>\n",
       "    <tr>\n",
       "      <th>5.5</th>\n",
       "      <td>2</td>\n",
       "      <td>39</td>\n",
       "      <td>41</td>\n",
       "    </tr>\n",
       "    <tr>\n",
       "      <th>6.0</th>\n",
       "      <td>0</td>\n",
       "      <td>10</td>\n",
       "      <td>10</td>\n",
       "    </tr>\n",
       "    <tr>\n",
       "      <th>6.5</th>\n",
       "      <td>0</td>\n",
       "      <td>5</td>\n",
       "      <td>5</td>\n",
       "    </tr>\n",
       "    <tr>\n",
       "      <th>All</th>\n",
       "      <td>471</td>\n",
       "      <td>267</td>\n",
       "      <td>738</td>\n",
       "    </tr>\n",
       "  </tbody>\n",
       "</table>\n",
       "</div>"
      ],
      "text/plain": [
       "Risk       0    1  All\n",
       "numbers               \n",
       "5.0      469  213  682\n",
       "5.5        2   39   41\n",
       "6.0        0   10   10\n",
       "6.5        0    5    5\n",
       "All      471  267  738"
      ]
     },
     "execution_count": 109,
     "metadata": {},
     "output_type": "execute_result"
    }
   ],
   "source": [
    "pd.crosstab(data.numbers,data.Risk,margins = True)"
   ]
  },
  {
   "cell_type": "code",
   "execution_count": 110,
   "id": "817e0831",
   "metadata": {},
   "outputs": [],
   "source": [
    "Risk_numbers = np.array([[469,140],[2,24],[0,6],[0,3]])"
   ]
  },
  {
   "cell_type": "code",
   "execution_count": 111,
   "id": "58202327",
   "metadata": {},
   "outputs": [
    {
     "data": {
      "text/plain": [
       "(85.8359513741254,\n",
       " 1.716756329443417e-18,\n",
       " 3,\n",
       " array([[445.40217391, 163.59782609],\n",
       "        [ 19.01552795,   6.98447205],\n",
       "        [  4.38819876,   1.61180124],\n",
       "        [  2.19409938,   0.80590062]]))"
      ]
     },
     "execution_count": 111,
     "metadata": {},
     "output_type": "execute_result"
    }
   ],
   "source": [
    "scipy.stats.chi2_contingency(Risk_numbers)"
   ]
  },
  {
   "cell_type": "markdown",
   "id": "9b72fa08",
   "metadata": {},
   "source": [
    "It is A Good Predictior"
   ]
  },
  {
   "cell_type": "markdown",
   "id": "a18a160c",
   "metadata": {},
   "source": [
    "# Score_B.1"
   ]
  },
  {
   "cell_type": "code",
   "execution_count": 112,
   "id": "955dcef3",
   "metadata": {},
   "outputs": [
    {
     "data": {
      "text/plain": [
       "0.2    682\n",
       "0.4     41\n",
       "0.6     15\n",
       "Name: Score_B.1, dtype: int64"
      ]
     },
     "execution_count": 112,
     "metadata": {},
     "output_type": "execute_result"
    }
   ],
   "source": [
    "data['Score_B.1'].value_counts()"
   ]
  },
  {
   "cell_type": "code",
   "execution_count": 113,
   "id": "ba5562e4",
   "metadata": {},
   "outputs": [
    {
     "data": {
      "text/plain": [
       "count    738.000000\n",
       "mean       0.219241\n",
       "std        0.071491\n",
       "min        0.200000\n",
       "25%        0.200000\n",
       "50%        0.200000\n",
       "75%        0.200000\n",
       "max        0.600000\n",
       "Name: Score_B.1, dtype: float64"
      ]
     },
     "execution_count": 113,
     "metadata": {},
     "output_type": "execute_result"
    }
   ],
   "source": [
    "data['Score_B.1'].describe()"
   ]
  },
  {
   "cell_type": "code",
   "execution_count": 114,
   "id": "45fc8f3a",
   "metadata": {},
   "outputs": [
    {
     "data": {
      "image/png": "[encoded data removed]",
      "text/plain": [
       "<Figure size 1080x576 with 1 Axes>"
      ]
     },
     "metadata": {
      "needs_background": "light"
     },
     "output_type": "display_data"
    }
   ],
   "source": [
    "sns.countplot(x = 'Score_B.1',data = data)\n",
    "plt.title(\"countplot of score_b1\")\n",
    "plt.show()"
   ]
  },
  {
   "cell_type": "code",
   "execution_count": 115,
   "id": "af2af14f",
   "metadata": {},
   "outputs": [
    {
     "data": {
      "image/png": "[encoded data removed]",
      "text/plain": [
       "<Figure size 1080x576 with 1 Axes>"
      ]
     },
     "metadata": {
      "needs_background": "light"
     },
     "output_type": "display_data"
    }
   ],
   "source": [
    "sns.countplot(x = 'Score_B.1',hue ='Risk',data=data)\n",
    "plt.title(\"relation Score_b1 and RESPONSE\")\n",
    "plt.show()"
   ]
  },
  {
   "cell_type": "code",
   "execution_count": 116,
   "id": "d1dd2b15",
   "metadata": {},
   "outputs": [
    {
     "data": {
      "text/html": [
       "<div>\n",
       "<style scoped>\n",
       "    .dataframe tbody tr th:only-of-type {\n",
       "        vertical-align: middle;\n",
       "    }\n",
       "\n",
       "    .dataframe tbody tr th {\n",
       "        vertical-align: top;\n",
       "    }\n",
       "\n",
       "    .dataframe thead th {\n",
       "        text-align: right;\n",
       "    }\n",
       "</style>\n",
       "<table border=\"1\" class=\"dataframe\">\n",
       "  <thead>\n",
       "    <tr style=\"text-align: right;\">\n",
       "      <th></th>\n",
       "      <th>count</th>\n",
       "      <th>mean</th>\n",
       "      <th>std</th>\n",
       "      <th>min</th>\n",
       "      <th>25%</th>\n",
       "      <th>50%</th>\n",
       "      <th>75%</th>\n",
       "      <th>max</th>\n",
       "    </tr>\n",
       "    <tr>\n",
       "      <th>Risk</th>\n",
       "      <th></th>\n",
       "      <th></th>\n",
       "      <th></th>\n",
       "      <th></th>\n",
       "      <th></th>\n",
       "      <th></th>\n",
       "      <th></th>\n",
       "      <th></th>\n",
       "    </tr>\n",
       "  </thead>\n",
       "  <tbody>\n",
       "    <tr>\n",
       "      <th>0</th>\n",
       "      <td>471.0</td>\n",
       "      <td>0.200849</td>\n",
       "      <td>0.013019</td>\n",
       "      <td>0.2</td>\n",
       "      <td>0.2</td>\n",
       "      <td>0.2</td>\n",
       "      <td>0.2</td>\n",
       "      <td>0.4</td>\n",
       "    </tr>\n",
       "    <tr>\n",
       "      <th>1</th>\n",
       "      <td>267.0</td>\n",
       "      <td>0.251685</td>\n",
       "      <td>0.110480</td>\n",
       "      <td>0.2</td>\n",
       "      <td>0.2</td>\n",
       "      <td>0.2</td>\n",
       "      <td>0.2</td>\n",
       "      <td>0.6</td>\n",
       "    </tr>\n",
       "  </tbody>\n",
       "</table>\n",
       "</div>"
      ],
      "text/plain": [
       "      count      mean       std  min  25%  50%  75%  max\n",
       "Risk                                                    \n",
       "0     471.0  0.200849  0.013019  0.2  0.2  0.2  0.2  0.4\n",
       "1     267.0  0.251685  0.110480  0.2  0.2  0.2  0.2  0.6"
      ]
     },
     "execution_count": 116,
     "metadata": {},
     "output_type": "execute_result"
    }
   ],
   "source": [
    "data.groupby(\"Risk\")[\"Score_B.1\"].describe()"
   ]
  },
  {
   "cell_type": "code",
   "execution_count": 117,
   "id": "40c42761",
   "metadata": {},
   "outputs": [
    {
     "data": {
      "text/html": [
       "<div>\n",
       "<style scoped>\n",
       "    .dataframe tbody tr th:only-of-type {\n",
       "        vertical-align: middle;\n",
       "    }\n",
       "\n",
       "    .dataframe tbody tr th {\n",
       "        vertical-align: top;\n",
       "    }\n",
       "\n",
       "    .dataframe thead th {\n",
       "        text-align: right;\n",
       "    }\n",
       "</style>\n",
       "<table border=\"1\" class=\"dataframe\">\n",
       "  <thead>\n",
       "    <tr style=\"text-align: right;\">\n",
       "      <th>Risk</th>\n",
       "      <th>0</th>\n",
       "      <th>1</th>\n",
       "      <th>All</th>\n",
       "    </tr>\n",
       "    <tr>\n",
       "      <th>Score_B.1</th>\n",
       "      <th></th>\n",
       "      <th></th>\n",
       "      <th></th>\n",
       "    </tr>\n",
       "  </thead>\n",
       "  <tbody>\n",
       "    <tr>\n",
       "      <th>0.2</th>\n",
       "      <td>469</td>\n",
       "      <td>213</td>\n",
       "      <td>682</td>\n",
       "    </tr>\n",
       "    <tr>\n",
       "      <th>0.4</th>\n",
       "      <td>2</td>\n",
       "      <td>39</td>\n",
       "      <td>41</td>\n",
       "    </tr>\n",
       "    <tr>\n",
       "      <th>0.6</th>\n",
       "      <td>0</td>\n",
       "      <td>15</td>\n",
       "      <td>15</td>\n",
       "    </tr>\n",
       "    <tr>\n",
       "      <th>All</th>\n",
       "      <td>471</td>\n",
       "      <td>267</td>\n",
       "      <td>738</td>\n",
       "    </tr>\n",
       "  </tbody>\n",
       "</table>\n",
       "</div>"
      ],
      "text/plain": [
       "Risk         0    1  All\n",
       "Score_B.1               \n",
       "0.2        469  213  682\n",
       "0.4          2   39   41\n",
       "0.6          0   15   15\n",
       "All        471  267  738"
      ]
     },
     "execution_count": 117,
     "metadata": {},
     "output_type": "execute_result"
    }
   ],
   "source": [
    "pd.crosstab(data['Score_B.1'],data.Risk,margins = True)"
   ]
  },
  {
   "cell_type": "code",
   "execution_count": 118,
   "id": "afe99d69",
   "metadata": {},
   "outputs": [],
   "source": [
    "Risk_Score_b = np.array([[469,140],[2,24],[0,9]])"
   ]
  },
  {
   "cell_type": "code",
   "execution_count": 119,
   "id": "eeea2118",
   "metadata": {},
   "outputs": [
    {
     "data": {
      "text/plain": [
       "(85.83595137412541,\n",
       " 2.295937093600041e-19,\n",
       " 2,\n",
       " array([[445.40217391, 163.59782609],\n",
       "        [ 19.01552795,   6.98447205],\n",
       "        [  6.58229814,   2.41770186]]))"
      ]
     },
     "execution_count": 119,
     "metadata": {},
     "output_type": "execute_result"
    }
   ],
   "source": [
    "scipy.stats.chi2_contingency(Risk_Score_b)"
   ]
  },
  {
   "cell_type": "markdown",
   "id": "d6bc40d4",
   "metadata": {},
   "source": [
    "It is a Good Predictior"
   ]
  },
  {
   "cell_type": "markdown",
   "id": "76d8dd4e",
   "metadata": {},
   "source": [
    "# Risk_C"
   ]
  },
  {
   "cell_type": "code",
   "execution_count": 120,
   "id": "9f4650cb",
   "metadata": {},
   "outputs": [
    {
     "data": {
      "text/plain": [
       "1.0    682\n",
       "2.2     41\n",
       "3.6     10\n",
       "3.9      5\n",
       "Name: Risk_C, dtype: int64"
      ]
     },
     "execution_count": 120,
     "metadata": {},
     "output_type": "execute_result"
    }
   ],
   "source": [
    "data.Risk_C.value_counts()"
   ]
  },
  {
   "cell_type": "code",
   "execution_count": 121,
   "id": "d6552b60",
   "metadata": {},
   "outputs": [
    {
     "data": {
      "text/plain": [
       "count    738.000000\n",
       "mean       1.121545\n",
       "std        0.462703\n",
       "min        1.000000\n",
       "25%        1.000000\n",
       "50%        1.000000\n",
       "75%        1.000000\n",
       "max        3.900000\n",
       "Name: Risk_C, dtype: float64"
      ]
     },
     "execution_count": 121,
     "metadata": {},
     "output_type": "execute_result"
    }
   ],
   "source": [
    "data.Risk_C.describe()"
   ]
  },
  {
   "cell_type": "code",
   "execution_count": 122,
   "id": "b23ff437",
   "metadata": {},
   "outputs": [
    {
     "data": {
      "image/png": "[encoded data removed]",
      "text/plain": [
       "<Figure size 1080x576 with 1 Axes>"
      ]
     },
     "metadata": {
      "needs_background": "light"
     },
     "output_type": "display_data"
    }
   ],
   "source": [
    "sns.countplot(data.Risk_C)\n",
    "plt.title(\"countplot of Risk_c\")\n",
    "plt.show()"
   ]
  },
  {
   "cell_type": "code",
   "execution_count": 123,
   "id": "6a152bdc",
   "metadata": {},
   "outputs": [
    {
     "data": {
      "image/png": "[encoded data removed]",
      "text/plain": [
       "<Figure size 1080x576 with 1 Axes>"
      ]
     },
     "metadata": {
      "needs_background": "light"
     },
     "output_type": "display_data"
    }
   ],
   "source": [
    "sns.countplot(x = 'Risk_C',hue ='Risk',data=data)\n",
    "plt.title(\"relation between risk_c and RESPONSE\")\n",
    "plt.show()"
   ]
  },
  {
   "cell_type": "code",
   "execution_count": 124,
   "id": "10919a88",
   "metadata": {},
   "outputs": [
    {
     "data": {
      "text/html": [
       "<div>\n",
       "<style scoped>\n",
       "    .dataframe tbody tr th:only-of-type {\n",
       "        vertical-align: middle;\n",
       "    }\n",
       "\n",
       "    .dataframe tbody tr th {\n",
       "        vertical-align: top;\n",
       "    }\n",
       "\n",
       "    .dataframe thead th {\n",
       "        text-align: right;\n",
       "    }\n",
       "</style>\n",
       "<table border=\"1\" class=\"dataframe\">\n",
       "  <thead>\n",
       "    <tr style=\"text-align: right;\">\n",
       "      <th></th>\n",
       "      <th>count</th>\n",
       "      <th>mean</th>\n",
       "      <th>std</th>\n",
       "      <th>min</th>\n",
       "      <th>25%</th>\n",
       "      <th>50%</th>\n",
       "      <th>75%</th>\n",
       "      <th>max</th>\n",
       "    </tr>\n",
       "    <tr>\n",
       "      <th>Risk</th>\n",
       "      <th></th>\n",
       "      <th></th>\n",
       "      <th></th>\n",
       "      <th></th>\n",
       "      <th></th>\n",
       "      <th></th>\n",
       "      <th></th>\n",
       "      <th></th>\n",
       "    </tr>\n",
       "  </thead>\n",
       "  <tbody>\n",
       "    <tr>\n",
       "      <th>0</th>\n",
       "      <td>471.0</td>\n",
       "      <td>1.005096</td>\n",
       "      <td>0.078113</td>\n",
       "      <td>1.0</td>\n",
       "      <td>1.0</td>\n",
       "      <td>1.0</td>\n",
       "      <td>1.0</td>\n",
       "      <td>2.2</td>\n",
       "    </tr>\n",
       "    <tr>\n",
       "      <th>1</th>\n",
       "      <td>267.0</td>\n",
       "      <td>1.326966</td>\n",
       "      <td>0.718357</td>\n",
       "      <td>1.0</td>\n",
       "      <td>1.0</td>\n",
       "      <td>1.0</td>\n",
       "      <td>1.0</td>\n",
       "      <td>3.9</td>\n",
       "    </tr>\n",
       "  </tbody>\n",
       "</table>\n",
       "</div>"
      ],
      "text/plain": [
       "      count      mean       std  min  25%  50%  75%  max\n",
       "Risk                                                    \n",
       "0     471.0  1.005096  0.078113  1.0  1.0  1.0  1.0  2.2\n",
       "1     267.0  1.326966  0.718357  1.0  1.0  1.0  1.0  3.9"
      ]
     },
     "execution_count": 124,
     "metadata": {},
     "output_type": "execute_result"
    }
   ],
   "source": [
    "data.groupby(\"Risk\")[\"Risk_C\"].describe()"
   ]
  },
  {
   "cell_type": "code",
   "execution_count": 125,
   "id": "0d56d2ee",
   "metadata": {},
   "outputs": [
    {
     "data": {
      "text/html": [
       "<div>\n",
       "<style scoped>\n",
       "    .dataframe tbody tr th:only-of-type {\n",
       "        vertical-align: middle;\n",
       "    }\n",
       "\n",
       "    .dataframe tbody tr th {\n",
       "        vertical-align: top;\n",
       "    }\n",
       "\n",
       "    .dataframe thead th {\n",
       "        text-align: right;\n",
       "    }\n",
       "</style>\n",
       "<table border=\"1\" class=\"dataframe\">\n",
       "  <thead>\n",
       "    <tr style=\"text-align: right;\">\n",
       "      <th>Risk</th>\n",
       "      <th>0</th>\n",
       "      <th>1</th>\n",
       "      <th>All</th>\n",
       "    </tr>\n",
       "    <tr>\n",
       "      <th>Risk_C</th>\n",
       "      <th></th>\n",
       "      <th></th>\n",
       "      <th></th>\n",
       "    </tr>\n",
       "  </thead>\n",
       "  <tbody>\n",
       "    <tr>\n",
       "      <th>1.0</th>\n",
       "      <td>469</td>\n",
       "      <td>213</td>\n",
       "      <td>682</td>\n",
       "    </tr>\n",
       "    <tr>\n",
       "      <th>2.2</th>\n",
       "      <td>2</td>\n",
       "      <td>39</td>\n",
       "      <td>41</td>\n",
       "    </tr>\n",
       "    <tr>\n",
       "      <th>3.6</th>\n",
       "      <td>0</td>\n",
       "      <td>10</td>\n",
       "      <td>10</td>\n",
       "    </tr>\n",
       "    <tr>\n",
       "      <th>3.9</th>\n",
       "      <td>0</td>\n",
       "      <td>5</td>\n",
       "      <td>5</td>\n",
       "    </tr>\n",
       "    <tr>\n",
       "      <th>All</th>\n",
       "      <td>471</td>\n",
       "      <td>267</td>\n",
       "      <td>738</td>\n",
       "    </tr>\n",
       "  </tbody>\n",
       "</table>\n",
       "</div>"
      ],
      "text/plain": [
       "Risk      0    1  All\n",
       "Risk_C               \n",
       "1.0     469  213  682\n",
       "2.2       2   39   41\n",
       "3.6       0   10   10\n",
       "3.9       0    5    5\n",
       "All     471  267  738"
      ]
     },
     "execution_count": 125,
     "metadata": {},
     "output_type": "execute_result"
    }
   ],
   "source": [
    "pd.crosstab(data.Risk_C,data.Risk,margins = True)"
   ]
  },
  {
   "cell_type": "code",
   "execution_count": 126,
   "id": "6a14ffed",
   "metadata": {},
   "outputs": [],
   "source": [
    "Risk_RiskC = np.array([[469,140],[2,24],[0,6],[0,3]])"
   ]
  },
  {
   "cell_type": "code",
   "execution_count": 127,
   "id": "aa5f973a",
   "metadata": {},
   "outputs": [
    {
     "data": {
      "text/plain": [
       "(85.8359513741254,\n",
       " 1.716756329443417e-18,\n",
       " 3,\n",
       " array([[445.40217391, 163.59782609],\n",
       "        [ 19.01552795,   6.98447205],\n",
       "        [  4.38819876,   1.61180124],\n",
       "        [  2.19409938,   0.80590062]]))"
      ]
     },
     "execution_count": 127,
     "metadata": {},
     "output_type": "execute_result"
    }
   ],
   "source": [
    "scipy.stats.chi2_contingency(Risk_RiskC)"
   ]
  },
  {
   "cell_type": "markdown",
   "id": "7a441c94",
   "metadata": {},
   "source": [
    "It is a Good Predictior"
   ]
  },
  {
   "cell_type": "markdown",
   "id": "c6fe58bf",
   "metadata": {},
   "source": [
    "# Money_Value "
   ]
  },
  {
   "cell_type": "code",
   "execution_count": 128,
   "id": "f61c71a0",
   "metadata": {},
   "outputs": [
    {
     "data": {
      "text/plain": [
       "0.00      329\n",
       "0.04       11\n",
       "0.02        9\n",
       "0.06        8\n",
       "0.11        7\n",
       "         ... \n",
       "0.63        1\n",
       "7.17        1\n",
       "680.14      1\n",
       "8.21        1\n",
       "1.15        1\n",
       "Name: Money_Value, Length: 296, dtype: int64"
      ]
     },
     "execution_count": 128,
     "metadata": {},
     "output_type": "execute_result"
    }
   ],
   "source": [
    "data.Money_Value.value_counts()"
   ]
  },
  {
   "cell_type": "code",
   "execution_count": 129,
   "id": "9211d761",
   "metadata": {},
   "outputs": [
    {
     "data": {
      "text/plain": [
       "1"
      ]
     },
     "execution_count": 129,
     "metadata": {},
     "output_type": "execute_result"
    }
   ],
   "source": [
    "data.Money_Value.isnull().sum()"
   ]
  },
  {
   "cell_type": "code",
   "execution_count": 130,
   "id": "36bc5db8",
   "metadata": {},
   "outputs": [
    {
     "data": {
      "image/png": "[encoded data removed]",
      "text/plain": [
       "<Figure size 1080x576 with 1 Axes>"
      ]
     },
     "metadata": {
      "needs_background": "light"
     },
     "output_type": "display_data"
    }
   ],
   "source": [
    "plt.hist(data.Money_Value )\n",
    "plt.title(\"distribution of MOney_value\")\n",
    "plt.show()"
   ]
  },
  {
   "cell_type": "code",
   "execution_count": 131,
   "id": "e0d30926",
   "metadata": {},
   "outputs": [],
   "source": [
    "data[\"Money_Value\"]=data[\"Money_Value\"].fillna(data[\"Money_Value\"].median())"
   ]
  },
  {
   "cell_type": "code",
   "execution_count": 132,
   "id": "7f7e3d11",
   "metadata": {},
   "outputs": [
    {
     "data": {
      "text/plain": [
       "0"
      ]
     },
     "execution_count": 132,
     "metadata": {},
     "output_type": "execute_result"
    }
   ],
   "source": [
    "data.Money_Value.isnull().sum()"
   ]
  },
  {
   "cell_type": "code",
   "execution_count": 133,
   "id": "87545586",
   "metadata": {},
   "outputs": [
    {
     "data": {
      "image/png": "[encoded data removed]",
      "text/plain": [
       "<Figure size 1080x576 with 1 Axes>"
      ]
     },
     "metadata": {
      "needs_background": "light"
     },
     "output_type": "display_data"
    }
   ],
   "source": [
    "plt.boxplot(data.Money_Value,vert =False,patch_artist = True)\n",
    "plt.title(\"boxplot of MOney_value\")\n",
    "plt.show()"
   ]
  },
  {
   "cell_type": "markdown",
   "id": "fd8022c3",
   "metadata": {},
   "source": [
    "IT has 135 outliers are in above the upper limit"
   ]
  },
  {
   "cell_type": "code",
   "execution_count": 134,
   "id": "97ce750d",
   "metadata": {},
   "outputs": [
    {
     "data": {
      "text/plain": [
       "3.41"
      ]
     },
     "execution_count": 134,
     "metadata": {},
     "output_type": "execute_result"
    }
   ],
   "source": [
    "IQR = data.Money_Value.quantile(0.75)-data.Money_Value.quantile(0.25)\n",
    "IQR"
   ]
  },
  {
   "cell_type": "code",
   "execution_count": 135,
   "id": "a5307b73",
   "metadata": {},
   "outputs": [
    {
     "data": {
      "text/plain": [
       "8.525"
      ]
     },
     "execution_count": 135,
     "metadata": {},
     "output_type": "execute_result"
    }
   ],
   "source": [
    "upper_limit= data.Money_Value.quantile(0.75)+ (1.5*IQR)\n",
    "upper_limit"
   ]
  },
  {
   "cell_type": "code",
   "execution_count": 136,
   "id": "01c2b8bc",
   "metadata": {},
   "outputs": [
    {
     "data": {
      "text/plain": [
       "-5.115"
      ]
     },
     "execution_count": 136,
     "metadata": {},
     "output_type": "execute_result"
    }
   ],
   "source": [
    "lower_limit= data.Money_Value.quantile(0.25)- (1.5*IQR)\n",
    "lower_limit"
   ]
  },
  {
   "cell_type": "code",
   "execution_count": 137,
   "id": "82c841f9",
   "metadata": {},
   "outputs": [
    {
     "data": {
      "text/plain": [
       "135"
      ]
     },
     "execution_count": 137,
     "metadata": {},
     "output_type": "execute_result"
    }
   ],
   "source": [
    "len(data.Money_Value[data.Money_Value>upper_limit])"
   ]
  },
  {
   "cell_type": "code",
   "execution_count": 138,
   "id": "3b5a934f",
   "metadata": {},
   "outputs": [],
   "source": [
    "data=data[data['Money_Value']<=110]"
   ]
  },
  {
   "cell_type": "code",
   "execution_count": 139,
   "id": "874525fb",
   "metadata": {},
   "outputs": [
    {
     "data": {
      "text/plain": [
       "Ttest_indResult(statistic=-15.31277808535725, pvalue=4.827430728005835e-46)"
      ]
     },
     "execution_count": 139,
     "metadata": {},
     "output_type": "execute_result"
    }
   ],
   "source": [
    "df1=data[data.Risk==0]\n",
    "df1.shape\n",
    "df2=data[data.Risk==1]\n",
    "df2.shape\n",
    "scipy.stats.ttest_ind(df1.Money_Value,df2.Money_Value)"
   ]
  },
  {
   "cell_type": "markdown",
   "id": "78676933",
   "metadata": {},
   "source": [
    "It is A Good Predictior"
   ]
  },
  {
   "cell_type": "markdown",
   "id": "ba7029db",
   "metadata": {},
   "source": [
    "# Score_MV "
   ]
  },
  {
   "cell_type": "code",
   "execution_count": 140,
   "id": "01168ffc",
   "metadata": {},
   "outputs": [
    {
     "data": {
      "text/plain": [
       "0.2    569\n",
       "0.6    109\n",
       "0.4     46\n",
       "Name: Score_MV, dtype: int64"
      ]
     },
     "execution_count": 140,
     "metadata": {},
     "output_type": "execute_result"
    }
   ],
   "source": [
    "data.Score_MV.value_counts()"
   ]
  },
  {
   "cell_type": "code",
   "execution_count": 141,
   "id": "cd953842",
   "metadata": {},
   "outputs": [
    {
     "data": {
      "text/plain": [
       "count    724.000000\n",
       "mean       0.272928\n",
       "std        0.146085\n",
       "min        0.200000\n",
       "25%        0.200000\n",
       "50%        0.200000\n",
       "75%        0.200000\n",
       "max        0.600000\n",
       "Name: Score_MV, dtype: float64"
      ]
     },
     "execution_count": 141,
     "metadata": {},
     "output_type": "execute_result"
    }
   ],
   "source": [
    "data.Score_MV.describe()"
   ]
  },
  {
   "cell_type": "code",
   "execution_count": 142,
   "id": "61a50355",
   "metadata": {},
   "outputs": [
    {
     "data": {
      "image/png": "[encoded data removed]",
      "text/plain": [
       "<Figure size 1080x576 with 1 Axes>"
      ]
     },
     "metadata": {
      "needs_background": "light"
     },
     "output_type": "display_data"
    }
   ],
   "source": [
    "sns.countplot(data.Score_MV)\n",
    "plt.title(\"countplot of Score_mv and REsponse var\")\n",
    "plt.show()"
   ]
  },
  {
   "cell_type": "code",
   "execution_count": 143,
   "id": "d139f4c7",
   "metadata": {},
   "outputs": [
    {
     "data": {
      "image/png": "[encoded data removed]",
      "text/plain": [
       "<Figure size 1080x576 with 1 Axes>"
      ]
     },
     "metadata": {
      "needs_background": "light"
     },
     "output_type": "display_data"
    }
   ],
   "source": [
    "sns.countplot(x = 'Score_MV',hue ='Risk',data=data)\n",
    "plt.title(\"relation of Response and Score_MV\")\n",
    "plt.show()"
   ]
  },
  {
   "cell_type": "code",
   "execution_count": 144,
   "id": "444bdb52",
   "metadata": {},
   "outputs": [
    {
     "data": {
      "text/html": [
       "<div>\n",
       "<style scoped>\n",
       "    .dataframe tbody tr th:only-of-type {\n",
       "        vertical-align: middle;\n",
       "    }\n",
       "\n",
       "    .dataframe tbody tr th {\n",
       "        vertical-align: top;\n",
       "    }\n",
       "\n",
       "    .dataframe thead th {\n",
       "        text-align: right;\n",
       "    }\n",
       "</style>\n",
       "<table border=\"1\" class=\"dataframe\">\n",
       "  <thead>\n",
       "    <tr style=\"text-align: right;\">\n",
       "      <th></th>\n",
       "      <th>count</th>\n",
       "      <th>mean</th>\n",
       "      <th>std</th>\n",
       "      <th>min</th>\n",
       "      <th>25%</th>\n",
       "      <th>50%</th>\n",
       "      <th>75%</th>\n",
       "      <th>max</th>\n",
       "    </tr>\n",
       "    <tr>\n",
       "      <th>Risk</th>\n",
       "      <th></th>\n",
       "      <th></th>\n",
       "      <th></th>\n",
       "      <th></th>\n",
       "      <th></th>\n",
       "      <th></th>\n",
       "      <th></th>\n",
       "      <th></th>\n",
       "    </tr>\n",
       "  </thead>\n",
       "  <tbody>\n",
       "    <tr>\n",
       "      <th>0</th>\n",
       "      <td>471.0</td>\n",
       "      <td>0.202548</td>\n",
       "      <td>0.022453</td>\n",
       "      <td>0.2</td>\n",
       "      <td>0.2</td>\n",
       "      <td>0.2</td>\n",
       "      <td>0.2</td>\n",
       "      <td>0.4</td>\n",
       "    </tr>\n",
       "    <tr>\n",
       "      <th>1</th>\n",
       "      <td>253.0</td>\n",
       "      <td>0.403953</td>\n",
       "      <td>0.183831</td>\n",
       "      <td>0.2</td>\n",
       "      <td>0.2</td>\n",
       "      <td>0.4</td>\n",
       "      <td>0.6</td>\n",
       "      <td>0.6</td>\n",
       "    </tr>\n",
       "  </tbody>\n",
       "</table>\n",
       "</div>"
      ],
      "text/plain": [
       "      count      mean       std  min  25%  50%  75%  max\n",
       "Risk                                                    \n",
       "0     471.0  0.202548  0.022453  0.2  0.2  0.2  0.2  0.4\n",
       "1     253.0  0.403953  0.183831  0.2  0.2  0.4  0.6  0.6"
      ]
     },
     "execution_count": 144,
     "metadata": {},
     "output_type": "execute_result"
    }
   ],
   "source": [
    "data.groupby(\"Risk\")[\"Score_MV\"].describe()"
   ]
  },
  {
   "cell_type": "code",
   "execution_count": 145,
   "id": "7b78b9a9",
   "metadata": {},
   "outputs": [
    {
     "data": {
      "text/html": [
       "<div>\n",
       "<style scoped>\n",
       "    .dataframe tbody tr th:only-of-type {\n",
       "        vertical-align: middle;\n",
       "    }\n",
       "\n",
       "    .dataframe tbody tr th {\n",
       "        vertical-align: top;\n",
       "    }\n",
       "\n",
       "    .dataframe thead th {\n",
       "        text-align: right;\n",
       "    }\n",
       "</style>\n",
       "<table border=\"1\" class=\"dataframe\">\n",
       "  <thead>\n",
       "    <tr style=\"text-align: right;\">\n",
       "      <th>Risk</th>\n",
       "      <th>0</th>\n",
       "      <th>1</th>\n",
       "      <th>All</th>\n",
       "    </tr>\n",
       "    <tr>\n",
       "      <th>Score_MV</th>\n",
       "      <th></th>\n",
       "      <th></th>\n",
       "      <th></th>\n",
       "    </tr>\n",
       "  </thead>\n",
       "  <tbody>\n",
       "    <tr>\n",
       "      <th>0.2</th>\n",
       "      <td>465</td>\n",
       "      <td>104</td>\n",
       "      <td>569</td>\n",
       "    </tr>\n",
       "    <tr>\n",
       "      <th>0.4</th>\n",
       "      <td>6</td>\n",
       "      <td>40</td>\n",
       "      <td>46</td>\n",
       "    </tr>\n",
       "    <tr>\n",
       "      <th>0.6</th>\n",
       "      <td>0</td>\n",
       "      <td>109</td>\n",
       "      <td>109</td>\n",
       "    </tr>\n",
       "    <tr>\n",
       "      <th>All</th>\n",
       "      <td>471</td>\n",
       "      <td>253</td>\n",
       "      <td>724</td>\n",
       "    </tr>\n",
       "  </tbody>\n",
       "</table>\n",
       "</div>"
      ],
      "text/plain": [
       "Risk        0    1  All\n",
       "Score_MV               \n",
       "0.2       465  104  569\n",
       "0.4         6   40   46\n",
       "0.6         0  109  109\n",
       "All       471  253  724"
      ]
     },
     "execution_count": 145,
     "metadata": {},
     "output_type": "execute_result"
    }
   ],
   "source": [
    "pd.crosstab(data.Score_MV,data.Risk,margins = True)"
   ]
  },
  {
   "cell_type": "code",
   "execution_count": 146,
   "id": "1a09eb3d",
   "metadata": {},
   "outputs": [],
   "source": [
    "Risk_Scoremv = np.array([[465,57],[6,35],[0,81]])"
   ]
  },
  {
   "cell_type": "code",
   "execution_count": 147,
   "id": "626d87b8",
   "metadata": {},
   "outputs": [
    {
     "data": {
      "text/plain": [
       "(359.4886848543857,\n",
       " 8.670096485015897e-79,\n",
       " 2,\n",
       " array([[381.77329193, 140.22670807],\n",
       "        [ 29.98602484,  11.01397516],\n",
       "        [ 59.24068323,  21.75931677]]))"
      ]
     },
     "execution_count": 147,
     "metadata": {},
     "output_type": "execute_result"
    }
   ],
   "source": [
    "scipy.stats.chi2_contingency(Risk_Scoremv)"
   ]
  },
  {
   "cell_type": "markdown",
   "id": "f291915d",
   "metadata": {},
   "source": [
    "It is a Good Predictior"
   ]
  },
  {
   "cell_type": "markdown",
   "id": "f845c6ab",
   "metadata": {},
   "source": [
    "# Risk_D"
   ]
  },
  {
   "cell_type": "code",
   "execution_count": 148,
   "id": "6db1271b",
   "metadata": {},
   "outputs": [
    {
     "data": {
      "text/plain": [
       "0.000     330\n",
       "0.008      11\n",
       "0.004       9\n",
       "0.012       8\n",
       "0.022       7\n",
       "         ... \n",
       "0.852       1\n",
       "2.012       1\n",
       "2.524       1\n",
       "28.740      1\n",
       "0.058       1\n",
       "Name: Risk_D, Length: 282, dtype: int64"
      ]
     },
     "execution_count": 148,
     "metadata": {},
     "output_type": "execute_result"
    }
   ],
   "source": [
    "data.Risk_D.value_counts()"
   ]
  },
  {
   "cell_type": "code",
   "execution_count": 149,
   "id": "9a8179a9",
   "metadata": {},
   "outputs": [
    {
     "data": {
      "image/png": "[encoded data removed]",
      "text/plain": [
       "<Figure size 1080x576 with 1 Axes>"
      ]
     },
     "metadata": {
      "needs_background": "light"
     },
     "output_type": "display_data"
    }
   ],
   "source": [
    "plt.hist(data.Risk_D)\n",
    "plt.title('distribution of Risk_D')\n",
    "plt.show()"
   ]
  },
  {
   "cell_type": "code",
   "execution_count": 150,
   "id": "8b40f545",
   "metadata": {},
   "outputs": [
    {
     "data": {
      "image/png": "[encoded data removed]",
      "text/plain": [
       "<Figure size 1080x576 with 1 Axes>"
      ]
     },
     "metadata": {
      "needs_background": "light"
     },
     "output_type": "display_data"
    }
   ],
   "source": [
    "plt.boxplot(data.Risk_D,vert = False,patch_artist = True)\n",
    "plt.title(\"boxplot of Risk_A\")\n",
    "plt.show()"
   ]
  },
  {
   "cell_type": "markdown",
   "id": "d3b1b6fa",
   "metadata": {},
   "source": [
    "since they are 155 outliers are in above the upper limit"
   ]
  },
  {
   "cell_type": "code",
   "execution_count": 151,
   "id": "b44e9481",
   "metadata": {},
   "outputs": [
    {
     "data": {
      "text/plain": [
       "0.496"
      ]
     },
     "execution_count": 151,
     "metadata": {},
     "output_type": "execute_result"
    }
   ],
   "source": [
    "IQR = data.Risk_D.quantile(0.75)-data.Risk_D.quantile(0.25)\n",
    "IQR"
   ]
  },
  {
   "cell_type": "code",
   "execution_count": 152,
   "id": "cf63d761",
   "metadata": {},
   "outputs": [
    {
     "data": {
      "text/plain": [
       "1.24"
      ]
     },
     "execution_count": 152,
     "metadata": {},
     "output_type": "execute_result"
    }
   ],
   "source": [
    "upper_limit= data.Risk_D.quantile(0.75)+ (1.5*IQR)\n",
    "upper_limit"
   ]
  },
  {
   "cell_type": "code",
   "execution_count": 153,
   "id": "3489ffc0",
   "metadata": {},
   "outputs": [
    {
     "data": {
      "text/plain": [
       "-0.744"
      ]
     },
     "execution_count": 153,
     "metadata": {},
     "output_type": "execute_result"
    }
   ],
   "source": [
    "lower_limit= data.Risk_D.quantile(0.25)- (1.5*IQR)\n",
    "lower_limit"
   ]
  },
  {
   "cell_type": "code",
   "execution_count": 154,
   "id": "1dff52f3",
   "metadata": {},
   "outputs": [
    {
     "data": {
      "text/plain": [
       "155"
      ]
     },
     "execution_count": 154,
     "metadata": {},
     "output_type": "execute_result"
    }
   ],
   "source": [
    "len(data.Risk_D[data.Risk_D>upper_limit])"
   ]
  },
  {
   "cell_type": "code",
   "execution_count": 155,
   "id": "440a6edd",
   "metadata": {},
   "outputs": [],
   "source": [
    "data=data[data['Risk_D']<=50]"
   ]
  },
  {
   "cell_type": "code",
   "execution_count": 156,
   "id": "d823cfa9",
   "metadata": {},
   "outputs": [
    {
     "data": {
      "text/plain": [
       "Ttest_indResult(statistic=-15.358422138085327, pvalue=3.2956832829257966e-46)"
      ]
     },
     "execution_count": 156,
     "metadata": {},
     "output_type": "execute_result"
    }
   ],
   "source": [
    "df1=data[data.Risk==0]\n",
    "df1.shape\n",
    "df2=data[data.Risk==1]\n",
    "df2.shape\n",
    "scipy.stats.ttest_ind(df1.Risk_D,df2.Risk_D)"
   ]
  },
  {
   "cell_type": "markdown",
   "id": "5537fdae",
   "metadata": {},
   "source": [
    "It is A Good Predictior"
   ]
  },
  {
   "cell_type": "markdown",
   "id": "f709417b",
   "metadata": {},
   "source": [
    "# District_Loss"
   ]
  },
  {
   "cell_type": "code",
   "execution_count": 157,
   "id": "56ebc9f2",
   "metadata": {},
   "outputs": [
    {
     "data": {
      "text/plain": [
       "2    612\n",
       "6     59\n",
       "4     45\n",
       "Name: District_Loss, dtype: int64"
      ]
     },
     "execution_count": 157,
     "metadata": {},
     "output_type": "execute_result"
    }
   ],
   "source": [
    "data.District_Loss.value_counts()"
   ]
  },
  {
   "cell_type": "code",
   "execution_count": 158,
   "id": "4e7ce202",
   "metadata": {},
   "outputs": [
    {
     "data": {
      "text/plain": [
       "count    716.000000\n",
       "mean       2.455307\n",
       "std        1.168090\n",
       "min        2.000000\n",
       "25%        2.000000\n",
       "50%        2.000000\n",
       "75%        2.000000\n",
       "max        6.000000\n",
       "Name: District_Loss, dtype: float64"
      ]
     },
     "execution_count": 158,
     "metadata": {},
     "output_type": "execute_result"
    }
   ],
   "source": [
    "data.District_Loss.describe()"
   ]
  },
  {
   "cell_type": "code",
   "execution_count": 159,
   "id": "a2ed1153",
   "metadata": {
    "scrolled": true
   },
   "outputs": [
    {
     "data": {
      "text/plain": [
       "<AxesSubplot:xlabel='District_Loss', ylabel='count'>"
      ]
     },
     "execution_count": 159,
     "metadata": {},
     "output_type": "execute_result"
    },
    {
     "data": {
      "image/png": "[encoded data removed]",
      "text/plain": [
       "<Figure size 1080x576 with 1 Axes>"
      ]
     },
     "metadata": {
      "needs_background": "light"
     },
     "output_type": "display_data"
    }
   ],
   "source": [
    "sns.countplot(data.District_Loss)"
   ]
  },
  {
   "cell_type": "code",
   "execution_count": 160,
   "id": "1270cfc4",
   "metadata": {},
   "outputs": [
    {
     "data": {
      "image/png": "[encoded data removed]",
      "text/plain": [
       "<Figure size 1080x576 with 1 Axes>"
      ]
     },
     "metadata": {
      "needs_background": "light"
     },
     "output_type": "display_data"
    }
   ],
   "source": [
    "sns.countplot(x = 'District_Loss',hue ='Risk',data=data)\n",
    "plt.title(\"relation of Response and District\")\n",
    "plt.show()"
   ]
  },
  {
   "cell_type": "code",
   "execution_count": 161,
   "id": "7a6aa6cb",
   "metadata": {},
   "outputs": [
    {
     "data": {
      "text/html": [
       "<div>\n",
       "<style scoped>\n",
       "    .dataframe tbody tr th:only-of-type {\n",
       "        vertical-align: middle;\n",
       "    }\n",
       "\n",
       "    .dataframe tbody tr th {\n",
       "        vertical-align: top;\n",
       "    }\n",
       "\n",
       "    .dataframe thead th {\n",
       "        text-align: right;\n",
       "    }\n",
       "</style>\n",
       "<table border=\"1\" class=\"dataframe\">\n",
       "  <thead>\n",
       "    <tr style=\"text-align: right;\">\n",
       "      <th></th>\n",
       "      <th>count</th>\n",
       "      <th>mean</th>\n",
       "      <th>std</th>\n",
       "      <th>min</th>\n",
       "      <th>25%</th>\n",
       "      <th>50%</th>\n",
       "      <th>75%</th>\n",
       "      <th>max</th>\n",
       "    </tr>\n",
       "    <tr>\n",
       "      <th>Risk</th>\n",
       "      <th></th>\n",
       "      <th></th>\n",
       "      <th></th>\n",
       "      <th></th>\n",
       "      <th></th>\n",
       "      <th></th>\n",
       "      <th></th>\n",
       "      <th></th>\n",
       "    </tr>\n",
       "  </thead>\n",
       "  <tbody>\n",
       "    <tr>\n",
       "      <th>0</th>\n",
       "      <td>471.0</td>\n",
       "      <td>2.106157</td>\n",
       "      <td>0.448857</td>\n",
       "      <td>2.0</td>\n",
       "      <td>2.0</td>\n",
       "      <td>2.0</td>\n",
       "      <td>2.0</td>\n",
       "      <td>4.0</td>\n",
       "    </tr>\n",
       "    <tr>\n",
       "      <th>1</th>\n",
       "      <td>245.0</td>\n",
       "      <td>3.126531</td>\n",
       "      <td>1.709517</td>\n",
       "      <td>2.0</td>\n",
       "      <td>2.0</td>\n",
       "      <td>2.0</td>\n",
       "      <td>4.0</td>\n",
       "      <td>6.0</td>\n",
       "    </tr>\n",
       "  </tbody>\n",
       "</table>\n",
       "</div>"
      ],
      "text/plain": [
       "      count      mean       std  min  25%  50%  75%  max\n",
       "Risk                                                    \n",
       "0     471.0  2.106157  0.448857  2.0  2.0  2.0  2.0  4.0\n",
       "1     245.0  3.126531  1.709517  2.0  2.0  2.0  4.0  6.0"
      ]
     },
     "execution_count": 161,
     "metadata": {},
     "output_type": "execute_result"
    }
   ],
   "source": [
    "data.groupby(\"Risk\")[\"District_Loss\"].describe()"
   ]
  },
  {
   "cell_type": "code",
   "execution_count": 162,
   "id": "4d27f33e",
   "metadata": {},
   "outputs": [
    {
     "data": {
      "text/html": [
       "<div>\n",
       "<style scoped>\n",
       "    .dataframe tbody tr th:only-of-type {\n",
       "        vertical-align: middle;\n",
       "    }\n",
       "\n",
       "    .dataframe tbody tr th {\n",
       "        vertical-align: top;\n",
       "    }\n",
       "\n",
       "    .dataframe thead th {\n",
       "        text-align: right;\n",
       "    }\n",
       "</style>\n",
       "<table border=\"1\" class=\"dataframe\">\n",
       "  <thead>\n",
       "    <tr style=\"text-align: right;\">\n",
       "      <th>Risk</th>\n",
       "      <th>0</th>\n",
       "      <th>1</th>\n",
       "      <th>All</th>\n",
       "    </tr>\n",
       "    <tr>\n",
       "      <th>District_Loss</th>\n",
       "      <th></th>\n",
       "      <th></th>\n",
       "      <th></th>\n",
       "    </tr>\n",
       "  </thead>\n",
       "  <tbody>\n",
       "    <tr>\n",
       "      <th>2</th>\n",
       "      <td>446</td>\n",
       "      <td>166</td>\n",
       "      <td>612</td>\n",
       "    </tr>\n",
       "    <tr>\n",
       "      <th>4</th>\n",
       "      <td>25</td>\n",
       "      <td>20</td>\n",
       "      <td>45</td>\n",
       "    </tr>\n",
       "    <tr>\n",
       "      <th>6</th>\n",
       "      <td>0</td>\n",
       "      <td>59</td>\n",
       "      <td>59</td>\n",
       "    </tr>\n",
       "    <tr>\n",
       "      <th>All</th>\n",
       "      <td>471</td>\n",
       "      <td>245</td>\n",
       "      <td>716</td>\n",
       "    </tr>\n",
       "  </tbody>\n",
       "</table>\n",
       "</div>"
      ],
      "text/plain": [
       "Risk             0    1  All\n",
       "District_Loss               \n",
       "2              446  166  612\n",
       "4               25   20   45\n",
       "6                0   59   59\n",
       "All            471  245  716"
      ]
     },
     "execution_count": 162,
     "metadata": {},
     "output_type": "execute_result"
    }
   ],
   "source": [
    "pd.crosstab(data.District_Loss,data.Risk,margins = True)"
   ]
  },
  {
   "cell_type": "code",
   "execution_count": 163,
   "id": "4e17ac77",
   "metadata": {},
   "outputs": [],
   "source": [
    "Risk_District = np.array([[446,154],[25,19]])"
   ]
  },
  {
   "cell_type": "code",
   "execution_count": 164,
   "id": "e906ec10",
   "metadata": {},
   "outputs": [
    {
     "data": {
      "text/plain": [
       "(5.540586536176538,\n",
       " 0.01858035426604921,\n",
       " 1,\n",
       " array([[438.81987578, 161.18012422],\n",
       "        [ 32.18012422,  11.81987578]]))"
      ]
     },
     "execution_count": 164,
     "metadata": {},
     "output_type": "execute_result"
    }
   ],
   "source": [
    "scipy.stats.chi2_contingency(Risk_District)"
   ]
  },
  {
   "cell_type": "markdown",
   "id": "1512d732",
   "metadata": {},
   "source": [
    "It is A Good Predictior"
   ]
  },
  {
   "cell_type": "markdown",
   "id": "3e593dcc",
   "metadata": {},
   "source": [
    "# PROB "
   ]
  },
  {
   "cell_type": "code",
   "execution_count": 165,
   "id": "9620a7be",
   "metadata": {},
   "outputs": [
    {
     "data": {
      "text/plain": [
       "0.2    699\n",
       "0.4     15\n",
       "0.6      2\n",
       "Name: PROB, dtype: int64"
      ]
     },
     "execution_count": 165,
     "metadata": {},
     "output_type": "execute_result"
    }
   ],
   "source": [
    "data.PROB.value_counts()"
   ]
  },
  {
   "cell_type": "code",
   "execution_count": 166,
   "id": "717d91cf",
   "metadata": {},
   "outputs": [
    {
     "data": {
      "text/plain": [
       "count    716.000000\n",
       "mean       0.205307\n",
       "std        0.035475\n",
       "min        0.200000\n",
       "25%        0.200000\n",
       "50%        0.200000\n",
       "75%        0.200000\n",
       "max        0.600000\n",
       "Name: PROB, dtype: float64"
      ]
     },
     "execution_count": 166,
     "metadata": {},
     "output_type": "execute_result"
    }
   ],
   "source": [
    "data.PROB.describe()"
   ]
  },
  {
   "cell_type": "code",
   "execution_count": 167,
   "id": "85b1c7fc",
   "metadata": {
    "scrolled": true
   },
   "outputs": [
    {
     "data": {
      "text/plain": [
       "<AxesSubplot:xlabel='PROB', ylabel='count'>"
      ]
     },
     "execution_count": 167,
     "metadata": {},
     "output_type": "execute_result"
    },
    {
     "data": {
      "image/png": "[encoded data removed]",
      "text/plain": [
       "<Figure size 1080x576 with 1 Axes>"
      ]
     },
     "metadata": {
      "needs_background": "light"
     },
     "output_type": "display_data"
    }
   ],
   "source": [
    "sns.countplot(data.PROB)"
   ]
  },
  {
   "cell_type": "code",
   "execution_count": 168,
   "id": "cef4e465",
   "metadata": {},
   "outputs": [
    {
     "data": {
      "image/png": "[encoded data removed]",
      "text/plain": [
       "<Figure size 1080x576 with 1 Axes>"
      ]
     },
     "metadata": {
      "needs_background": "light"
     },
     "output_type": "display_data"
    }
   ],
   "source": [
    "sns.countplot(data.PROB,hue = data.Risk,data=data)\n",
    "plt.title(\"relation between PROB and REsponse\")\n",
    "plt.show()"
   ]
  },
  {
   "cell_type": "code",
   "execution_count": 169,
   "id": "128dd36b",
   "metadata": {
    "scrolled": true
   },
   "outputs": [
    {
     "data": {
      "text/html": [
       "<div>\n",
       "<style scoped>\n",
       "    .dataframe tbody tr th:only-of-type {\n",
       "        vertical-align: middle;\n",
       "    }\n",
       "\n",
       "    .dataframe tbody tr th {\n",
       "        vertical-align: top;\n",
       "    }\n",
       "\n",
       "    .dataframe thead th {\n",
       "        text-align: right;\n",
       "    }\n",
       "</style>\n",
       "<table border=\"1\" class=\"dataframe\">\n",
       "  <thead>\n",
       "    <tr style=\"text-align: right;\">\n",
       "      <th></th>\n",
       "      <th>count</th>\n",
       "      <th>mean</th>\n",
       "      <th>std</th>\n",
       "      <th>min</th>\n",
       "      <th>25%</th>\n",
       "      <th>50%</th>\n",
       "      <th>75%</th>\n",
       "      <th>max</th>\n",
       "    </tr>\n",
       "    <tr>\n",
       "      <th>Risk</th>\n",
       "      <th></th>\n",
       "      <th></th>\n",
       "      <th></th>\n",
       "      <th></th>\n",
       "      <th></th>\n",
       "      <th></th>\n",
       "      <th></th>\n",
       "      <th></th>\n",
       "    </tr>\n",
       "  </thead>\n",
       "  <tbody>\n",
       "    <tr>\n",
       "      <th>0</th>\n",
       "      <td>471.0</td>\n",
       "      <td>0.200849</td>\n",
       "      <td>0.013019</td>\n",
       "      <td>0.2</td>\n",
       "      <td>0.2</td>\n",
       "      <td>0.2</td>\n",
       "      <td>0.2</td>\n",
       "      <td>0.4</td>\n",
       "    </tr>\n",
       "    <tr>\n",
       "      <th>1</th>\n",
       "      <td>245.0</td>\n",
       "      <td>0.213878</td>\n",
       "      <td>0.057002</td>\n",
       "      <td>0.2</td>\n",
       "      <td>0.2</td>\n",
       "      <td>0.2</td>\n",
       "      <td>0.2</td>\n",
       "      <td>0.6</td>\n",
       "    </tr>\n",
       "  </tbody>\n",
       "</table>\n",
       "</div>"
      ],
      "text/plain": [
       "      count      mean       std  min  25%  50%  75%  max\n",
       "Risk                                                    \n",
       "0     471.0  0.200849  0.013019  0.2  0.2  0.2  0.2  0.4\n",
       "1     245.0  0.213878  0.057002  0.2  0.2  0.2  0.2  0.6"
      ]
     },
     "execution_count": 169,
     "metadata": {},
     "output_type": "execute_result"
    }
   ],
   "source": [
    "data.groupby(\"Risk\")[\"PROB\"].describe()"
   ]
  },
  {
   "cell_type": "code",
   "execution_count": 170,
   "id": "0be3950b",
   "metadata": {},
   "outputs": [
    {
     "data": {
      "text/html": [
       "<div>\n",
       "<style scoped>\n",
       "    .dataframe tbody tr th:only-of-type {\n",
       "        vertical-align: middle;\n",
       "    }\n",
       "\n",
       "    .dataframe tbody tr th {\n",
       "        vertical-align: top;\n",
       "    }\n",
       "\n",
       "    .dataframe thead th {\n",
       "        text-align: right;\n",
       "    }\n",
       "</style>\n",
       "<table border=\"1\" class=\"dataframe\">\n",
       "  <thead>\n",
       "    <tr style=\"text-align: right;\">\n",
       "      <th>Risk</th>\n",
       "      <th>0</th>\n",
       "      <th>1</th>\n",
       "      <th>All</th>\n",
       "    </tr>\n",
       "    <tr>\n",
       "      <th>PROB</th>\n",
       "      <th></th>\n",
       "      <th></th>\n",
       "      <th></th>\n",
       "    </tr>\n",
       "  </thead>\n",
       "  <tbody>\n",
       "    <tr>\n",
       "      <th>0.2</th>\n",
       "      <td>469</td>\n",
       "      <td>230</td>\n",
       "      <td>699</td>\n",
       "    </tr>\n",
       "    <tr>\n",
       "      <th>0.4</th>\n",
       "      <td>2</td>\n",
       "      <td>13</td>\n",
       "      <td>15</td>\n",
       "    </tr>\n",
       "    <tr>\n",
       "      <th>0.6</th>\n",
       "      <td>0</td>\n",
       "      <td>2</td>\n",
       "      <td>2</td>\n",
       "    </tr>\n",
       "    <tr>\n",
       "      <th>All</th>\n",
       "      <td>471</td>\n",
       "      <td>245</td>\n",
       "      <td>716</td>\n",
       "    </tr>\n",
       "  </tbody>\n",
       "</table>\n",
       "</div>"
      ],
      "text/plain": [
       "Risk    0    1  All\n",
       "PROB               \n",
       "0.2   469  230  699\n",
       "0.4     2   13   15\n",
       "0.6     0    2    2\n",
       "All   471  245  716"
      ]
     },
     "execution_count": 170,
     "metadata": {},
     "output_type": "execute_result"
    }
   ],
   "source": [
    "pd.crosstab(data.PROB,data.Risk,margins = True)"
   ]
  },
  {
   "cell_type": "code",
   "execution_count": 171,
   "id": "ec3ee6ab",
   "metadata": {},
   "outputs": [],
   "source": [
    "Risk_PROB = np.array([[469,169],[2,4]])"
   ]
  },
  {
   "cell_type": "code",
   "execution_count": 172,
   "id": "b98d49b3",
   "metadata": {},
   "outputs": [
    {
     "data": {
      "text/plain": [
       "(3.0529105371659795,\n",
       " 0.08059259403671269,\n",
       " 1,\n",
       " array([[466.61180124, 171.38819876],\n",
       "        [  4.38819876,   1.61180124]]))"
      ]
     },
     "execution_count": 172,
     "metadata": {},
     "output_type": "execute_result"
    }
   ],
   "source": [
    "scipy.stats.chi2_contingency(Risk_PROB)"
   ]
  },
  {
   "cell_type": "markdown",
   "id": "5a69c259",
   "metadata": {},
   "source": [
    "it is a BAD Predictior"
   ]
  },
  {
   "cell_type": "markdown",
   "id": "8440e028",
   "metadata": {},
   "source": [
    "#  RiSk_E"
   ]
  },
  {
   "cell_type": "code",
   "execution_count": 173,
   "id": "1c4e0076",
   "metadata": {},
   "outputs": [
    {
     "data": {
      "text/plain": [
       "0.4    600\n",
       "1.2     57\n",
       "0.8     54\n",
       "2.4      4\n",
       "1.6      1\n",
       "Name: RiSk_E, dtype: int64"
      ]
     },
     "execution_count": 173,
     "metadata": {},
     "output_type": "execute_result"
    }
   ],
   "source": [
    "data.RiSk_E.value_counts()"
   ]
  },
  {
   "cell_type": "code",
   "execution_count": 174,
   "id": "5f5b1f59",
   "metadata": {},
   "outputs": [
    {
     "data": {
      "text/plain": [
       "count    716.000000\n",
       "mean       0.506704\n",
       "std        0.275853\n",
       "min        0.400000\n",
       "25%        0.400000\n",
       "50%        0.400000\n",
       "75%        0.400000\n",
       "max        2.400000\n",
       "Name: RiSk_E, dtype: float64"
      ]
     },
     "execution_count": 174,
     "metadata": {},
     "output_type": "execute_result"
    }
   ],
   "source": [
    "data.RiSk_E.describe()"
   ]
  },
  {
   "cell_type": "code",
   "execution_count": 175,
   "id": "6e3e1ea0",
   "metadata": {},
   "outputs": [
    {
     "data": {
      "image/png": "[encoded data removed]",
      "text/plain": [
       "<Figure size 1080x576 with 1 Axes>"
      ]
     },
     "metadata": {
      "needs_background": "light"
     },
     "output_type": "display_data"
    }
   ],
   "source": [
    "sns.countplot(data.RiSk_E)\n",
    "plt.title(\"countplot of Risk_E\")\n",
    "plt.show()"
   ]
  },
  {
   "cell_type": "code",
   "execution_count": 176,
   "id": "f552cafb",
   "metadata": {},
   "outputs": [
    {
     "data": {
      "image/png": "[encoded data removed]",
      "text/plain": [
       "<Figure size 1080x576 with 1 Axes>"
      ]
     },
     "metadata": {
      "needs_background": "light"
     },
     "output_type": "display_data"
    }
   ],
   "source": [
    "sns.countplot(data.RiSk_E,hue = data.Risk,data=data)\n",
    "plt.title(\"relation between Response and Risk_E\")\n",
    "plt.show()"
   ]
  },
  {
   "cell_type": "code",
   "execution_count": 177,
   "id": "b8304942",
   "metadata": {},
   "outputs": [
    {
     "data": {
      "text/html": [
       "<div>\n",
       "<style scoped>\n",
       "    .dataframe tbody tr th:only-of-type {\n",
       "        vertical-align: middle;\n",
       "    }\n",
       "\n",
       "    .dataframe tbody tr th {\n",
       "        vertical-align: top;\n",
       "    }\n",
       "\n",
       "    .dataframe thead th {\n",
       "        text-align: right;\n",
       "    }\n",
       "</style>\n",
       "<table border=\"1\" class=\"dataframe\">\n",
       "  <thead>\n",
       "    <tr style=\"text-align: right;\">\n",
       "      <th></th>\n",
       "      <th>count</th>\n",
       "      <th>mean</th>\n",
       "      <th>std</th>\n",
       "      <th>min</th>\n",
       "      <th>25%</th>\n",
       "      <th>50%</th>\n",
       "      <th>75%</th>\n",
       "      <th>max</th>\n",
       "    </tr>\n",
       "    <tr>\n",
       "      <th>Risk</th>\n",
       "      <th></th>\n",
       "      <th></th>\n",
       "      <th></th>\n",
       "      <th></th>\n",
       "      <th></th>\n",
       "      <th></th>\n",
       "      <th></th>\n",
       "      <th></th>\n",
       "    </tr>\n",
       "  </thead>\n",
       "  <tbody>\n",
       "    <tr>\n",
       "      <th>0</th>\n",
       "      <td>471.0</td>\n",
       "      <td>0.422930</td>\n",
       "      <td>0.093084</td>\n",
       "      <td>0.4</td>\n",
       "      <td>0.4</td>\n",
       "      <td>0.4</td>\n",
       "      <td>0.4</td>\n",
       "      <td>0.8</td>\n",
       "    </tr>\n",
       "    <tr>\n",
       "      <th>1</th>\n",
       "      <td>245.0</td>\n",
       "      <td>0.667755</td>\n",
       "      <td>0.408291</td>\n",
       "      <td>0.4</td>\n",
       "      <td>0.4</td>\n",
       "      <td>0.4</td>\n",
       "      <td>1.2</td>\n",
       "      <td>2.4</td>\n",
       "    </tr>\n",
       "  </tbody>\n",
       "</table>\n",
       "</div>"
      ],
      "text/plain": [
       "      count      mean       std  min  25%  50%  75%  max\n",
       "Risk                                                    \n",
       "0     471.0  0.422930  0.093084  0.4  0.4  0.4  0.4  0.8\n",
       "1     245.0  0.667755  0.408291  0.4  0.4  0.4  1.2  2.4"
      ]
     },
     "execution_count": 177,
     "metadata": {},
     "output_type": "execute_result"
    }
   ],
   "source": [
    "data.groupby(\"Risk\")[\"RiSk_E\"].describe()"
   ]
  },
  {
   "cell_type": "code",
   "execution_count": 178,
   "id": "adc5989a",
   "metadata": {},
   "outputs": [
    {
     "data": {
      "text/html": [
       "<div>\n",
       "<style scoped>\n",
       "    .dataframe tbody tr th:only-of-type {\n",
       "        vertical-align: middle;\n",
       "    }\n",
       "\n",
       "    .dataframe tbody tr th {\n",
       "        vertical-align: top;\n",
       "    }\n",
       "\n",
       "    .dataframe thead th {\n",
       "        text-align: right;\n",
       "    }\n",
       "</style>\n",
       "<table border=\"1\" class=\"dataframe\">\n",
       "  <thead>\n",
       "    <tr style=\"text-align: right;\">\n",
       "      <th>Risk</th>\n",
       "      <th>0</th>\n",
       "      <th>1</th>\n",
       "      <th>All</th>\n",
       "    </tr>\n",
       "    <tr>\n",
       "      <th>RiSk_E</th>\n",
       "      <th></th>\n",
       "      <th></th>\n",
       "      <th></th>\n",
       "    </tr>\n",
       "  </thead>\n",
       "  <tbody>\n",
       "    <tr>\n",
       "      <th>0.4</th>\n",
       "      <td>444</td>\n",
       "      <td>156</td>\n",
       "      <td>600</td>\n",
       "    </tr>\n",
       "    <tr>\n",
       "      <th>0.8</th>\n",
       "      <td>27</td>\n",
       "      <td>27</td>\n",
       "      <td>54</td>\n",
       "    </tr>\n",
       "    <tr>\n",
       "      <th>1.2</th>\n",
       "      <td>0</td>\n",
       "      <td>57</td>\n",
       "      <td>57</td>\n",
       "    </tr>\n",
       "    <tr>\n",
       "      <th>1.6</th>\n",
       "      <td>0</td>\n",
       "      <td>1</td>\n",
       "      <td>1</td>\n",
       "    </tr>\n",
       "    <tr>\n",
       "      <th>2.4</th>\n",
       "      <td>0</td>\n",
       "      <td>4</td>\n",
       "      <td>4</td>\n",
       "    </tr>\n",
       "    <tr>\n",
       "      <th>All</th>\n",
       "      <td>471</td>\n",
       "      <td>245</td>\n",
       "      <td>716</td>\n",
       "    </tr>\n",
       "  </tbody>\n",
       "</table>\n",
       "</div>"
      ],
      "text/plain": [
       "Risk      0    1  All\n",
       "RiSk_E               \n",
       "0.4     444  156  600\n",
       "0.8      27   27   54\n",
       "1.2       0   57   57\n",
       "1.6       0    1    1\n",
       "2.4       0    4    4\n",
       "All     471  245  716"
      ]
     },
     "execution_count": 178,
     "metadata": {},
     "output_type": "execute_result"
    }
   ],
   "source": [
    "pd.crosstab(data.RiSk_E,data.Risk,margins = True)"
   ]
  },
  {
   "cell_type": "code",
   "execution_count": 179,
   "id": "bb2b97ca",
   "metadata": {},
   "outputs": [],
   "source": [
    "Risk_RiskE = np.array([[444,150],[27,23]])"
   ]
  },
  {
   "cell_type": "code",
   "execution_count": 180,
   "id": "426a8169",
   "metadata": {},
   "outputs": [
    {
     "data": {
      "text/plain": [
       "(9.075866561329788,\n",
       " 0.002590048122333698,\n",
       " 1,\n",
       " array([[434.43167702, 159.56832298],\n",
       "        [ 36.56832298,  13.43167702]]))"
      ]
     },
     "execution_count": 180,
     "metadata": {},
     "output_type": "execute_result"
    }
   ],
   "source": [
    "scipy.stats.chi2_contingency(Risk_RiskE)"
   ]
  },
  {
   "cell_type": "markdown",
   "id": "424108d2",
   "metadata": {},
   "source": [
    "It is a Good Predictior"
   ]
  },
  {
   "cell_type": "markdown",
   "id": "1155c2ba",
   "metadata": {},
   "source": [
    "# History"
   ]
  },
  {
   "cell_type": "code",
   "execution_count": 181,
   "id": "70220e53",
   "metadata": {},
   "outputs": [
    {
     "data": {
      "text/plain": [
       "0    687\n",
       "1     22\n",
       "2      4\n",
       "3      1\n",
       "5      1\n",
       "9      1\n",
       "Name: History, dtype: int64"
      ]
     },
     "execution_count": 181,
     "metadata": {},
     "output_type": "execute_result"
    }
   ],
   "source": [
    "data.History.value_counts()"
   ]
  },
  {
   "cell_type": "code",
   "execution_count": 182,
   "id": "c7c218ab",
   "metadata": {},
   "outputs": [
    {
     "data": {
      "image/png": "[encoded data removed]",
      "text/plain": [
       "<Figure size 1080x576 with 1 Axes>"
      ]
     },
     "metadata": {
      "needs_background": "light"
     },
     "output_type": "display_data"
    }
   ],
   "source": [
    "sns.countplot(data.History)\n",
    "plt.title(\"countplot of History\")\n",
    "plt.show()"
   ]
  },
  {
   "cell_type": "code",
   "execution_count": 183,
   "id": "569ba808",
   "metadata": {},
   "outputs": [
    {
     "data": {
      "image/png": "[encoded data removed]",
      "text/plain": [
       "<Figure size 1080x576 with 1 Axes>"
      ]
     },
     "metadata": {
      "needs_background": "light"
     },
     "output_type": "display_data"
    }
   ],
   "source": [
    "sns.countplot(data.History,hue = data.Risk,data=data)\n",
    "plt.title('relation between History and Response')\n",
    "plt.show()"
   ]
  },
  {
   "cell_type": "code",
   "execution_count": 184,
   "id": "9b96eeb1",
   "metadata": {},
   "outputs": [
    {
     "data": {
      "text/html": [
       "<div>\n",
       "<style scoped>\n",
       "    .dataframe tbody tr th:only-of-type {\n",
       "        vertical-align: middle;\n",
       "    }\n",
       "\n",
       "    .dataframe tbody tr th {\n",
       "        vertical-align: top;\n",
       "    }\n",
       "\n",
       "    .dataframe thead th {\n",
       "        text-align: right;\n",
       "    }\n",
       "</style>\n",
       "<table border=\"1\" class=\"dataframe\">\n",
       "  <thead>\n",
       "    <tr style=\"text-align: right;\">\n",
       "      <th></th>\n",
       "      <th>count</th>\n",
       "      <th>mean</th>\n",
       "      <th>std</th>\n",
       "      <th>min</th>\n",
       "      <th>25%</th>\n",
       "      <th>50%</th>\n",
       "      <th>75%</th>\n",
       "      <th>max</th>\n",
       "    </tr>\n",
       "    <tr>\n",
       "      <th>Risk</th>\n",
       "      <th></th>\n",
       "      <th></th>\n",
       "      <th></th>\n",
       "      <th></th>\n",
       "      <th></th>\n",
       "      <th></th>\n",
       "      <th></th>\n",
       "      <th></th>\n",
       "    </tr>\n",
       "  </thead>\n",
       "  <tbody>\n",
       "    <tr>\n",
       "      <th>0</th>\n",
       "      <td>471.0</td>\n",
       "      <td>0.002123</td>\n",
       "      <td>0.046078</td>\n",
       "      <td>0.0</td>\n",
       "      <td>0.0</td>\n",
       "      <td>0.0</td>\n",
       "      <td>0.0</td>\n",
       "      <td>1.0</td>\n",
       "    </tr>\n",
       "    <tr>\n",
       "      <th>1</th>\n",
       "      <td>245.0</td>\n",
       "      <td>0.187755</td>\n",
       "      <td>0.766521</td>\n",
       "      <td>0.0</td>\n",
       "      <td>0.0</td>\n",
       "      <td>0.0</td>\n",
       "      <td>0.0</td>\n",
       "      <td>9.0</td>\n",
       "    </tr>\n",
       "  </tbody>\n",
       "</table>\n",
       "</div>"
      ],
      "text/plain": [
       "      count      mean       std  min  25%  50%  75%  max\n",
       "Risk                                                    \n",
       "0     471.0  0.002123  0.046078  0.0  0.0  0.0  0.0  1.0\n",
       "1     245.0  0.187755  0.766521  0.0  0.0  0.0  0.0  9.0"
      ]
     },
     "execution_count": 184,
     "metadata": {},
     "output_type": "execute_result"
    }
   ],
   "source": [
    "data.groupby(\"Risk\")[\"History\"].describe()"
   ]
  },
  {
   "cell_type": "code",
   "execution_count": 185,
   "id": "bdc7af76",
   "metadata": {},
   "outputs": [
    {
     "data": {
      "text/html": [
       "<div>\n",
       "<style scoped>\n",
       "    .dataframe tbody tr th:only-of-type {\n",
       "        vertical-align: middle;\n",
       "    }\n",
       "\n",
       "    .dataframe tbody tr th {\n",
       "        vertical-align: top;\n",
       "    }\n",
       "\n",
       "    .dataframe thead th {\n",
       "        text-align: right;\n",
       "    }\n",
       "</style>\n",
       "<table border=\"1\" class=\"dataframe\">\n",
       "  <thead>\n",
       "    <tr style=\"text-align: right;\">\n",
       "      <th>Risk</th>\n",
       "      <th>0</th>\n",
       "      <th>1</th>\n",
       "      <th>All</th>\n",
       "    </tr>\n",
       "    <tr>\n",
       "      <th>History</th>\n",
       "      <th></th>\n",
       "      <th></th>\n",
       "      <th></th>\n",
       "    </tr>\n",
       "  </thead>\n",
       "  <tbody>\n",
       "    <tr>\n",
       "      <th>0</th>\n",
       "      <td>470</td>\n",
       "      <td>217</td>\n",
       "      <td>687</td>\n",
       "    </tr>\n",
       "    <tr>\n",
       "      <th>1</th>\n",
       "      <td>1</td>\n",
       "      <td>21</td>\n",
       "      <td>22</td>\n",
       "    </tr>\n",
       "    <tr>\n",
       "      <th>2</th>\n",
       "      <td>0</td>\n",
       "      <td>4</td>\n",
       "      <td>4</td>\n",
       "    </tr>\n",
       "    <tr>\n",
       "      <th>3</th>\n",
       "      <td>0</td>\n",
       "      <td>1</td>\n",
       "      <td>1</td>\n",
       "    </tr>\n",
       "    <tr>\n",
       "      <th>5</th>\n",
       "      <td>0</td>\n",
       "      <td>1</td>\n",
       "      <td>1</td>\n",
       "    </tr>\n",
       "    <tr>\n",
       "      <th>9</th>\n",
       "      <td>0</td>\n",
       "      <td>1</td>\n",
       "      <td>1</td>\n",
       "    </tr>\n",
       "    <tr>\n",
       "      <th>All</th>\n",
       "      <td>471</td>\n",
       "      <td>245</td>\n",
       "      <td>716</td>\n",
       "    </tr>\n",
       "  </tbody>\n",
       "</table>\n",
       "</div>"
      ],
      "text/plain": [
       "Risk       0    1  All\n",
       "History               \n",
       "0        470  217  687\n",
       "1          1   21   22\n",
       "2          0    4    4\n",
       "3          0    1    1\n",
       "5          0    1    1\n",
       "9          0    1    1\n",
       "All      471  245  716"
      ]
     },
     "execution_count": 185,
     "metadata": {},
     "output_type": "execute_result"
    }
   ],
   "source": [
    "pd.crosstab(data.History,data.Risk,margins = True)"
   ]
  },
  {
   "cell_type": "code",
   "execution_count": 186,
   "id": "7af87741",
   "metadata": {},
   "outputs": [],
   "source": [
    "Risk_History = np.array([[470,156],[1,17]])"
   ]
  },
  {
   "cell_type": "code",
   "execution_count": 187,
   "id": "82bfd638",
   "metadata": {},
   "outputs": [
    {
     "data": {
      "text/plain": [
       "(39.58067326927089,\n",
       " 3.147831676633607e-10,\n",
       " 1,\n",
       " array([[457.83540373, 168.16459627],\n",
       "        [ 13.16459627,   4.83540373]]))"
      ]
     },
     "execution_count": 187,
     "metadata": {},
     "output_type": "execute_result"
    }
   ],
   "source": [
    "scipy.stats.chi2_contingency(Risk_History)"
   ]
  },
  {
   "cell_type": "markdown",
   "id": "2f2da10f",
   "metadata": {},
   "source": [
    "It is a Good Predictior"
   ]
  },
  {
   "cell_type": "markdown",
   "id": "8f3da9da",
   "metadata": {},
   "source": [
    "# Risk_F"
   ]
  },
  {
   "cell_type": "code",
   "execution_count": 188,
   "id": "63704281",
   "metadata": {},
   "outputs": [
    {
     "data": {
      "text/plain": [
       "0.0    687\n",
       "0.4     22\n",
       "1.2      4\n",
       "3.0      1\n",
       "1.8      1\n",
       "5.4      1\n",
       "Name: Risk_F, dtype: int64"
      ]
     },
     "execution_count": 188,
     "metadata": {},
     "output_type": "execute_result"
    }
   ],
   "source": [
    "data.Risk_F.value_counts()"
   ]
  },
  {
   "cell_type": "code",
   "execution_count": 189,
   "id": "e2b2651d",
   "metadata": {},
   "outputs": [
    {
     "data": {
      "image/png": "[encoded data removed]",
      "text/plain": [
       "<Figure size 1080x576 with 1 Axes>"
      ]
     },
     "metadata": {
      "needs_background": "light"
     },
     "output_type": "display_data"
    }
   ],
   "source": [
    "sns.countplot(data.Risk_F)\n",
    "plt.title(\"countplot of Risk_F\")\n",
    "plt.show()"
   ]
  },
  {
   "cell_type": "markdown",
   "id": "f9d58f67",
   "metadata": {},
   "source": [
    "from the above fig we can see that 0.0 has more count"
   ]
  },
  {
   "cell_type": "code",
   "execution_count": 190,
   "id": "757bdc23",
   "metadata": {},
   "outputs": [
    {
     "data": {
      "image/png": "[encoded data removed]",
      "text/plain": [
       "<Figure size 1080x576 with 1 Axes>"
      ]
     },
     "metadata": {
      "needs_background": "light"
     },
     "output_type": "display_data"
    }
   ],
   "source": [
    "sns.countplot(data.Risk_F,hue = data.Risk,data=data)\n",
    "plt.show()"
   ]
  },
  {
   "cell_type": "code",
   "execution_count": 191,
   "id": "e90499a4",
   "metadata": {},
   "outputs": [
    {
     "data": {
      "text/html": [
       "<div>\n",
       "<style scoped>\n",
       "    .dataframe tbody tr th:only-of-type {\n",
       "        vertical-align: middle;\n",
       "    }\n",
       "\n",
       "    .dataframe tbody tr th {\n",
       "        vertical-align: top;\n",
       "    }\n",
       "\n",
       "    .dataframe thead th {\n",
       "        text-align: right;\n",
       "    }\n",
       "</style>\n",
       "<table border=\"1\" class=\"dataframe\">\n",
       "  <thead>\n",
       "    <tr style=\"text-align: right;\">\n",
       "      <th></th>\n",
       "      <th>count</th>\n",
       "      <th>mean</th>\n",
       "      <th>std</th>\n",
       "      <th>min</th>\n",
       "      <th>25%</th>\n",
       "      <th>50%</th>\n",
       "      <th>75%</th>\n",
       "      <th>max</th>\n",
       "    </tr>\n",
       "    <tr>\n",
       "      <th>Risk</th>\n",
       "      <th></th>\n",
       "      <th></th>\n",
       "      <th></th>\n",
       "      <th></th>\n",
       "      <th></th>\n",
       "      <th></th>\n",
       "      <th></th>\n",
       "      <th></th>\n",
       "    </tr>\n",
       "  </thead>\n",
       "  <tbody>\n",
       "    <tr>\n",
       "      <th>0</th>\n",
       "      <td>471.0</td>\n",
       "      <td>0.000849</td>\n",
       "      <td>0.018431</td>\n",
       "      <td>0.0</td>\n",
       "      <td>0.0</td>\n",
       "      <td>0.0</td>\n",
       "      <td>0.0</td>\n",
       "      <td>0.4</td>\n",
       "    </tr>\n",
       "    <tr>\n",
       "      <th>1</th>\n",
       "      <td>245.0</td>\n",
       "      <td>0.095510</td>\n",
       "      <td>0.444848</td>\n",
       "      <td>0.0</td>\n",
       "      <td>0.0</td>\n",
       "      <td>0.0</td>\n",
       "      <td>0.0</td>\n",
       "      <td>5.4</td>\n",
       "    </tr>\n",
       "  </tbody>\n",
       "</table>\n",
       "</div>"
      ],
      "text/plain": [
       "      count      mean       std  min  25%  50%  75%  max\n",
       "Risk                                                    \n",
       "0     471.0  0.000849  0.018431  0.0  0.0  0.0  0.0  0.4\n",
       "1     245.0  0.095510  0.444848  0.0  0.0  0.0  0.0  5.4"
      ]
     },
     "execution_count": 191,
     "metadata": {},
     "output_type": "execute_result"
    }
   ],
   "source": [
    "data.groupby(\"Risk\")[\"Risk_F\"].describe()"
   ]
  },
  {
   "cell_type": "code",
   "execution_count": 192,
   "id": "d9fae193",
   "metadata": {},
   "outputs": [
    {
     "data": {
      "text/html": [
       "<div>\n",
       "<style scoped>\n",
       "    .dataframe tbody tr th:only-of-type {\n",
       "        vertical-align: middle;\n",
       "    }\n",
       "\n",
       "    .dataframe tbody tr th {\n",
       "        vertical-align: top;\n",
       "    }\n",
       "\n",
       "    .dataframe thead th {\n",
       "        text-align: right;\n",
       "    }\n",
       "</style>\n",
       "<table border=\"1\" class=\"dataframe\">\n",
       "  <thead>\n",
       "    <tr style=\"text-align: right;\">\n",
       "      <th>Risk</th>\n",
       "      <th>0</th>\n",
       "      <th>1</th>\n",
       "      <th>All</th>\n",
       "    </tr>\n",
       "    <tr>\n",
       "      <th>Risk_F</th>\n",
       "      <th></th>\n",
       "      <th></th>\n",
       "      <th></th>\n",
       "    </tr>\n",
       "  </thead>\n",
       "  <tbody>\n",
       "    <tr>\n",
       "      <th>0.0</th>\n",
       "      <td>470</td>\n",
       "      <td>217</td>\n",
       "      <td>687</td>\n",
       "    </tr>\n",
       "    <tr>\n",
       "      <th>0.4</th>\n",
       "      <td>1</td>\n",
       "      <td>21</td>\n",
       "      <td>22</td>\n",
       "    </tr>\n",
       "    <tr>\n",
       "      <th>1.2</th>\n",
       "      <td>0</td>\n",
       "      <td>4</td>\n",
       "      <td>4</td>\n",
       "    </tr>\n",
       "    <tr>\n",
       "      <th>1.8</th>\n",
       "      <td>0</td>\n",
       "      <td>1</td>\n",
       "      <td>1</td>\n",
       "    </tr>\n",
       "    <tr>\n",
       "      <th>3.0</th>\n",
       "      <td>0</td>\n",
       "      <td>1</td>\n",
       "      <td>1</td>\n",
       "    </tr>\n",
       "    <tr>\n",
       "      <th>5.4</th>\n",
       "      <td>0</td>\n",
       "      <td>1</td>\n",
       "      <td>1</td>\n",
       "    </tr>\n",
       "    <tr>\n",
       "      <th>All</th>\n",
       "      <td>471</td>\n",
       "      <td>245</td>\n",
       "      <td>716</td>\n",
       "    </tr>\n",
       "  </tbody>\n",
       "</table>\n",
       "</div>"
      ],
      "text/plain": [
       "Risk      0    1  All\n",
       "Risk_F               \n",
       "0.0     470  217  687\n",
       "0.4       1   21   22\n",
       "1.2       0    4    4\n",
       "1.8       0    1    1\n",
       "3.0       0    1    1\n",
       "5.4       0    1    1\n",
       "All     471  245  716"
      ]
     },
     "execution_count": 192,
     "metadata": {},
     "output_type": "execute_result"
    }
   ],
   "source": [
    "pd.crosstab(data.Risk_F,data.Risk,margins = True)"
   ]
  },
  {
   "cell_type": "code",
   "execution_count": 193,
   "id": "128b1f97",
   "metadata": {},
   "outputs": [],
   "source": [
    "Risk_RiskF = np.array([[470,156],[1,17]])"
   ]
  },
  {
   "cell_type": "code",
   "execution_count": 194,
   "id": "4433f181",
   "metadata": {},
   "outputs": [
    {
     "data": {
      "text/plain": [
       "(39.58067326927089,\n",
       " 3.147831676633607e-10,\n",
       " 1,\n",
       " array([[457.83540373, 168.16459627],\n",
       "        [ 13.16459627,   4.83540373]]))"
      ]
     },
     "execution_count": 194,
     "metadata": {},
     "output_type": "execute_result"
    }
   ],
   "source": [
    "scipy.stats.chi2_contingency(Risk_RiskF)"
   ]
  },
  {
   "cell_type": "markdown",
   "id": "e0ff363d",
   "metadata": {},
   "source": [
    "It is a Good Predictior"
   ]
  },
  {
   "cell_type": "markdown",
   "id": "c817a721",
   "metadata": {},
   "source": [
    "# Score"
   ]
  },
  {
   "cell_type": "code",
   "execution_count": 195,
   "id": "6075e1fa",
   "metadata": {},
   "outputs": [
    {
     "data": {
      "text/plain": [
       "2.0    290\n",
       "2.2     97\n",
       "2.4     78\n",
       "2.6     49\n",
       "3.6     28\n",
       "3.2     24\n",
       "3.8     24\n",
       "4.2     21\n",
       "4.0     20\n",
       "3.0     19\n",
       "4.4     18\n",
       "2.8     18\n",
       "3.4     16\n",
       "4.6      6\n",
       "4.8      6\n",
       "5.2      1\n",
       "5.0      1\n",
       "Name: Score, dtype: int64"
      ]
     },
     "execution_count": 195,
     "metadata": {},
     "output_type": "execute_result"
    }
   ],
   "source": [
    "data.Score.value_counts()"
   ]
  },
  {
   "cell_type": "code",
   "execution_count": 196,
   "id": "64ed9457",
   "metadata": {},
   "outputs": [
    {
     "data": {
      "image/png": "[encoded data removed]",
      "text/plain": [
       "<Figure size 1080x576 with 1 Axes>"
      ]
     },
     "metadata": {
      "needs_background": "light"
     },
     "output_type": "display_data"
    }
   ],
   "source": [
    "plt.hist(data.Score)\n",
    "plt.title(\"distribution of Score\")\n",
    "plt.show()"
   ]
  },
  {
   "cell_type": "code",
   "execution_count": 197,
   "id": "b525066d",
   "metadata": {},
   "outputs": [
    {
     "data": {
      "image/png": "[encoded data removed]",
      "text/plain": [
       "<Figure size 1080x576 with 1 Axes>"
      ]
     },
     "metadata": {
      "needs_background": "light"
     },
     "output_type": "display_data"
    }
   ],
   "source": [
    "plt.boxplot(data.Score,vert = False,patch_artist = True)\n",
    "plt.title(\"boxplot of Score\")\n",
    "plt.show()"
   ]
  },
  {
   "cell_type": "code",
   "execution_count": 198,
   "id": "762f8c11",
   "metadata": {},
   "outputs": [
    {
     "data": {
      "text/plain": [
       "1.0"
      ]
     },
     "execution_count": 198,
     "metadata": {},
     "output_type": "execute_result"
    }
   ],
   "source": [
    "IQR = data.Score.quantile(0.75)-data.Score.quantile(0.25)\n",
    "IQR"
   ]
  },
  {
   "cell_type": "code",
   "execution_count": 199,
   "id": "cf3ae59d",
   "metadata": {},
   "outputs": [
    {
     "data": {
      "text/plain": [
       "4.5"
      ]
     },
     "execution_count": 199,
     "metadata": {},
     "output_type": "execute_result"
    }
   ],
   "source": [
    "upper_limit= data.Score.quantile(0.75)+ (1.5*IQR)\n",
    "upper_limit"
   ]
  },
  {
   "cell_type": "code",
   "execution_count": 200,
   "id": "f8982e34",
   "metadata": {},
   "outputs": [
    {
     "data": {
      "text/plain": [
       "0.5"
      ]
     },
     "execution_count": 200,
     "metadata": {},
     "output_type": "execute_result"
    }
   ],
   "source": [
    "lower_limit= data.Score.quantile(0.25)- (1.5*IQR)\n",
    "lower_limit"
   ]
  },
  {
   "cell_type": "code",
   "execution_count": 201,
   "id": "a6542090",
   "metadata": {},
   "outputs": [
    {
     "data": {
      "text/plain": [
       "14"
      ]
     },
     "execution_count": 201,
     "metadata": {},
     "output_type": "execute_result"
    }
   ],
   "source": [
    "len(data.Score[data.Score>upper_limit])"
   ]
  },
  {
   "cell_type": "code",
   "execution_count": 202,
   "id": "f6b08a8e",
   "metadata": {},
   "outputs": [
    {
     "data": {
      "text/plain": [
       "<AxesSubplot:xlabel='Risk', ylabel='Score'>"
      ]
     },
     "execution_count": 202,
     "metadata": {},
     "output_type": "execute_result"
    },
    {
     "data": {
      "image/png": "[encoded data removed]",
      "text/plain": [
       "<Figure size 1080x576 with 1 Axes>"
      ]
     },
     "metadata": {
      "needs_background": "light"
     },
     "output_type": "display_data"
    }
   ],
   "source": [
    "sns.barplot(y =data.Score,x = data.Risk)"
   ]
  },
  {
   "cell_type": "code",
   "execution_count": 203,
   "id": "f0c73f91",
   "metadata": {},
   "outputs": [
    {
     "data": {
      "text/plain": [
       "<AxesSubplot:xlabel='Score', ylabel='count'>"
      ]
     },
     "execution_count": 203,
     "metadata": {},
     "output_type": "execute_result"
    },
    {
     "data": {
      "image/png": "[encoded data removed]",
      "text/plain": [
       "<Figure size 1080x576 with 1 Axes>"
      ]
     },
     "metadata": {
      "needs_background": "light"
     },
     "output_type": "display_data"
    }
   ],
   "source": [
    "sns.countplot(data.Score,hue = data.Risk,data=data)\n"
   ]
  },
  {
   "cell_type": "code",
   "execution_count": 204,
   "id": "098b9e39",
   "metadata": {},
   "outputs": [
    {
     "data": {
      "text/html": [
       "<div>\n",
       "<style scoped>\n",
       "    .dataframe tbody tr th:only-of-type {\n",
       "        vertical-align: middle;\n",
       "    }\n",
       "\n",
       "    .dataframe tbody tr th {\n",
       "        vertical-align: top;\n",
       "    }\n",
       "\n",
       "    .dataframe thead th {\n",
       "        text-align: right;\n",
       "    }\n",
       "</style>\n",
       "<table border=\"1\" class=\"dataframe\">\n",
       "  <thead>\n",
       "    <tr style=\"text-align: right;\">\n",
       "      <th></th>\n",
       "      <th>count</th>\n",
       "      <th>mean</th>\n",
       "      <th>std</th>\n",
       "      <th>min</th>\n",
       "      <th>25%</th>\n",
       "      <th>50%</th>\n",
       "      <th>75%</th>\n",
       "      <th>max</th>\n",
       "    </tr>\n",
       "    <tr>\n",
       "      <th>Risk</th>\n",
       "      <th></th>\n",
       "      <th></th>\n",
       "      <th></th>\n",
       "      <th></th>\n",
       "      <th></th>\n",
       "      <th></th>\n",
       "      <th></th>\n",
       "      <th></th>\n",
       "    </tr>\n",
       "  </thead>\n",
       "  <tbody>\n",
       "    <tr>\n",
       "      <th>0</th>\n",
       "      <td>471.0</td>\n",
       "      <td>2.159660</td>\n",
       "      <td>0.284917</td>\n",
       "      <td>2.0</td>\n",
       "      <td>2.0</td>\n",
       "      <td>2.0</td>\n",
       "      <td>2.2</td>\n",
       "      <td>3.6</td>\n",
       "    </tr>\n",
       "    <tr>\n",
       "      <th>1</th>\n",
       "      <td>245.0</td>\n",
       "      <td>3.409796</td>\n",
       "      <td>0.743652</td>\n",
       "      <td>2.2</td>\n",
       "      <td>2.6</td>\n",
       "      <td>3.6</td>\n",
       "      <td>4.0</td>\n",
       "      <td>5.2</td>\n",
       "    </tr>\n",
       "  </tbody>\n",
       "</table>\n",
       "</div>"
      ],
      "text/plain": [
       "      count      mean       std  min  25%  50%  75%  max\n",
       "Risk                                                    \n",
       "0     471.0  2.159660  0.284917  2.0  2.0  2.0  2.2  3.6\n",
       "1     245.0  3.409796  0.743652  2.2  2.6  3.6  4.0  5.2"
      ]
     },
     "execution_count": 204,
     "metadata": {},
     "output_type": "execute_result"
    }
   ],
   "source": [
    "data.groupby(\"Risk\")[\"Score\"].describe()"
   ]
  },
  {
   "cell_type": "code",
   "execution_count": 205,
   "id": "bd4c230d",
   "metadata": {},
   "outputs": [
    {
     "data": {
      "text/plain": [
       "Ttest_indResult(statistic=-32.23347937986828, pvalue=2.1304547244286824e-141)"
      ]
     },
     "execution_count": 205,
     "metadata": {},
     "output_type": "execute_result"
    }
   ],
   "source": [
    "df1=data[data.Risk==0]\n",
    "df1.shape\n",
    "df2=data[data.Risk==1]\n",
    "df2.shape\n",
    "scipy.stats.ttest_ind(df1.Score,df2.Score)"
   ]
  },
  {
   "cell_type": "markdown",
   "id": "897640ec",
   "metadata": {},
   "source": [
    "It is A Good Predictior"
   ]
  },
  {
   "cell_type": "markdown",
   "id": "76824199",
   "metadata": {},
   "source": [
    "# Inherent_Risk"
   ]
  },
  {
   "cell_type": "code",
   "execution_count": 206,
   "id": "dbf333ab",
   "metadata": {},
   "outputs": [
    {
     "data": {
      "text/plain": [
       "1.400     52\n",
       "2.200      5\n",
       "1.578      5\n",
       "1.442      4\n",
       "2.156      4\n",
       "          ..\n",
       "55.812     1\n",
       "17.584     1\n",
       "3.342      1\n",
       "1.748      1\n",
       "3.168      1\n",
       "Name: Inherent_Risk, Length: 524, dtype: int64"
      ]
     },
     "execution_count": 206,
     "metadata": {},
     "output_type": "execute_result"
    }
   ],
   "source": [
    "data.Inherent_Risk.value_counts()"
   ]
  },
  {
   "cell_type": "code",
   "execution_count": 207,
   "id": "945a653b",
   "metadata": {},
   "outputs": [
    {
     "data": {
      "text/plain": [
       "Text(0.5, 1.0, '')"
      ]
     },
     "execution_count": 207,
     "metadata": {},
     "output_type": "execute_result"
    },
    {
     "data": {
      "image/png": "[encoded data removed]",
      "text/plain": [
       "<Figure size 1080x576 with 1 Axes>"
      ]
     },
     "metadata": {
      "needs_background": "light"
     },
     "output_type": "display_data"
    }
   ],
   "source": [
    "plt.hist(data.Inherent_Risk)\n",
    "plt.title(\"\")"
   ]
  },
  {
   "cell_type": "code",
   "execution_count": 208,
   "id": "250ca99d",
   "metadata": {},
   "outputs": [
    {
     "data": {
      "text/plain": [
       "{'whiskers': [<matplotlib.lines.Line2D at 0x1e695558460>,\n",
       "  <matplotlib.lines.Line2D at 0x1e6955587c0>],\n",
       " 'caps': [<matplotlib.lines.Line2D at 0x1e695558b20>,\n",
       "  <matplotlib.lines.Line2D at 0x1e695558e20>],\n",
       " 'boxes': [<matplotlib.patches.PathPatch at 0x1e6955580d0>],\n",
       " 'medians': [<matplotlib.lines.Line2D at 0x1e6955641c0>],\n",
       " 'fliers': [<matplotlib.lines.Line2D at 0x1e695564520>],\n",
       " 'means': []}"
      ]
     },
     "execution_count": 208,
     "metadata": {},
     "output_type": "execute_result"
    },
    {
     "data": {
      "image/png": "[encoded data removed]",
      "text/plain": [
       "<Figure size 1080x576 with 1 Axes>"
      ]
     },
     "metadata": {
      "needs_background": "light"
     },
     "output_type": "display_data"
    }
   ],
   "source": [
    "plt.boxplot(data.Inherent_Risk,vert = False,patch_artist= True)"
   ]
  },
  {
   "cell_type": "code",
   "execution_count": 209,
   "id": "7802fe4b",
   "metadata": {},
   "outputs": [
    {
     "data": {
      "text/plain": [
       "4.973000000000001"
      ]
     },
     "execution_count": 209,
     "metadata": {},
     "output_type": "execute_result"
    }
   ],
   "source": [
    "IQR = data.Inherent_Risk.quantile(0.75)-data.Inherent_Risk.quantile(0.25)\n",
    "IQR"
   ]
  },
  {
   "cell_type": "code",
   "execution_count": 210,
   "id": "48cbc0ee",
   "metadata": {},
   "outputs": [
    {
     "data": {
      "text/plain": [
       "14.000500000000002"
      ]
     },
     "execution_count": 210,
     "metadata": {},
     "output_type": "execute_result"
    }
   ],
   "source": [
    "upper_limit= data.Inherent_Risk.quantile(0.75)+ (1.5*IQR)\n",
    "upper_limit"
   ]
  },
  {
   "cell_type": "code",
   "execution_count": 211,
   "id": "d2b44558",
   "metadata": {},
   "outputs": [
    {
     "data": {
      "text/plain": [
       "-5.891500000000001"
      ]
     },
     "execution_count": 211,
     "metadata": {},
     "output_type": "execute_result"
    }
   ],
   "source": [
    "lower_limit= data.Inherent_Risk.quantile(0.25)- (1.5*IQR)\n",
    "lower_limit"
   ]
  },
  {
   "cell_type": "code",
   "execution_count": 212,
   "id": "da0aecef",
   "metadata": {},
   "outputs": [
    {
     "data": {
      "text/plain": [
       "118"
      ]
     },
     "execution_count": 212,
     "metadata": {},
     "output_type": "execute_result"
    }
   ],
   "source": [
    "len(data.Inherent_Risk[data.Inherent_Risk>upper_limit])"
   ]
  },
  {
   "cell_type": "code",
   "execution_count": 213,
   "id": "66467aeb",
   "metadata": {},
   "outputs": [],
   "source": [
    "data=data[data['Inherent_Risk']<=200]"
   ]
  },
  {
   "cell_type": "code",
   "execution_count": 214,
   "id": "fb8c248b",
   "metadata": {},
   "outputs": [
    {
     "data": {
      "text/plain": [
       "(716, 27)"
      ]
     },
     "execution_count": 214,
     "metadata": {},
     "output_type": "execute_result"
    }
   ],
   "source": [
    "data.shape"
   ]
  },
  {
   "cell_type": "code",
   "execution_count": 215,
   "id": "ae1ca4a9",
   "metadata": {},
   "outputs": [
    {
     "data": {
      "text/plain": [
       "<AxesSubplot:xlabel='Risk', ylabel='Inherent_Risk'>"
      ]
     },
     "execution_count": 215,
     "metadata": {},
     "output_type": "execute_result"
    },
    {
     "data": {
      "image/png": "[encoded data removed]",
      "text/plain": [
       "<Figure size 1080x576 with 1 Axes>"
      ]
     },
     "metadata": {
      "needs_background": "light"
     },
     "output_type": "display_data"
    }
   ],
   "source": [
    "sns.barplot(y =data.Inherent_Risk,x = data.Risk)"
   ]
  },
  {
   "cell_type": "code",
   "execution_count": 216,
   "id": "83eddbdd",
   "metadata": {},
   "outputs": [
    {
     "data": {
      "text/html": [
       "<div>\n",
       "<style scoped>\n",
       "    .dataframe tbody tr th:only-of-type {\n",
       "        vertical-align: middle;\n",
       "    }\n",
       "\n",
       "    .dataframe tbody tr th {\n",
       "        vertical-align: top;\n",
       "    }\n",
       "\n",
       "    .dataframe thead th {\n",
       "        text-align: right;\n",
       "    }\n",
       "</style>\n",
       "<table border=\"1\" class=\"dataframe\">\n",
       "  <thead>\n",
       "    <tr style=\"text-align: right;\">\n",
       "      <th></th>\n",
       "      <th>count</th>\n",
       "      <th>mean</th>\n",
       "      <th>std</th>\n",
       "      <th>min</th>\n",
       "      <th>25%</th>\n",
       "      <th>50%</th>\n",
       "      <th>75%</th>\n",
       "      <th>max</th>\n",
       "    </tr>\n",
       "    <tr>\n",
       "      <th>Risk</th>\n",
       "      <th></th>\n",
       "      <th></th>\n",
       "      <th></th>\n",
       "      <th></th>\n",
       "      <th></th>\n",
       "      <th></th>\n",
       "      <th></th>\n",
       "      <th></th>\n",
       "    </tr>\n",
       "  </thead>\n",
       "  <tbody>\n",
       "    <tr>\n",
       "      <th>0</th>\n",
       "      <td>471.0</td>\n",
       "      <td>1.964002</td>\n",
       "      <td>0.786556</td>\n",
       "      <td>1.4</td>\n",
       "      <td>1.483</td>\n",
       "      <td>1.656</td>\n",
       "      <td>2.042</td>\n",
       "      <td>4.974</td>\n",
       "    </tr>\n",
       "    <tr>\n",
       "      <th>1</th>\n",
       "      <td>245.0</td>\n",
       "      <td>20.805388</td>\n",
       "      <td>19.923407</td>\n",
       "      <td>2.2</td>\n",
       "      <td>6.334</td>\n",
       "      <td>12.590</td>\n",
       "      <td>30.316</td>\n",
       "      <td>93.028</td>\n",
       "    </tr>\n",
       "  </tbody>\n",
       "</table>\n",
       "</div>"
      ],
      "text/plain": [
       "      count       mean        std  min    25%     50%     75%     max\n",
       "Risk                                                                 \n",
       "0     471.0   1.964002   0.786556  1.4  1.483   1.656   2.042   4.974\n",
       "1     245.0  20.805388  19.923407  2.2  6.334  12.590  30.316  93.028"
      ]
     },
     "execution_count": 216,
     "metadata": {},
     "output_type": "execute_result"
    }
   ],
   "source": [
    "data.groupby(\"Risk\")[\"Inherent_Risk\"].describe()"
   ]
  },
  {
   "cell_type": "code",
   "execution_count": 217,
   "id": "04d84553",
   "metadata": {},
   "outputs": [
    {
     "data": {
      "text/plain": [
       "Ttest_indResult(statistic=-20.506402852745254, pvalue=7.812122143375823e-74)"
      ]
     },
     "execution_count": 217,
     "metadata": {},
     "output_type": "execute_result"
    }
   ],
   "source": [
    "df1=data[data.Risk==0]\n",
    "df1.shape\n",
    "df2=data[data.Risk==1]\n",
    "df2.shape\n",
    "scipy.stats.ttest_ind(df1.Inherent_Risk,df2.Inherent_Risk)"
   ]
  },
  {
   "cell_type": "code",
   "execution_count": null,
   "id": "5d4a08c3",
   "metadata": {},
   "outputs": [],
   "source": []
  },
  {
   "cell_type": "markdown",
   "id": "6d8ef49b",
   "metadata": {},
   "source": [
    "# CONTROL_RISK"
   ]
  },
  {
   "cell_type": "code",
   "execution_count": 218,
   "id": "3f9d5be9",
   "metadata": {},
   "outputs": [
    {
     "data": {
      "text/plain": [
       "0.4    576\n",
       "0.8     70\n",
       "1.2     55\n",
       "1.6      7\n",
       "2.4      4\n",
       "2.2      1\n",
       "5.8      1\n",
       "3.4      1\n",
       "2.0      1\n",
       "Name: CONTROL_RISK, dtype: int64"
      ]
     },
     "execution_count": 218,
     "metadata": {},
     "output_type": "execute_result"
    }
   ],
   "source": [
    "data.CONTROL_RISK.value_counts()"
   ]
  },
  {
   "cell_type": "code",
   "execution_count": 219,
   "id": "50a3a166",
   "metadata": {},
   "outputs": [
    {
     "data": {
      "text/plain": [
       "(array([646.,  55.,   8.,   5.,   0.,   1.,   0.,   0.,   0.,   1.]),\n",
       " array([0.4 , 0.94, 1.48, 2.02, 2.56, 3.1 , 3.64, 4.18, 4.72, 5.26, 5.8 ]),\n",
       " <BarContainer object of 10 artists>)"
      ]
     },
     "execution_count": 219,
     "metadata": {},
     "output_type": "execute_result"
    },
    {
     "data": {
      "image/png": "[encoded data removed]",
      "text/plain": [
       "<Figure size 1080x576 with 1 Axes>"
      ]
     },
     "metadata": {
      "needs_background": "light"
     },
     "output_type": "display_data"
    }
   ],
   "source": [
    "plt.hist(data.CONTROL_RISK)"
   ]
  },
  {
   "cell_type": "code",
   "execution_count": 220,
   "id": "638f9a51",
   "metadata": {},
   "outputs": [
    {
     "data": {
      "text/plain": [
       "{'whiskers': [<matplotlib.lines.Line2D at 0x1e69531e4c0>,\n",
       "  <matplotlib.lines.Line2D at 0x1e69531ebe0>],\n",
       " 'caps': [<matplotlib.lines.Line2D at 0x1e6948c5640>,\n",
       "  <matplotlib.lines.Line2D at 0x1e6948c5c40>],\n",
       " 'boxes': [<matplotlib.patches.PathPatch at 0x1e6948c0310>],\n",
       " 'medians': [<matplotlib.lines.Line2D at 0x1e6948c5eb0>],\n",
       " 'fliers': [<matplotlib.lines.Line2D at 0x1e694524fa0>],\n",
       " 'means': []}"
      ]
     },
     "execution_count": 220,
     "metadata": {},
     "output_type": "execute_result"
    },
    {
     "data": {
      "image/png": "[encoded data removed]",
      "text/plain": [
       "<Figure size 1080x576 with 1 Axes>"
      ]
     },
     "metadata": {
      "needs_background": "light"
     },
     "output_type": "display_data"
    }
   ],
   "source": [
    "plt.boxplot(data.CONTROL_RISK,vert = False,patch_artist = True)"
   ]
  },
  {
   "cell_type": "code",
   "execution_count": 221,
   "id": "da7b6a80",
   "metadata": {},
   "outputs": [
    {
     "data": {
      "text/plain": [
       "0.0"
      ]
     },
     "execution_count": 221,
     "metadata": {},
     "output_type": "execute_result"
    }
   ],
   "source": [
    "IQR = data.CONTROL_RISK.quantile(0.75)-data.CONTROL_RISK.quantile(0.25)\n",
    "IQR"
   ]
  },
  {
   "cell_type": "code",
   "execution_count": 222,
   "id": "7e4c45e6",
   "metadata": {},
   "outputs": [
    {
     "data": {
      "text/plain": [
       "0.4"
      ]
     },
     "execution_count": 222,
     "metadata": {},
     "output_type": "execute_result"
    }
   ],
   "source": [
    "upper_limit= data.CONTROL_RISK.quantile(0.75)+ (1.5*IQR)\n",
    "upper_limit"
   ]
  },
  {
   "cell_type": "code",
   "execution_count": 223,
   "id": "7e7f5fec",
   "metadata": {},
   "outputs": [
    {
     "data": {
      "text/plain": [
       "140"
      ]
     },
     "execution_count": 223,
     "metadata": {},
     "output_type": "execute_result"
    }
   ],
   "source": [
    "len(data.CONTROL_RISK[data.CONTROL_RISK>upper_limit])"
   ]
  },
  {
   "cell_type": "code",
   "execution_count": 224,
   "id": "c3fb0005",
   "metadata": {},
   "outputs": [],
   "source": [
    "data=data[data['CONTROL_RISK']<=1]"
   ]
  },
  {
   "cell_type": "code",
   "execution_count": 225,
   "id": "1153d8c7",
   "metadata": {},
   "outputs": [
    {
     "data": {
      "text/plain": [
       "(646, 27)"
      ]
     },
     "execution_count": 225,
     "metadata": {},
     "output_type": "execute_result"
    }
   ],
   "source": [
    "data.shape"
   ]
  },
  {
   "cell_type": "code",
   "execution_count": 226,
   "id": "aab1c506",
   "metadata": {},
   "outputs": [
    {
     "data": {
      "text/plain": [
       "<AxesSubplot:xlabel='Risk', ylabel='CONTROL_RISK'>"
      ]
     },
     "execution_count": 226,
     "metadata": {},
     "output_type": "execute_result"
    },
    {
     "data": {
      "image/png": "[encoded data removed]",
      "text/plain": [
       "<Figure size 1080x576 with 1 Axes>"
      ]
     },
     "metadata": {
      "needs_background": "light"
     },
     "output_type": "display_data"
    }
   ],
   "source": [
    "sns.barplot(y =data.CONTROL_RISK,x = data.Risk)"
   ]
  },
  {
   "cell_type": "code",
   "execution_count": 227,
   "id": "f1b7e61b",
   "metadata": {},
   "outputs": [
    {
     "data": {
      "text/html": [
       "<div>\n",
       "<style scoped>\n",
       "    .dataframe tbody tr th:only-of-type {\n",
       "        vertical-align: middle;\n",
       "    }\n",
       "\n",
       "    .dataframe tbody tr th {\n",
       "        vertical-align: top;\n",
       "    }\n",
       "\n",
       "    .dataframe thead th {\n",
       "        text-align: right;\n",
       "    }\n",
       "</style>\n",
       "<table border=\"1\" class=\"dataframe\">\n",
       "  <thead>\n",
       "    <tr style=\"text-align: right;\">\n",
       "      <th></th>\n",
       "      <th>count</th>\n",
       "      <th>mean</th>\n",
       "      <th>std</th>\n",
       "      <th>min</th>\n",
       "      <th>25%</th>\n",
       "      <th>50%</th>\n",
       "      <th>75%</th>\n",
       "      <th>max</th>\n",
       "    </tr>\n",
       "    <tr>\n",
       "      <th>Risk</th>\n",
       "      <th></th>\n",
       "      <th></th>\n",
       "      <th></th>\n",
       "      <th></th>\n",
       "      <th></th>\n",
       "      <th></th>\n",
       "      <th></th>\n",
       "      <th></th>\n",
       "    </tr>\n",
       "  </thead>\n",
       "  <tbody>\n",
       "    <tr>\n",
       "      <th>0</th>\n",
       "      <td>471.0</td>\n",
       "      <td>0.423779</td>\n",
       "      <td>0.094685</td>\n",
       "      <td>0.4</td>\n",
       "      <td>0.4</td>\n",
       "      <td>0.4</td>\n",
       "      <td>0.4</td>\n",
       "      <td>0.8</td>\n",
       "    </tr>\n",
       "    <tr>\n",
       "      <th>1</th>\n",
       "      <td>175.0</td>\n",
       "      <td>0.496000</td>\n",
       "      <td>0.171323</td>\n",
       "      <td>0.4</td>\n",
       "      <td>0.4</td>\n",
       "      <td>0.4</td>\n",
       "      <td>0.4</td>\n",
       "      <td>0.8</td>\n",
       "    </tr>\n",
       "  </tbody>\n",
       "</table>\n",
       "</div>"
      ],
      "text/plain": [
       "      count      mean       std  min  25%  50%  75%  max\n",
       "Risk                                                    \n",
       "0     471.0  0.423779  0.094685  0.4  0.4  0.4  0.4  0.8\n",
       "1     175.0  0.496000  0.171323  0.4  0.4  0.4  0.4  0.8"
      ]
     },
     "execution_count": 227,
     "metadata": {},
     "output_type": "execute_result"
    }
   ],
   "source": [
    "data.groupby(\"Risk\")[\"CONTROL_RISK\"].describe()"
   ]
  },
  {
   "cell_type": "code",
   "execution_count": 228,
   "id": "e87ea56d",
   "metadata": {},
   "outputs": [
    {
     "data": {
      "text/plain": [
       "Ttest_indResult(statistic=-6.780944536507126, pvalue=2.7049119727408163e-11)"
      ]
     },
     "execution_count": 228,
     "metadata": {},
     "output_type": "execute_result"
    }
   ],
   "source": [
    "df1=data[data.Risk==0]\n",
    "df1.shape\n",
    "df2=data[data.Risk==1]\n",
    "df2.shape\n",
    "scipy.stats.ttest_ind(df1.CONTROL_RISK,df2.CONTROL_RISK)"
   ]
  },
  {
   "cell_type": "code",
   "execution_count": null,
   "id": "beae94ab",
   "metadata": {},
   "outputs": [],
   "source": []
  },
  {
   "cell_type": "markdown",
   "id": "f94e4f01",
   "metadata": {},
   "source": [
    "# Detection_Risk "
   ]
  },
  {
   "cell_type": "code",
   "execution_count": 229,
   "id": "409d4b22",
   "metadata": {},
   "outputs": [
    {
     "data": {
      "text/plain": [
       "0.5    646\n",
       "Name: Detection_Risk, dtype: int64"
      ]
     },
     "execution_count": 229,
     "metadata": {},
     "output_type": "execute_result"
    }
   ],
   "source": [
    "data.Detection_Risk.value_counts()"
   ]
  },
  {
   "cell_type": "code",
   "execution_count": 230,
   "id": "4d2885f8",
   "metadata": {},
   "outputs": [
    {
     "data": {
      "text/plain": [
       "<AxesSubplot:xlabel='Risk', ylabel='Detection_Risk'>"
      ]
     },
     "execution_count": 230,
     "metadata": {},
     "output_type": "execute_result"
    },
    {
     "data": {
      "image/png": "[encoded data removed]",
      "text/plain": [
       "<Figure size 1080x576 with 1 Axes>"
      ]
     },
     "metadata": {
      "needs_background": "light"
     },
     "output_type": "display_data"
    }
   ],
   "source": [
    "sns.barplot(y =data.Detection_Risk,x = data.Risk)"
   ]
  },
  {
   "cell_type": "code",
   "execution_count": 231,
   "id": "14cd6ad3",
   "metadata": {},
   "outputs": [
    {
     "data": {
      "text/html": [
       "<div>\n",
       "<style scoped>\n",
       "    .dataframe tbody tr th:only-of-type {\n",
       "        vertical-align: middle;\n",
       "    }\n",
       "\n",
       "    .dataframe tbody tr th {\n",
       "        vertical-align: top;\n",
       "    }\n",
       "\n",
       "    .dataframe thead th {\n",
       "        text-align: right;\n",
       "    }\n",
       "</style>\n",
       "<table border=\"1\" class=\"dataframe\">\n",
       "  <thead>\n",
       "    <tr style=\"text-align: right;\">\n",
       "      <th></th>\n",
       "      <th>count</th>\n",
       "      <th>mean</th>\n",
       "      <th>std</th>\n",
       "      <th>min</th>\n",
       "      <th>25%</th>\n",
       "      <th>50%</th>\n",
       "      <th>75%</th>\n",
       "      <th>max</th>\n",
       "    </tr>\n",
       "    <tr>\n",
       "      <th>Risk</th>\n",
       "      <th></th>\n",
       "      <th></th>\n",
       "      <th></th>\n",
       "      <th></th>\n",
       "      <th></th>\n",
       "      <th></th>\n",
       "      <th></th>\n",
       "      <th></th>\n",
       "    </tr>\n",
       "  </thead>\n",
       "  <tbody>\n",
       "    <tr>\n",
       "      <th>0</th>\n",
       "      <td>471.0</td>\n",
       "      <td>0.5</td>\n",
       "      <td>0.0</td>\n",
       "      <td>0.5</td>\n",
       "      <td>0.5</td>\n",
       "      <td>0.5</td>\n",
       "      <td>0.5</td>\n",
       "      <td>0.5</td>\n",
       "    </tr>\n",
       "    <tr>\n",
       "      <th>1</th>\n",
       "      <td>175.0</td>\n",
       "      <td>0.5</td>\n",
       "      <td>0.0</td>\n",
       "      <td>0.5</td>\n",
       "      <td>0.5</td>\n",
       "      <td>0.5</td>\n",
       "      <td>0.5</td>\n",
       "      <td>0.5</td>\n",
       "    </tr>\n",
       "  </tbody>\n",
       "</table>\n",
       "</div>"
      ],
      "text/plain": [
       "      count  mean  std  min  25%  50%  75%  max\n",
       "Risk                                           \n",
       "0     471.0   0.5  0.0  0.5  0.5  0.5  0.5  0.5\n",
       "1     175.0   0.5  0.0  0.5  0.5  0.5  0.5  0.5"
      ]
     },
     "execution_count": 231,
     "metadata": {},
     "output_type": "execute_result"
    }
   ],
   "source": [
    "data.groupby(\"Risk\")[\"Detection_Risk\"].describe()"
   ]
  },
  {
   "cell_type": "code",
   "execution_count": 232,
   "id": "1d1a6b0a",
   "metadata": {},
   "outputs": [
    {
     "data": {
      "text/html": [
       "<div>\n",
       "<style scoped>\n",
       "    .dataframe tbody tr th:only-of-type {\n",
       "        vertical-align: middle;\n",
       "    }\n",
       "\n",
       "    .dataframe tbody tr th {\n",
       "        vertical-align: top;\n",
       "    }\n",
       "\n",
       "    .dataframe thead th {\n",
       "        text-align: right;\n",
       "    }\n",
       "</style>\n",
       "<table border=\"1\" class=\"dataframe\">\n",
       "  <thead>\n",
       "    <tr style=\"text-align: right;\">\n",
       "      <th>Risk</th>\n",
       "      <th>0</th>\n",
       "      <th>1</th>\n",
       "      <th>All</th>\n",
       "    </tr>\n",
       "    <tr>\n",
       "      <th>Detection_Risk</th>\n",
       "      <th></th>\n",
       "      <th></th>\n",
       "      <th></th>\n",
       "    </tr>\n",
       "  </thead>\n",
       "  <tbody>\n",
       "    <tr>\n",
       "      <th>0.5</th>\n",
       "      <td>471</td>\n",
       "      <td>175</td>\n",
       "      <td>646</td>\n",
       "    </tr>\n",
       "    <tr>\n",
       "      <th>All</th>\n",
       "      <td>471</td>\n",
       "      <td>175</td>\n",
       "      <td>646</td>\n",
       "    </tr>\n",
       "  </tbody>\n",
       "</table>\n",
       "</div>"
      ],
      "text/plain": [
       "Risk              0    1  All\n",
       "Detection_Risk               \n",
       "0.5             471  175  646\n",
       "All             471  175  646"
      ]
     },
     "execution_count": 232,
     "metadata": {},
     "output_type": "execute_result"
    }
   ],
   "source": [
    "pd.crosstab(data.Detection_Risk,data.Risk,margins = True)"
   ]
  },
  {
   "cell_type": "code",
   "execution_count": 233,
   "id": "74233d49",
   "metadata": {},
   "outputs": [],
   "source": [
    "Risk_DetectionRisk = np.array([[471,173]])"
   ]
  },
  {
   "cell_type": "code",
   "execution_count": 234,
   "id": "7e0fd23a",
   "metadata": {},
   "outputs": [
    {
     "data": {
      "text/plain": [
       "(0.0, 1.0, 0, array([[471., 173.]]))"
      ]
     },
     "execution_count": 234,
     "metadata": {},
     "output_type": "execute_result"
    }
   ],
   "source": [
    "scipy.stats.chi2_contingency(Risk_DetectionRisk)"
   ]
  },
  {
   "cell_type": "markdown",
   "id": "d48a6dc0",
   "metadata": {},
   "source": [
    "it is a bad  predictior"
   ]
  },
  {
   "cell_type": "markdown",
   "id": "4d151523",
   "metadata": {},
   "source": [
    "# Audit_Risk"
   ]
  },
  {
   "cell_type": "code",
   "execution_count": 235,
   "id": "80dbe893",
   "metadata": {},
   "outputs": [
    {
     "data": {
      "text/plain": [
       "0.2800    52\n",
       "0.3156     5\n",
       "0.2828     4\n",
       "0.2972     4\n",
       "0.2808     4\n",
       "          ..\n",
       "2.9508     1\n",
       "3.9772     1\n",
       "7.7956     1\n",
       "0.3296     1\n",
       "9.3436     1\n",
       "Name: Audit_Risk, Length: 478, dtype: int64"
      ]
     },
     "execution_count": 235,
     "metadata": {},
     "output_type": "execute_result"
    }
   ],
   "source": [
    "data.Audit_Risk.value_counts()"
   ]
  },
  {
   "cell_type": "code",
   "execution_count": 236,
   "id": "1b042f8b",
   "metadata": {},
   "outputs": [
    {
     "data": {
      "text/plain": [
       "(array([552.,  38.,  29.,  11.,   5.,   5.,   2.,   0.,   2.,   2.]),\n",
       " array([ 0.28   ,  3.67584,  7.07168, 10.46752, 13.86336, 17.2592 ,\n",
       "        20.65504, 24.05088, 27.44672, 30.84256, 34.2384 ]),\n",
       " <BarContainer object of 10 artists>)"
      ]
     },
     "execution_count": 236,
     "metadata": {},
     "output_type": "execute_result"
    },
    {
     "data": {
      "image/png": "[encoded data removed]",
      "text/plain": [
       "<Figure size 1080x576 with 1 Axes>"
      ]
     },
     "metadata": {
      "needs_background": "light"
     },
     "output_type": "display_data"
    }
   ],
   "source": [
    "plt.hist(data.Audit_Risk)"
   ]
  },
  {
   "cell_type": "code",
   "execution_count": 237,
   "id": "fdb2412c",
   "metadata": {},
   "outputs": [
    {
     "data": {
      "text/plain": [
       "{'whiskers': [<matplotlib.lines.Line2D at 0x1e694cfb490>,\n",
       "  <matplotlib.lines.Line2D at 0x1e694cfb700>],\n",
       " 'caps': [<matplotlib.lines.Line2D at 0x1e694cfb4c0>,\n",
       "  <matplotlib.lines.Line2D at 0x1e69533d880>],\n",
       " 'boxes': [<matplotlib.patches.PathPatch at 0x1e69469cee0>],\n",
       " 'medians': [<matplotlib.lines.Line2D at 0x1e69533d9a0>],\n",
       " 'fliers': [<matplotlib.lines.Line2D at 0x1e69533d4f0>],\n",
       " 'means': []}"
      ]
     },
     "execution_count": 237,
     "metadata": {},
     "output_type": "execute_result"
    },
    {
     "data": {
      "image/png": "[encoded data removed]",
      "text/plain": [
       "<Figure size 1080x576 with 1 Axes>"
      ]
     },
     "metadata": {
      "needs_background": "light"
     },
     "output_type": "display_data"
    }
   ],
   "source": [
    "plt.boxplot(data.Audit_Risk,vert = False,patch_artist = True)"
   ]
  },
  {
   "cell_type": "code",
   "execution_count": 238,
   "id": "594e537e",
   "metadata": {},
   "outputs": [
    {
     "data": {
      "text/plain": [
       "0.8967"
      ]
     },
     "execution_count": 238,
     "metadata": {},
     "output_type": "execute_result"
    }
   ],
   "source": [
    "IQR = data.Audit_Risk.quantile(0.75)-data.Audit_Risk.quantile(0.25)\n",
    "IQR"
   ]
  },
  {
   "cell_type": "code",
   "execution_count": 239,
   "id": "7ab7123d",
   "metadata": {},
   "outputs": [
    {
     "data": {
      "text/plain": [
       "2.55035"
      ]
     },
     "execution_count": 239,
     "metadata": {},
     "output_type": "execute_result"
    }
   ],
   "source": [
    "upper_limit= data.Audit_Risk.quantile(0.75)+ (1.5*IQR)\n",
    "upper_limit"
   ]
  },
  {
   "cell_type": "code",
   "execution_count": 240,
   "id": "1973d2fd",
   "metadata": {},
   "outputs": [
    {
     "data": {
      "text/plain": [
       "-1.03645"
      ]
     },
     "execution_count": 240,
     "metadata": {},
     "output_type": "execute_result"
    }
   ],
   "source": [
    "lower_limit= data.Audit_Risk.quantile(0.25)- (1.5*IQR)\n",
    "lower_limit"
   ]
  },
  {
   "cell_type": "code",
   "execution_count": 241,
   "id": "ac6b57f0",
   "metadata": {},
   "outputs": [
    {
     "data": {
      "text/plain": [
       "116"
      ]
     },
     "execution_count": 241,
     "metadata": {},
     "output_type": "execute_result"
    }
   ],
   "source": [
    "len(data[data.Audit_Risk>upper_limit])"
   ]
  },
  {
   "cell_type": "code",
   "execution_count": 242,
   "id": "fb41524c",
   "metadata": {},
   "outputs": [],
   "source": [
    "data=data[data['Audit_Risk']<=30]"
   ]
  },
  {
   "cell_type": "code",
   "execution_count": 243,
   "id": "507821a0",
   "metadata": {},
   "outputs": [
    {
     "data": {
      "text/plain": [
       "(644, 27)"
      ]
     },
     "execution_count": 243,
     "metadata": {},
     "output_type": "execute_result"
    }
   ],
   "source": [
    "data.shape"
   ]
  },
  {
   "cell_type": "code",
   "execution_count": 244,
   "id": "55156b09",
   "metadata": {},
   "outputs": [
    {
     "data": {
      "text/plain": [
       "<AxesSubplot:xlabel='Risk', ylabel='Detection_Risk'>"
      ]
     },
     "execution_count": 244,
     "metadata": {},
     "output_type": "execute_result"
    },
    {
     "data": {
      "image/png": "[encoded data removed]",
      "text/plain": [
       "<Figure size 1080x576 with 1 Axes>"
      ]
     },
     "metadata": {
      "needs_background": "light"
     },
     "output_type": "display_data"
    }
   ],
   "source": [
    "sns.barplot(y =data.Detection_Risk,x = data.Risk)"
   ]
  },
  {
   "cell_type": "code",
   "execution_count": 245,
   "id": "1993d860",
   "metadata": {},
   "outputs": [
    {
     "data": {
      "text/html": [
       "<div>\n",
       "<style scoped>\n",
       "    .dataframe tbody tr th:only-of-type {\n",
       "        vertical-align: middle;\n",
       "    }\n",
       "\n",
       "    .dataframe tbody tr th {\n",
       "        vertical-align: top;\n",
       "    }\n",
       "\n",
       "    .dataframe thead th {\n",
       "        text-align: right;\n",
       "    }\n",
       "</style>\n",
       "<table border=\"1\" class=\"dataframe\">\n",
       "  <thead>\n",
       "    <tr style=\"text-align: right;\">\n",
       "      <th></th>\n",
       "      <th>count</th>\n",
       "      <th>mean</th>\n",
       "      <th>std</th>\n",
       "      <th>min</th>\n",
       "      <th>25%</th>\n",
       "      <th>50%</th>\n",
       "      <th>75%</th>\n",
       "      <th>max</th>\n",
       "    </tr>\n",
       "    <tr>\n",
       "      <th>Risk</th>\n",
       "      <th></th>\n",
       "      <th></th>\n",
       "      <th></th>\n",
       "      <th></th>\n",
       "      <th></th>\n",
       "      <th></th>\n",
       "      <th></th>\n",
       "      <th></th>\n",
       "    </tr>\n",
       "  </thead>\n",
       "  <tbody>\n",
       "    <tr>\n",
       "      <th>0</th>\n",
       "      <td>471.0</td>\n",
       "      <td>0.416806</td>\n",
       "      <td>0.186206</td>\n",
       "      <td>0.2800</td>\n",
       "      <td>0.2966</td>\n",
       "      <td>0.3312</td>\n",
       "      <td>0.4232</td>\n",
       "      <td>0.9948</td>\n",
       "    </tr>\n",
       "    <tr>\n",
       "      <th>1</th>\n",
       "      <td>173.0</td>\n",
       "      <td>5.790532</td>\n",
       "      <td>5.358255</td>\n",
       "      <td>1.0144</td>\n",
       "      <td>1.7148</td>\n",
       "      <td>3.9464</td>\n",
       "      <td>7.9576</td>\n",
       "      <td>29.3736</td>\n",
       "    </tr>\n",
       "  </tbody>\n",
       "</table>\n",
       "</div>"
      ],
      "text/plain": [
       "      count      mean       std     min     25%     50%     75%      max\n",
       "Risk                                                                    \n",
       "0     471.0  0.416806  0.186206  0.2800  0.2966  0.3312  0.4232   0.9948\n",
       "1     173.0  5.790532  5.358255  1.0144  1.7148  3.9464  7.9576  29.3736"
      ]
     },
     "execution_count": 245,
     "metadata": {},
     "output_type": "execute_result"
    }
   ],
   "source": [
    "data.groupby(\"Risk\")[\"Audit_Risk\"].describe()"
   ]
  },
  {
   "cell_type": "code",
   "execution_count": 246,
   "id": "348a58d7",
   "metadata": {},
   "outputs": [
    {
     "data": {
      "text/plain": [
       "(644, 27)"
      ]
     },
     "execution_count": 246,
     "metadata": {},
     "output_type": "execute_result"
    }
   ],
   "source": [
    "data.shape"
   ]
  },
  {
   "cell_type": "code",
   "execution_count": 247,
   "id": "43add37f",
   "metadata": {},
   "outputs": [
    {
     "data": {
      "text/plain": [
       "Ttest_indResult(statistic=-21.758582065362685, pvalue=4.701190543663919e-79)"
      ]
     },
     "execution_count": 247,
     "metadata": {},
     "output_type": "execute_result"
    }
   ],
   "source": [
    "df1=data[data.Risk==0]\n",
    "df1.shape\n",
    "df2=data[data.Risk==1]\n",
    "df2.shape\n",
    "scipy.stats.ttest_ind(df1.Audit_Risk,df2.Audit_Risk)"
   ]
  },
  {
   "cell_type": "code",
   "execution_count": 248,
   "id": "57b2f557",
   "metadata": {},
   "outputs": [
    {
     "name": "stdout",
     "output_type": "stream",
     "text": [
      "     Sector_score  LOCATION_ID  PARA_A  Score_A  Risk_A  PARA_B  Score_B  \\\n",
      "0            3.89           23    4.18      0.6   2.508    2.50      0.2   \n",
      "1            3.89            6    0.00      0.2   0.000    4.83      0.2   \n",
      "2            3.89            6    0.51      0.2   0.102    0.23      0.2   \n",
      "3            3.89            6    0.00      0.2   0.000   10.80      0.6   \n",
      "4            3.89            6    0.00      0.2   0.000    0.08      0.2   \n",
      "..            ...          ...     ...      ...     ...     ...      ...   \n",
      "771         55.57            9    0.49      0.2   0.098    0.40      0.2   \n",
      "772         55.57           16    0.47      0.2   0.094    0.37      0.2   \n",
      "773         55.57           14    0.24      0.2   0.048    0.04      0.2   \n",
      "774         55.57           18    0.20      0.2   0.040    0.00      0.2   \n",
      "775         55.57           15    0.00      0.2   0.000    0.00      0.2   \n",
      "\n",
      "     Risk_B  TOTAL  numbers  ...  PROB  RiSk_E  History  Prob  Risk_F  Score  \\\n",
      "0     0.500   6.68      5.0  ...   0.2     0.4        0   0.2     0.0    2.4   \n",
      "1     0.966   4.83      5.0  ...   0.2     0.4        0   0.2     0.0    2.0   \n",
      "2     0.046   0.74      5.0  ...   0.2     0.4        0   0.2     0.0    2.0   \n",
      "3     6.480  10.80      6.0  ...   0.2     0.4        0   0.2     0.0    4.4   \n",
      "4     0.016   0.08      5.0  ...   0.2     0.4        0   0.2     0.0    2.0   \n",
      "..      ...    ...      ...  ...   ...     ...      ...   ...     ...    ...   \n",
      "771   0.080   0.89      5.0  ...   0.2     0.4        0   0.2     0.0    2.0   \n",
      "772   0.074   0.84      5.0  ...   0.2     0.4        0   0.2     0.0    2.0   \n",
      "773   0.008   0.28      5.0  ...   0.2     0.4        0   0.2     0.0    2.0   \n",
      "774   0.000   0.20      5.0  ...   0.2     0.4        0   0.2     0.0    2.0   \n",
      "775   0.000   0.00      5.0  ...   0.2     0.4        0   0.2     0.0    2.0   \n",
      "\n",
      "     Inherent_Risk  CONTROL_RISK  Detection_Risk  Audit_Risk  \n",
      "0            8.574           0.4             0.5      1.7148  \n",
      "1            2.554           0.4             0.5      0.5108  \n",
      "2            1.548           0.4             0.5      0.3096  \n",
      "3           17.530           0.4             0.5      3.5060  \n",
      "4            1.416           0.4             0.5      0.2832  \n",
      "..             ...           ...             ...         ...  \n",
      "771          1.578           0.4             0.5      0.3156  \n",
      "772          1.568           0.4             0.5      0.3136  \n",
      "773          1.456           0.4             0.5      0.2912  \n",
      "774          1.440           0.4             0.5      0.2880  \n",
      "775          1.464           0.4             0.5      0.2928  \n",
      "\n",
      "[644 rows x 26 columns]\n"
     ]
    }
   ],
   "source": [
    "x=data.drop(['Risk'],axis=1)\n",
    "print(x)\n",
    "y=data[['Risk']]"
   ]
  },
  {
   "cell_type": "code",
   "execution_count": 249,
   "id": "370f5c3c",
   "metadata": {},
   "outputs": [],
   "source": [
    "from sklearn.model_selection import train_test_split"
   ]
  },
  {
   "cell_type": "code",
   "execution_count": 250,
   "id": "49d65076",
   "metadata": {},
   "outputs": [
    {
     "name": "stdout",
     "output_type": "stream",
     "text": [
      "483\n",
      "161\n",
      "483\n",
      "161\n"
     ]
    }
   ],
   "source": [
    "x_train,x_test,y_train,y_test=train_test_split(x,y,test_size=0.25)\n",
    "print(len(x_train))\n",
    "print(len(x_test))\n",
    "print(len(y_train))\n",
    "print(len(y_test))"
   ]
  },
  {
   "cell_type": "code",
   "execution_count": 260,
   "id": "604ec43e",
   "metadata": {},
   "outputs": [],
   "source": [
    "from sklearn import svm\n",
    "from sklearn.svm import SVC"
   ]
  },
  {
   "cell_type": "code",
   "execution_count": 261,
   "id": "f6c858ca",
   "metadata": {},
   "outputs": [
    {
     "data": {
      "text/plain": [
       "SVC(kernel='linear')"
      ]
     },
     "execution_count": 261,
     "metadata": {},
     "output_type": "execute_result"
    }
   ],
   "source": [
    "model3=SVC(kernel='linear')\n",
    "model3.fit(x_train,y_train)"
   ]
  },
  {
   "cell_type": "code",
   "execution_count": 262,
   "id": "7adb2900",
   "metadata": {},
   "outputs": [],
   "source": [
    "y_pred3=model3.predict(x_test)"
   ]
  },
  {
   "cell_type": "code",
   "execution_count": 263,
   "id": "37b4f91a",
   "metadata": {},
   "outputs": [
    {
     "name": "stdout",
     "output_type": "stream",
     "text": [
      "0.9937888198757764\n"
     ]
    }
   ],
   "source": [
    "print(accuracy_score(y_test,y_pred3))"
   ]
  },
  {
   "cell_type": "code",
   "execution_count": 264,
   "id": "f2d56ee5",
   "metadata": {},
   "outputs": [],
   "source": [
    "from sklearn.neighbors import KNeighborsClassifier"
   ]
  },
  {
   "cell_type": "code",
   "execution_count": 265,
   "id": "a82ae446",
   "metadata": {},
   "outputs": [
    {
     "data": {
      "text/plain": [
       "KNeighborsClassifier()"
      ]
     },
     "execution_count": 265,
     "metadata": {},
     "output_type": "execute_result"
    }
   ],
   "source": [
    "model4=KNeighborsClassifier()\n",
    "model4.fit(x_train,y_train)"
   ]
  },
  {
   "cell_type": "code",
   "execution_count": 266,
   "id": "b596142b",
   "metadata": {},
   "outputs": [],
   "source": [
    "y_pred4=model4.predict(x_test)"
   ]
  },
  {
   "cell_type": "code",
   "execution_count": 267,
   "id": "bb83f365",
   "metadata": {},
   "outputs": [
    {
     "name": "stdout",
     "output_type": "stream",
     "text": [
      "0.9875776397515528\n"
     ]
    }
   ],
   "source": [
    "print(accuracy_score(y_test,y_pred4))"
   ]
  }
 ],
 "metadata": {
  "kernelspec": {
   "display_name": "Python 3",
   "language": "python",
   "name": "python3"
  },
  "language_info": {
   "codemirror_mode": {
    "name": "ipython",
    "version": 3
   },
   "file_extension": ".py",
   "mimetype": "text/x-python",
   "name": "python",
   "nbconvert_exporter": "python",
   "pygments_lexer": "ipython3",
   "version": "3.8.8"
  }
 },
 "nbformat": 4,
 "nbformat_minor": 5
}
